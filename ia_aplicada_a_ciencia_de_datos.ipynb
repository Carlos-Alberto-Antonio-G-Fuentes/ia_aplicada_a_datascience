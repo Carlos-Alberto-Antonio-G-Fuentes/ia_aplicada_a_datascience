{
  "nbformat": 4,
  "nbformat_minor": 0,
  "metadata": {
    "colab": {
      "provenance": [],
      "include_colab_link": true
    },
    "kernelspec": {
      "name": "python3",
      "display_name": "Python 3"
    },
    "language_info": {
      "name": "python"
    }
  },
  "cells": [
    {
      "cell_type": "markdown",
      "metadata": {
        "id": "view-in-github",
        "colab_type": "text"
      },
      "source": [
        "<a href=\"https://colab.research.google.com/github/Carlos-Alberto-Antonio-G-Fuentes/ia_aplicada_a_datascience/blob/main/ia_aplicada_a_ciencia_de_datos.ipynb\" target=\"_parent\"><img src=\"https://colab.research.google.com/assets/colab-badge.svg\" alt=\"Open In Colab\"/></a>"
      ]
    },
    {
      "cell_type": "markdown",
      "source": [
        "# <strong><font color=\"7b71ff\">IA aplicada a Data Science: Utilizando IA en la construcción de visualizaciones de datos</font></strong>\n",
        "\n",
        "\n",
        "---"
      ],
      "metadata": {
        "id": "xH5tFkmkRt_n"
      }
    },
    {
      "cell_type": "markdown",
      "source": [
        "<img src=\"https://raw.githubusercontent.com/alura-cursos/ia-datascience-dataviz/main/imagens/logos/logo_branca_fundo_azul.png\" alt=\"inserir alt\">"
      ],
      "metadata": {
        "id": "sQ_RdGPMSWeu"
      }
    },
    {
      "cell_type": "markdown",
      "source": [
        "# **Aula 1 - Conociendo los datos**"
      ],
      "metadata": {
        "id": "heBVzgb0SeZH"
      }
    },
    {
      "cell_type": "markdown",
      "source": [
        " Zoop es una gran minorista que atiende a todas las regiones de México a través de su e-commerce. Es conocida por la amplia variedad de productos que ofrece, buscando satisfacer a todo tipo de público. Posee una serie de centros de distribución (CDs) para la entrega de sus productos, la mayoría de ellos situados en el estado de Mexico.\n",
        "\n",
        "Para gestionar su alcance, así como la facturación de su sector en tiendas online, consolida los datos en diferentes períodos de tiempo y evalúa estos datos para generar insights y tomar decisiones estratégicas en su negocio. En este proyecto, tendremos acceso a los datos de parte de su clientela de e-commerce durante el año 2023.\n",
        "\n",
        "Tú, como analista de datos de la empresa, necesitarás generar visualizaciones que ayuden en la elaboración de informes de acuerdo con algunas premisas proporcionadas por las partes interesadas, realizando un rápido análisis de la clientela que tenemos en la tienda virtual y de la facturación de la empresa.\n",
        "\n",
        "**Problema de negocio:**\n",
        "\n",
        "El equipo de datos de Zoop necesita extraer los datos y generar información a través de visuales que puedan presentarse a la directiva de la empresa, destacando los datos de facturación, perfil del cliente y otros indicadores que puedan ayudar en la toma de decisiones en su tienda online.\n",
        "\n",
        "**Base de datos**\n",
        "\n",
        "Vamos a importar dos bases de datos:\n",
        "\n",
        "Datos de los clientes del e-commerce de Zoop, separados por el código identificador de la compra.\n",
        "\n",
        "Datos de ventas del e-commerce de Zoop en 2023, separados por el código identificador de la compra.\n",
        "\n",
        "Estos datos se leerán desde el repositorio compartido en GitHub.\n",
        "\n",
        "**Desafío**\n",
        "\n",
        "Tú, como analista de datos del equipo de datos de Zoop, tienes el desafío de extraer los datos de ambas bases y construir visualizaciones que puedan agregar valor a la presentación de los resultados de Zoop en 2023. Para ello, se te presentarán 7 preguntas para que puedas contribuir en la construcción del storytelling de las ventas de la empresa.\n",
        "\n",
        "Para agilizar el proceso de análisis exploratorio de datos (AED) y la creación de visuales, utilizaremos la IA de ChatGPT como nuestra asistente, teniendo en cuenta el corto plazo para los análisis y la calidad de la entrega."
      ],
      "metadata": {
        "id": "o9mGhpCVSxFt"
      }
    },
    {
      "cell_type": "markdown",
      "source": [
        "## **1.2 - Obteniendo los datos**\n",
        "\n",
        "---\n",
        "\n"
      ],
      "metadata": {
        "id": "Gug4N1McUbeN"
      }
    },
    {
      "cell_type": "markdown",
      "source": [
        "Vamos inicialmente a proveer el link del repositorio con las dos bases que utilizaremos en el proyecto:"
      ],
      "metadata": {
        "id": "xI-XtppmUii6"
      }
    },
    {
      "cell_type": "code",
      "source": [
        "url_clientes = \"https://gist.githubusercontent.com/ahcamachod/d08898e1cc84c7271856e78d9558ca3d/raw/2f7e1fa53711efe6433a5c5ec79948f600591cb9/clientes_zoop.csv\"\n",
        "url_ventas = \"https://gist.githubusercontent.com/ahcamachod/966d7162a3c3a2769b8770b35abf1bcc/raw/d79941b3fa46a450f3611589abd8663399c1277b/ventas_zoop.csv\""
      ],
      "metadata": {
        "id": "t6OFqAHOSOeJ"
      },
      "execution_count": 1,
      "outputs": []
    },
    {
      "cell_type": "markdown",
      "source": [
        "Después de esta etapa, vamos a crear 2 dataframes con los datos de los clientes y de las ventas de Zoop separadamente y realizar una pequeña verificación en las tablas extraídas."
      ],
      "metadata": {
        "id": "B6dG4mpIU1st"
      }
    },
    {
      "cell_type": "code",
      "source": [
        "import pandas as pd\n",
        "import warnings\n",
        "warnings.filterwarnings('ignore')"
      ],
      "metadata": {
        "id": "pKX3QMfJ-vsP"
      },
      "execution_count": 2,
      "outputs": []
    },
    {
      "cell_type": "code",
      "source": [
        "clientes=pd.read_csv(url_clientes)\n",
        "ventas=pd.read_csv(url_ventas)"
      ],
      "metadata": {
        "id": "yN2USgCt-vor"
      },
      "execution_count": 4,
      "outputs": []
    },
    {
      "cell_type": "code",
      "source": [
        "clientes.head()\n"
      ],
      "metadata": {
        "id": "TP7FS5Va-vl6",
        "colab": {
          "base_uri": "https://localhost:8080/",
          "height": 206
        },
        "outputId": "48b20167-e893-4efb-a22b-59584e25871f"
      },
      "execution_count": 7,
      "outputs": [
        {
          "output_type": "execute_result",
          "data": {
            "text/plain": [
              "   ID_compra  ID_cliente            ciudad            estado    region  edad  \\\n",
              "0        904        8972  Oaxaca de Juárez            Oaxaca       Sur    49   \n",
              "1       4613        5120  Ciudad de México  Ciudad de México    Centro    49   \n",
              "2       5579        1847  Ciudad de México  Ciudad de México    Centro    24   \n",
              "3       2405        2846  Ciudad de México  Ciudad de México    Centro    38   \n",
              "4       2485        2715         Chihuahua         Chihuahua  Noroeste    30   \n",
              "\n",
              "  sexo_biologico cashback  nota  \n",
              "0      Masculino       No     9  \n",
              "1       Femenino       No     9  \n",
              "2       Femenino       No     8  \n",
              "3       Femenino       Sí     7  \n",
              "4       Femenino       No    10  "
            ],
            "text/html": [
              "\n",
              "  <div id=\"df-b10be1cb-ae25-4bd3-b217-20d882ccd2c0\" class=\"colab-df-container\">\n",
              "    <div>\n",
              "<style scoped>\n",
              "    .dataframe tbody tr th:only-of-type {\n",
              "        vertical-align: middle;\n",
              "    }\n",
              "\n",
              "    .dataframe tbody tr th {\n",
              "        vertical-align: top;\n",
              "    }\n",
              "\n",
              "    .dataframe thead th {\n",
              "        text-align: right;\n",
              "    }\n",
              "</style>\n",
              "<table border=\"1\" class=\"dataframe\">\n",
              "  <thead>\n",
              "    <tr style=\"text-align: right;\">\n",
              "      <th></th>\n",
              "      <th>ID_compra</th>\n",
              "      <th>ID_cliente</th>\n",
              "      <th>ciudad</th>\n",
              "      <th>estado</th>\n",
              "      <th>region</th>\n",
              "      <th>edad</th>\n",
              "      <th>sexo_biologico</th>\n",
              "      <th>cashback</th>\n",
              "      <th>nota</th>\n",
              "    </tr>\n",
              "  </thead>\n",
              "  <tbody>\n",
              "    <tr>\n",
              "      <th>0</th>\n",
              "      <td>904</td>\n",
              "      <td>8972</td>\n",
              "      <td>Oaxaca de Juárez</td>\n",
              "      <td>Oaxaca</td>\n",
              "      <td>Sur</td>\n",
              "      <td>49</td>\n",
              "      <td>Masculino</td>\n",
              "      <td>No</td>\n",
              "      <td>9</td>\n",
              "    </tr>\n",
              "    <tr>\n",
              "      <th>1</th>\n",
              "      <td>4613</td>\n",
              "      <td>5120</td>\n",
              "      <td>Ciudad de México</td>\n",
              "      <td>Ciudad de México</td>\n",
              "      <td>Centro</td>\n",
              "      <td>49</td>\n",
              "      <td>Femenino</td>\n",
              "      <td>No</td>\n",
              "      <td>9</td>\n",
              "    </tr>\n",
              "    <tr>\n",
              "      <th>2</th>\n",
              "      <td>5579</td>\n",
              "      <td>1847</td>\n",
              "      <td>Ciudad de México</td>\n",
              "      <td>Ciudad de México</td>\n",
              "      <td>Centro</td>\n",
              "      <td>24</td>\n",
              "      <td>Femenino</td>\n",
              "      <td>No</td>\n",
              "      <td>8</td>\n",
              "    </tr>\n",
              "    <tr>\n",
              "      <th>3</th>\n",
              "      <td>2405</td>\n",
              "      <td>2846</td>\n",
              "      <td>Ciudad de México</td>\n",
              "      <td>Ciudad de México</td>\n",
              "      <td>Centro</td>\n",
              "      <td>38</td>\n",
              "      <td>Femenino</td>\n",
              "      <td>Sí</td>\n",
              "      <td>7</td>\n",
              "    </tr>\n",
              "    <tr>\n",
              "      <th>4</th>\n",
              "      <td>2485</td>\n",
              "      <td>2715</td>\n",
              "      <td>Chihuahua</td>\n",
              "      <td>Chihuahua</td>\n",
              "      <td>Noroeste</td>\n",
              "      <td>30</td>\n",
              "      <td>Femenino</td>\n",
              "      <td>No</td>\n",
              "      <td>10</td>\n",
              "    </tr>\n",
              "  </tbody>\n",
              "</table>\n",
              "</div>\n",
              "    <div class=\"colab-df-buttons\">\n",
              "\n",
              "  <div class=\"colab-df-container\">\n",
              "    <button class=\"colab-df-convert\" onclick=\"convertToInteractive('df-b10be1cb-ae25-4bd3-b217-20d882ccd2c0')\"\n",
              "            title=\"Convert this dataframe to an interactive table.\"\n",
              "            style=\"display:none;\">\n",
              "\n",
              "  <svg xmlns=\"http://www.w3.org/2000/svg\" height=\"24px\" viewBox=\"0 -960 960 960\">\n",
              "    <path d=\"M120-120v-720h720v720H120Zm60-500h600v-160H180v160Zm220 220h160v-160H400v160Zm0 220h160v-160H400v160ZM180-400h160v-160H180v160Zm440 0h160v-160H620v160ZM180-180h160v-160H180v160Zm440 0h160v-160H620v160Z\"/>\n",
              "  </svg>\n",
              "    </button>\n",
              "\n",
              "  <style>\n",
              "    .colab-df-container {\n",
              "      display:flex;\n",
              "      gap: 12px;\n",
              "    }\n",
              "\n",
              "    .colab-df-convert {\n",
              "      background-color: #E8F0FE;\n",
              "      border: none;\n",
              "      border-radius: 50%;\n",
              "      cursor: pointer;\n",
              "      display: none;\n",
              "      fill: #1967D2;\n",
              "      height: 32px;\n",
              "      padding: 0 0 0 0;\n",
              "      width: 32px;\n",
              "    }\n",
              "\n",
              "    .colab-df-convert:hover {\n",
              "      background-color: #E2EBFA;\n",
              "      box-shadow: 0px 1px 2px rgba(60, 64, 67, 0.3), 0px 1px 3px 1px rgba(60, 64, 67, 0.15);\n",
              "      fill: #174EA6;\n",
              "    }\n",
              "\n",
              "    .colab-df-buttons div {\n",
              "      margin-bottom: 4px;\n",
              "    }\n",
              "\n",
              "    [theme=dark] .colab-df-convert {\n",
              "      background-color: #3B4455;\n",
              "      fill: #D2E3FC;\n",
              "    }\n",
              "\n",
              "    [theme=dark] .colab-df-convert:hover {\n",
              "      background-color: #434B5C;\n",
              "      box-shadow: 0px 1px 3px 1px rgba(0, 0, 0, 0.15);\n",
              "      filter: drop-shadow(0px 1px 2px rgba(0, 0, 0, 0.3));\n",
              "      fill: #FFFFFF;\n",
              "    }\n",
              "  </style>\n",
              "\n",
              "    <script>\n",
              "      const buttonEl =\n",
              "        document.querySelector('#df-b10be1cb-ae25-4bd3-b217-20d882ccd2c0 button.colab-df-convert');\n",
              "      buttonEl.style.display =\n",
              "        google.colab.kernel.accessAllowed ? 'block' : 'none';\n",
              "\n",
              "      async function convertToInteractive(key) {\n",
              "        const element = document.querySelector('#df-b10be1cb-ae25-4bd3-b217-20d882ccd2c0');\n",
              "        const dataTable =\n",
              "          await google.colab.kernel.invokeFunction('convertToInteractive',\n",
              "                                                    [key], {});\n",
              "        if (!dataTable) return;\n",
              "\n",
              "        const docLinkHtml = 'Like what you see? Visit the ' +\n",
              "          '<a target=\"_blank\" href=https://colab.research.google.com/notebooks/data_table.ipynb>data table notebook</a>'\n",
              "          + ' to learn more about interactive tables.';\n",
              "        element.innerHTML = '';\n",
              "        dataTable['output_type'] = 'display_data';\n",
              "        await google.colab.output.renderOutput(dataTable, element);\n",
              "        const docLink = document.createElement('div');\n",
              "        docLink.innerHTML = docLinkHtml;\n",
              "        element.appendChild(docLink);\n",
              "      }\n",
              "    </script>\n",
              "  </div>\n",
              "\n",
              "\n",
              "    <div id=\"df-839f4bf5-99d9-41d8-a0e9-643b0da74362\">\n",
              "      <button class=\"colab-df-quickchart\" onclick=\"quickchart('df-839f4bf5-99d9-41d8-a0e9-643b0da74362')\"\n",
              "                title=\"Suggest charts\"\n",
              "                style=\"display:none;\">\n",
              "\n",
              "<svg xmlns=\"http://www.w3.org/2000/svg\" height=\"24px\"viewBox=\"0 0 24 24\"\n",
              "     width=\"24px\">\n",
              "    <g>\n",
              "        <path d=\"M19 3H5c-1.1 0-2 .9-2 2v14c0 1.1.9 2 2 2h14c1.1 0 2-.9 2-2V5c0-1.1-.9-2-2-2zM9 17H7v-7h2v7zm4 0h-2V7h2v10zm4 0h-2v-4h2v4z\"/>\n",
              "    </g>\n",
              "</svg>\n",
              "      </button>\n",
              "\n",
              "<style>\n",
              "  .colab-df-quickchart {\n",
              "      --bg-color: #E8F0FE;\n",
              "      --fill-color: #1967D2;\n",
              "      --hover-bg-color: #E2EBFA;\n",
              "      --hover-fill-color: #174EA6;\n",
              "      --disabled-fill-color: #AAA;\n",
              "      --disabled-bg-color: #DDD;\n",
              "  }\n",
              "\n",
              "  [theme=dark] .colab-df-quickchart {\n",
              "      --bg-color: #3B4455;\n",
              "      --fill-color: #D2E3FC;\n",
              "      --hover-bg-color: #434B5C;\n",
              "      --hover-fill-color: #FFFFFF;\n",
              "      --disabled-bg-color: #3B4455;\n",
              "      --disabled-fill-color: #666;\n",
              "  }\n",
              "\n",
              "  .colab-df-quickchart {\n",
              "    background-color: var(--bg-color);\n",
              "    border: none;\n",
              "    border-radius: 50%;\n",
              "    cursor: pointer;\n",
              "    display: none;\n",
              "    fill: var(--fill-color);\n",
              "    height: 32px;\n",
              "    padding: 0;\n",
              "    width: 32px;\n",
              "  }\n",
              "\n",
              "  .colab-df-quickchart:hover {\n",
              "    background-color: var(--hover-bg-color);\n",
              "    box-shadow: 0 1px 2px rgba(60, 64, 67, 0.3), 0 1px 3px 1px rgba(60, 64, 67, 0.15);\n",
              "    fill: var(--button-hover-fill-color);\n",
              "  }\n",
              "\n",
              "  .colab-df-quickchart-complete:disabled,\n",
              "  .colab-df-quickchart-complete:disabled:hover {\n",
              "    background-color: var(--disabled-bg-color);\n",
              "    fill: var(--disabled-fill-color);\n",
              "    box-shadow: none;\n",
              "  }\n",
              "\n",
              "  .colab-df-spinner {\n",
              "    border: 2px solid var(--fill-color);\n",
              "    border-color: transparent;\n",
              "    border-bottom-color: var(--fill-color);\n",
              "    animation:\n",
              "      spin 1s steps(1) infinite;\n",
              "  }\n",
              "\n",
              "  @keyframes spin {\n",
              "    0% {\n",
              "      border-color: transparent;\n",
              "      border-bottom-color: var(--fill-color);\n",
              "      border-left-color: var(--fill-color);\n",
              "    }\n",
              "    20% {\n",
              "      border-color: transparent;\n",
              "      border-left-color: var(--fill-color);\n",
              "      border-top-color: var(--fill-color);\n",
              "    }\n",
              "    30% {\n",
              "      border-color: transparent;\n",
              "      border-left-color: var(--fill-color);\n",
              "      border-top-color: var(--fill-color);\n",
              "      border-right-color: var(--fill-color);\n",
              "    }\n",
              "    40% {\n",
              "      border-color: transparent;\n",
              "      border-right-color: var(--fill-color);\n",
              "      border-top-color: var(--fill-color);\n",
              "    }\n",
              "    60% {\n",
              "      border-color: transparent;\n",
              "      border-right-color: var(--fill-color);\n",
              "    }\n",
              "    80% {\n",
              "      border-color: transparent;\n",
              "      border-right-color: var(--fill-color);\n",
              "      border-bottom-color: var(--fill-color);\n",
              "    }\n",
              "    90% {\n",
              "      border-color: transparent;\n",
              "      border-bottom-color: var(--fill-color);\n",
              "    }\n",
              "  }\n",
              "</style>\n",
              "\n",
              "      <script>\n",
              "        async function quickchart(key) {\n",
              "          const quickchartButtonEl =\n",
              "            document.querySelector('#' + key + ' button');\n",
              "          quickchartButtonEl.disabled = true;  // To prevent multiple clicks.\n",
              "          quickchartButtonEl.classList.add('colab-df-spinner');\n",
              "          try {\n",
              "            const charts = await google.colab.kernel.invokeFunction(\n",
              "                'suggestCharts', [key], {});\n",
              "          } catch (error) {\n",
              "            console.error('Error during call to suggestCharts:', error);\n",
              "          }\n",
              "          quickchartButtonEl.classList.remove('colab-df-spinner');\n",
              "          quickchartButtonEl.classList.add('colab-df-quickchart-complete');\n",
              "        }\n",
              "        (() => {\n",
              "          let quickchartButtonEl =\n",
              "            document.querySelector('#df-839f4bf5-99d9-41d8-a0e9-643b0da74362 button');\n",
              "          quickchartButtonEl.style.display =\n",
              "            google.colab.kernel.accessAllowed ? 'block' : 'none';\n",
              "        })();\n",
              "      </script>\n",
              "    </div>\n",
              "\n",
              "    </div>\n",
              "  </div>\n"
            ],
            "application/vnd.google.colaboratory.intrinsic+json": {
              "type": "dataframe",
              "variable_name": "clientes",
              "summary": "{\n  \"name\": \"clientes\",\n  \"rows\": 6169,\n  \"fields\": [\n    {\n      \"column\": \"ID_compra\",\n      \"properties\": {\n        \"dtype\": \"number\",\n        \"std\": 1780,\n        \"min\": 1,\n        \"max\": 6169,\n        \"num_unique_values\": 6169,\n        \"samples\": [\n          1418,\n          5069,\n          64\n        ],\n        \"semantic_type\": \"\",\n        \"description\": \"\"\n      }\n    },\n    {\n      \"column\": \"ID_cliente\",\n      \"properties\": {\n        \"dtype\": \"number\",\n        \"std\": 2610,\n        \"min\": 1005,\n        \"max\": 9999,\n        \"num_unique_values\": 4453,\n        \"samples\": [\n          5545,\n          1982,\n          6905\n        ],\n        \"semantic_type\": \"\",\n        \"description\": \"\"\n      }\n    },\n    {\n      \"column\": \"ciudad\",\n      \"properties\": {\n        \"dtype\": \"category\",\n        \"num_unique_values\": 94,\n        \"samples\": [\n          \"Tizimin\",\n          \"Tuxtla Guti\\u00e9rrez\",\n          \"Coacalco de Berrioz\\u00e1bal\"\n        ],\n        \"semantic_type\": \"\",\n        \"description\": \"\"\n      }\n    },\n    {\n      \"column\": \"estado\",\n      \"properties\": {\n        \"dtype\": \"category\",\n        \"num_unique_values\": 28,\n        \"samples\": [\n          \"Veracruz\",\n          \"Campeche\",\n          \"Estado de M\\u00e9xico\"\n        ],\n        \"semantic_type\": \"\",\n        \"description\": \"\"\n      }\n    },\n    {\n      \"column\": \"region\",\n      \"properties\": {\n        \"dtype\": \"category\",\n        \"num_unique_values\": 9,\n        \"samples\": [\n          \"Centro-Norte\",\n          \"Centro\",\n          \"Centro-Sur\"\n        ],\n        \"semantic_type\": \"\",\n        \"description\": \"\"\n      }\n    },\n    {\n      \"column\": \"edad\",\n      \"properties\": {\n        \"dtype\": \"number\",\n        \"std\": 9,\n        \"min\": 18,\n        \"max\": 70,\n        \"num_unique_values\": 53,\n        \"samples\": [\n          45,\n          57,\n          66\n        ],\n        \"semantic_type\": \"\",\n        \"description\": \"\"\n      }\n    },\n    {\n      \"column\": \"sexo_biologico\",\n      \"properties\": {\n        \"dtype\": \"category\",\n        \"num_unique_values\": 2,\n        \"samples\": [\n          \"Femenino\",\n          \"Masculino\"\n        ],\n        \"semantic_type\": \"\",\n        \"description\": \"\"\n      }\n    },\n    {\n      \"column\": \"cashback\",\n      \"properties\": {\n        \"dtype\": \"category\",\n        \"num_unique_values\": 2,\n        \"samples\": [\n          \"S\\u00ed\",\n          \"No\"\n        ],\n        \"semantic_type\": \"\",\n        \"description\": \"\"\n      }\n    },\n    {\n      \"column\": \"nota\",\n      \"properties\": {\n        \"dtype\": \"number\",\n        \"std\": 1,\n        \"min\": 0,\n        \"max\": 10,\n        \"num_unique_values\": 11,\n        \"samples\": [\n          4,\n          9\n        ],\n        \"semantic_type\": \"\",\n        \"description\": \"\"\n      }\n    }\n  ]\n}"
            }
          },
          "metadata": {},
          "execution_count": 7
        }
      ]
    },
    {
      "cell_type": "code",
      "source": [
        "ventas.head()"
      ],
      "metadata": {
        "id": "ssCTn_Em-xp6",
        "colab": {
          "base_uri": "https://localhost:8080/",
          "height": 206
        },
        "outputId": "21f216ab-6ac1-4eeb-b53c-a401d83b3f00"
      },
      "execution_count": 8,
      "outputs": [
        {
          "output_type": "execute_result",
          "data": {
            "text/plain": [
              "   ID_compra       fecha horario                    categoria  \\\n",
              "0          6  2023-01-03   20:40                 Electrónicos   \n",
              "1          5  2023-01-03   21:48  Herramientas y construcción   \n",
              "2          9  2023-01-03   17:08            Belleza e higiene   \n",
              "3          4  2023-01-03   14:29  Herramientas y construcción   \n",
              "4          8  2023-01-03   18:02            Belleza e higiene   \n",
              "\n",
              "   precio_unitario  cantidad   envio         metodo_pago  \n",
              "0           4457.9         4  713.26              Paypal  \n",
              "1            115.9         1    0.00       Transferencia  \n",
              "2             68.9         2   13.78  Tarjeta de Crédito  \n",
              "3             80.9         5   40.45       Transferencia  \n",
              "4            165.0         4    0.00       Transferencia  "
            ],
            "text/html": [
              "\n",
              "  <div id=\"df-a362d343-7ddd-4d83-a9a9-a7cc7cd49bf5\" class=\"colab-df-container\">\n",
              "    <div>\n",
              "<style scoped>\n",
              "    .dataframe tbody tr th:only-of-type {\n",
              "        vertical-align: middle;\n",
              "    }\n",
              "\n",
              "    .dataframe tbody tr th {\n",
              "        vertical-align: top;\n",
              "    }\n",
              "\n",
              "    .dataframe thead th {\n",
              "        text-align: right;\n",
              "    }\n",
              "</style>\n",
              "<table border=\"1\" class=\"dataframe\">\n",
              "  <thead>\n",
              "    <tr style=\"text-align: right;\">\n",
              "      <th></th>\n",
              "      <th>ID_compra</th>\n",
              "      <th>fecha</th>\n",
              "      <th>horario</th>\n",
              "      <th>categoria</th>\n",
              "      <th>precio_unitario</th>\n",
              "      <th>cantidad</th>\n",
              "      <th>envio</th>\n",
              "      <th>metodo_pago</th>\n",
              "    </tr>\n",
              "  </thead>\n",
              "  <tbody>\n",
              "    <tr>\n",
              "      <th>0</th>\n",
              "      <td>6</td>\n",
              "      <td>2023-01-03</td>\n",
              "      <td>20:40</td>\n",
              "      <td>Electrónicos</td>\n",
              "      <td>4457.9</td>\n",
              "      <td>4</td>\n",
              "      <td>713.26</td>\n",
              "      <td>Paypal</td>\n",
              "    </tr>\n",
              "    <tr>\n",
              "      <th>1</th>\n",
              "      <td>5</td>\n",
              "      <td>2023-01-03</td>\n",
              "      <td>21:48</td>\n",
              "      <td>Herramientas y construcción</td>\n",
              "      <td>115.9</td>\n",
              "      <td>1</td>\n",
              "      <td>0.00</td>\n",
              "      <td>Transferencia</td>\n",
              "    </tr>\n",
              "    <tr>\n",
              "      <th>2</th>\n",
              "      <td>9</td>\n",
              "      <td>2023-01-03</td>\n",
              "      <td>17:08</td>\n",
              "      <td>Belleza e higiene</td>\n",
              "      <td>68.9</td>\n",
              "      <td>2</td>\n",
              "      <td>13.78</td>\n",
              "      <td>Tarjeta de Crédito</td>\n",
              "    </tr>\n",
              "    <tr>\n",
              "      <th>3</th>\n",
              "      <td>4</td>\n",
              "      <td>2023-01-03</td>\n",
              "      <td>14:29</td>\n",
              "      <td>Herramientas y construcción</td>\n",
              "      <td>80.9</td>\n",
              "      <td>5</td>\n",
              "      <td>40.45</td>\n",
              "      <td>Transferencia</td>\n",
              "    </tr>\n",
              "    <tr>\n",
              "      <th>4</th>\n",
              "      <td>8</td>\n",
              "      <td>2023-01-03</td>\n",
              "      <td>18:02</td>\n",
              "      <td>Belleza e higiene</td>\n",
              "      <td>165.0</td>\n",
              "      <td>4</td>\n",
              "      <td>0.00</td>\n",
              "      <td>Transferencia</td>\n",
              "    </tr>\n",
              "  </tbody>\n",
              "</table>\n",
              "</div>\n",
              "    <div class=\"colab-df-buttons\">\n",
              "\n",
              "  <div class=\"colab-df-container\">\n",
              "    <button class=\"colab-df-convert\" onclick=\"convertToInteractive('df-a362d343-7ddd-4d83-a9a9-a7cc7cd49bf5')\"\n",
              "            title=\"Convert this dataframe to an interactive table.\"\n",
              "            style=\"display:none;\">\n",
              "\n",
              "  <svg xmlns=\"http://www.w3.org/2000/svg\" height=\"24px\" viewBox=\"0 -960 960 960\">\n",
              "    <path d=\"M120-120v-720h720v720H120Zm60-500h600v-160H180v160Zm220 220h160v-160H400v160Zm0 220h160v-160H400v160ZM180-400h160v-160H180v160Zm440 0h160v-160H620v160ZM180-180h160v-160H180v160Zm440 0h160v-160H620v160Z\"/>\n",
              "  </svg>\n",
              "    </button>\n",
              "\n",
              "  <style>\n",
              "    .colab-df-container {\n",
              "      display:flex;\n",
              "      gap: 12px;\n",
              "    }\n",
              "\n",
              "    .colab-df-convert {\n",
              "      background-color: #E8F0FE;\n",
              "      border: none;\n",
              "      border-radius: 50%;\n",
              "      cursor: pointer;\n",
              "      display: none;\n",
              "      fill: #1967D2;\n",
              "      height: 32px;\n",
              "      padding: 0 0 0 0;\n",
              "      width: 32px;\n",
              "    }\n",
              "\n",
              "    .colab-df-convert:hover {\n",
              "      background-color: #E2EBFA;\n",
              "      box-shadow: 0px 1px 2px rgba(60, 64, 67, 0.3), 0px 1px 3px 1px rgba(60, 64, 67, 0.15);\n",
              "      fill: #174EA6;\n",
              "    }\n",
              "\n",
              "    .colab-df-buttons div {\n",
              "      margin-bottom: 4px;\n",
              "    }\n",
              "\n",
              "    [theme=dark] .colab-df-convert {\n",
              "      background-color: #3B4455;\n",
              "      fill: #D2E3FC;\n",
              "    }\n",
              "\n",
              "    [theme=dark] .colab-df-convert:hover {\n",
              "      background-color: #434B5C;\n",
              "      box-shadow: 0px 1px 3px 1px rgba(0, 0, 0, 0.15);\n",
              "      filter: drop-shadow(0px 1px 2px rgba(0, 0, 0, 0.3));\n",
              "      fill: #FFFFFF;\n",
              "    }\n",
              "  </style>\n",
              "\n",
              "    <script>\n",
              "      const buttonEl =\n",
              "        document.querySelector('#df-a362d343-7ddd-4d83-a9a9-a7cc7cd49bf5 button.colab-df-convert');\n",
              "      buttonEl.style.display =\n",
              "        google.colab.kernel.accessAllowed ? 'block' : 'none';\n",
              "\n",
              "      async function convertToInteractive(key) {\n",
              "        const element = document.querySelector('#df-a362d343-7ddd-4d83-a9a9-a7cc7cd49bf5');\n",
              "        const dataTable =\n",
              "          await google.colab.kernel.invokeFunction('convertToInteractive',\n",
              "                                                    [key], {});\n",
              "        if (!dataTable) return;\n",
              "\n",
              "        const docLinkHtml = 'Like what you see? Visit the ' +\n",
              "          '<a target=\"_blank\" href=https://colab.research.google.com/notebooks/data_table.ipynb>data table notebook</a>'\n",
              "          + ' to learn more about interactive tables.';\n",
              "        element.innerHTML = '';\n",
              "        dataTable['output_type'] = 'display_data';\n",
              "        await google.colab.output.renderOutput(dataTable, element);\n",
              "        const docLink = document.createElement('div');\n",
              "        docLink.innerHTML = docLinkHtml;\n",
              "        element.appendChild(docLink);\n",
              "      }\n",
              "    </script>\n",
              "  </div>\n",
              "\n",
              "\n",
              "    <div id=\"df-91804ca4-89ce-4cee-9294-451337ec7880\">\n",
              "      <button class=\"colab-df-quickchart\" onclick=\"quickchart('df-91804ca4-89ce-4cee-9294-451337ec7880')\"\n",
              "                title=\"Suggest charts\"\n",
              "                style=\"display:none;\">\n",
              "\n",
              "<svg xmlns=\"http://www.w3.org/2000/svg\" height=\"24px\"viewBox=\"0 0 24 24\"\n",
              "     width=\"24px\">\n",
              "    <g>\n",
              "        <path d=\"M19 3H5c-1.1 0-2 .9-2 2v14c0 1.1.9 2 2 2h14c1.1 0 2-.9 2-2V5c0-1.1-.9-2-2-2zM9 17H7v-7h2v7zm4 0h-2V7h2v10zm4 0h-2v-4h2v4z\"/>\n",
              "    </g>\n",
              "</svg>\n",
              "      </button>\n",
              "\n",
              "<style>\n",
              "  .colab-df-quickchart {\n",
              "      --bg-color: #E8F0FE;\n",
              "      --fill-color: #1967D2;\n",
              "      --hover-bg-color: #E2EBFA;\n",
              "      --hover-fill-color: #174EA6;\n",
              "      --disabled-fill-color: #AAA;\n",
              "      --disabled-bg-color: #DDD;\n",
              "  }\n",
              "\n",
              "  [theme=dark] .colab-df-quickchart {\n",
              "      --bg-color: #3B4455;\n",
              "      --fill-color: #D2E3FC;\n",
              "      --hover-bg-color: #434B5C;\n",
              "      --hover-fill-color: #FFFFFF;\n",
              "      --disabled-bg-color: #3B4455;\n",
              "      --disabled-fill-color: #666;\n",
              "  }\n",
              "\n",
              "  .colab-df-quickchart {\n",
              "    background-color: var(--bg-color);\n",
              "    border: none;\n",
              "    border-radius: 50%;\n",
              "    cursor: pointer;\n",
              "    display: none;\n",
              "    fill: var(--fill-color);\n",
              "    height: 32px;\n",
              "    padding: 0;\n",
              "    width: 32px;\n",
              "  }\n",
              "\n",
              "  .colab-df-quickchart:hover {\n",
              "    background-color: var(--hover-bg-color);\n",
              "    box-shadow: 0 1px 2px rgba(60, 64, 67, 0.3), 0 1px 3px 1px rgba(60, 64, 67, 0.15);\n",
              "    fill: var(--button-hover-fill-color);\n",
              "  }\n",
              "\n",
              "  .colab-df-quickchart-complete:disabled,\n",
              "  .colab-df-quickchart-complete:disabled:hover {\n",
              "    background-color: var(--disabled-bg-color);\n",
              "    fill: var(--disabled-fill-color);\n",
              "    box-shadow: none;\n",
              "  }\n",
              "\n",
              "  .colab-df-spinner {\n",
              "    border: 2px solid var(--fill-color);\n",
              "    border-color: transparent;\n",
              "    border-bottom-color: var(--fill-color);\n",
              "    animation:\n",
              "      spin 1s steps(1) infinite;\n",
              "  }\n",
              "\n",
              "  @keyframes spin {\n",
              "    0% {\n",
              "      border-color: transparent;\n",
              "      border-bottom-color: var(--fill-color);\n",
              "      border-left-color: var(--fill-color);\n",
              "    }\n",
              "    20% {\n",
              "      border-color: transparent;\n",
              "      border-left-color: var(--fill-color);\n",
              "      border-top-color: var(--fill-color);\n",
              "    }\n",
              "    30% {\n",
              "      border-color: transparent;\n",
              "      border-left-color: var(--fill-color);\n",
              "      border-top-color: var(--fill-color);\n",
              "      border-right-color: var(--fill-color);\n",
              "    }\n",
              "    40% {\n",
              "      border-color: transparent;\n",
              "      border-right-color: var(--fill-color);\n",
              "      border-top-color: var(--fill-color);\n",
              "    }\n",
              "    60% {\n",
              "      border-color: transparent;\n",
              "      border-right-color: var(--fill-color);\n",
              "    }\n",
              "    80% {\n",
              "      border-color: transparent;\n",
              "      border-right-color: var(--fill-color);\n",
              "      border-bottom-color: var(--fill-color);\n",
              "    }\n",
              "    90% {\n",
              "      border-color: transparent;\n",
              "      border-bottom-color: var(--fill-color);\n",
              "    }\n",
              "  }\n",
              "</style>\n",
              "\n",
              "      <script>\n",
              "        async function quickchart(key) {\n",
              "          const quickchartButtonEl =\n",
              "            document.querySelector('#' + key + ' button');\n",
              "          quickchartButtonEl.disabled = true;  // To prevent multiple clicks.\n",
              "          quickchartButtonEl.classList.add('colab-df-spinner');\n",
              "          try {\n",
              "            const charts = await google.colab.kernel.invokeFunction(\n",
              "                'suggestCharts', [key], {});\n",
              "          } catch (error) {\n",
              "            console.error('Error during call to suggestCharts:', error);\n",
              "          }\n",
              "          quickchartButtonEl.classList.remove('colab-df-spinner');\n",
              "          quickchartButtonEl.classList.add('colab-df-quickchart-complete');\n",
              "        }\n",
              "        (() => {\n",
              "          let quickchartButtonEl =\n",
              "            document.querySelector('#df-91804ca4-89ce-4cee-9294-451337ec7880 button');\n",
              "          quickchartButtonEl.style.display =\n",
              "            google.colab.kernel.accessAllowed ? 'block' : 'none';\n",
              "        })();\n",
              "      </script>\n",
              "    </div>\n",
              "\n",
              "    </div>\n",
              "  </div>\n"
            ],
            "application/vnd.google.colaboratory.intrinsic+json": {
              "type": "dataframe",
              "variable_name": "ventas",
              "summary": "{\n  \"name\": \"ventas\",\n  \"rows\": 6169,\n  \"fields\": [\n    {\n      \"column\": \"ID_compra\",\n      \"properties\": {\n        \"dtype\": \"number\",\n        \"std\": 1780,\n        \"min\": 1,\n        \"max\": 6169,\n        \"num_unique_values\": 6169,\n        \"samples\": [\n          5998,\n          409,\n          1489\n        ],\n        \"semantic_type\": \"\",\n        \"description\": \"\"\n      }\n    },\n    {\n      \"column\": \"fecha\",\n      \"properties\": {\n        \"dtype\": \"object\",\n        \"num_unique_values\": 304,\n        \"samples\": [\n          \"2023-08-05\",\n          \"2023-07-06\",\n          \"2023-05-17\"\n        ],\n        \"semantic_type\": \"\",\n        \"description\": \"\"\n      }\n    },\n    {\n      \"column\": \"horario\",\n      \"properties\": {\n        \"dtype\": \"object\",\n        \"num_unique_values\": 659,\n        \"samples\": [\n          \"19:04\",\n          \"21:53\",\n          \"21:42\"\n        ],\n        \"semantic_type\": \"\",\n        \"description\": \"\"\n      }\n    },\n    {\n      \"column\": \"categoria\",\n      \"properties\": {\n        \"dtype\": \"category\",\n        \"num_unique_values\": 8,\n        \"samples\": [\n          \"Herramientas y construcci\\u00f3n\",\n          \"Libros\",\n          \"Electr\\u00f3nicos\"\n        ],\n        \"semantic_type\": \"\",\n        \"description\": \"\"\n      }\n    },\n    {\n      \"column\": \"precio_unitario\",\n      \"properties\": {\n        \"dtype\": \"number\",\n        \"std\": 1852.0643423194142,\n        \"min\": 2.9,\n        \"max\": 8000.0,\n        \"num_unique_values\": 1655,\n        \"samples\": [\n          6291.9,\n          52.9,\n          31.0\n        ],\n        \"semantic_type\": \"\",\n        \"description\": \"\"\n      }\n    },\n    {\n      \"column\": \"cantidad\",\n      \"properties\": {\n        \"dtype\": \"number\",\n        \"std\": 1,\n        \"min\": 1,\n        \"max\": 5,\n        \"num_unique_values\": 5,\n        \"samples\": [\n          1,\n          3,\n          2\n        ],\n        \"semantic_type\": \"\",\n        \"description\": \"\"\n      }\n    },\n    {\n      \"column\": \"envio\",\n      \"properties\": {\n        \"dtype\": \"number\",\n        \"std\": 366.14922483792856,\n        \"min\": 0.0,\n        \"max\": 4521.54,\n        \"num_unique_values\": 2934,\n        \"samples\": [\n          30.58,\n          21.21,\n          14.23\n        ],\n        \"semantic_type\": \"\",\n        \"description\": \"\"\n      }\n    },\n    {\n      \"column\": \"metodo_pago\",\n      \"properties\": {\n        \"dtype\": \"category\",\n        \"num_unique_values\": 4,\n        \"samples\": [\n          \"Transferencia\",\n          \"Tarjeta de D\\u00e9bito\",\n          \"Paypal\"\n        ],\n        \"semantic_type\": \"\",\n        \"description\": \"\"\n      }\n    }\n  ]\n}"
            }
          },
          "metadata": {},
          "execution_count": 8
        }
      ]
    },
    {
      "cell_type": "markdown",
      "source": [
        "## **1.3 - Entendiendo los datos**\n",
        "\n",
        "---\n"
      ],
      "metadata": {
        "id": "sGD1TbXWimjs"
      }
    },
    {
      "cell_type": "markdown",
      "source": [
        "Ahora, vamos a explorar los datos comprendiendo lo que significan y cómo podemos relacionarlos en la construcción de las visualizaciones."
      ],
      "metadata": {
        "id": "_j0wSj0Rjkjn"
      }
    },
    {
      "cell_type": "markdown",
      "source": [
        "### **Base de clientes**"
      ],
      "metadata": {
        "id": "jQExeDtTkC4G"
      }
    },
    {
      "cell_type": "markdown",
      "source": [
        "> #### <strong><font color=\"7b71ff\" size =6>Prompt:</font></strong>\n",
        "\n",
        "Vamos a actuar como analistas de datos de una e-commerce. Recibimos dos bases de datos con los datos de los clientes y de las ventas en 2023, respectivamente.\n",
        "\n",
        "En este primer momento, vamos a explorar la base de clientes en formato de un DataFrame de pandas, llamado \"clientes\". Contiene datos de los clientes que realizaron compras en la tienda virtual, siendo estos: ID de la compra, ID del cliente, la ciudad, estado y región de la compra, edad, sexo biológico, si participan en el programa de cashback y la calificación, o nota, de la compra.\n",
        "\n",
        "Queremos hacer una breve exploración de los datos para comprender un poco sobre ellos. Recordando que los datos de esta base ya están limpios y tratados. Construye el código para ejecutar esta etapa utilizando Python con el objetivo de conocer mejor el dataframe \"clientes\" y algunos de sus atributos.\n",
        "\n",
        "No es necesario utilizar \"print()\" para mostrar el resultado de las consultas."
      ],
      "metadata": {
        "id": "VzsWSK91lIPb"
      }
    },
    {
      "cell_type": "code",
      "source": [
        "import pandas as pd\n",
        "import matplotlib.pyplot as plt\n",
        "import seaborn as sns"
      ],
      "metadata": {
        "id": "IRLDCzafQftx"
      },
      "execution_count": 13,
      "outputs": []
    },
    {
      "cell_type": "code",
      "source": [
        "# Ver las primeras filas del DataFrame\n",
        "clientes.head()"
      ],
      "metadata": {
        "id": "Vzg92ey5ScOa",
        "outputId": "663fb1af-a4c8-4722-b7fe-ef22ea9539b2",
        "colab": {
          "base_uri": "https://localhost:8080/",
          "height": 206
        }
      },
      "execution_count": 14,
      "outputs": [
        {
          "output_type": "execute_result",
          "data": {
            "text/plain": [
              "   ID_compra  ID_cliente            ciudad            estado    region  edad  \\\n",
              "0        904        8972  Oaxaca de Juárez            Oaxaca       Sur    49   \n",
              "1       4613        5120  Ciudad de México  Ciudad de México    Centro    49   \n",
              "2       5579        1847  Ciudad de México  Ciudad de México    Centro    24   \n",
              "3       2405        2846  Ciudad de México  Ciudad de México    Centro    38   \n",
              "4       2485        2715         Chihuahua         Chihuahua  Noroeste    30   \n",
              "\n",
              "  sexo_biologico cashback  nota  \n",
              "0      Masculino       No     9  \n",
              "1       Femenino       No     9  \n",
              "2       Femenino       No     8  \n",
              "3       Femenino       Sí     7  \n",
              "4       Femenino       No    10  "
            ],
            "text/html": [
              "\n",
              "  <div id=\"df-afcfdaf1-5d7b-4fe6-bc30-14622a59656b\" class=\"colab-df-container\">\n",
              "    <div>\n",
              "<style scoped>\n",
              "    .dataframe tbody tr th:only-of-type {\n",
              "        vertical-align: middle;\n",
              "    }\n",
              "\n",
              "    .dataframe tbody tr th {\n",
              "        vertical-align: top;\n",
              "    }\n",
              "\n",
              "    .dataframe thead th {\n",
              "        text-align: right;\n",
              "    }\n",
              "</style>\n",
              "<table border=\"1\" class=\"dataframe\">\n",
              "  <thead>\n",
              "    <tr style=\"text-align: right;\">\n",
              "      <th></th>\n",
              "      <th>ID_compra</th>\n",
              "      <th>ID_cliente</th>\n",
              "      <th>ciudad</th>\n",
              "      <th>estado</th>\n",
              "      <th>region</th>\n",
              "      <th>edad</th>\n",
              "      <th>sexo_biologico</th>\n",
              "      <th>cashback</th>\n",
              "      <th>nota</th>\n",
              "    </tr>\n",
              "  </thead>\n",
              "  <tbody>\n",
              "    <tr>\n",
              "      <th>0</th>\n",
              "      <td>904</td>\n",
              "      <td>8972</td>\n",
              "      <td>Oaxaca de Juárez</td>\n",
              "      <td>Oaxaca</td>\n",
              "      <td>Sur</td>\n",
              "      <td>49</td>\n",
              "      <td>Masculino</td>\n",
              "      <td>No</td>\n",
              "      <td>9</td>\n",
              "    </tr>\n",
              "    <tr>\n",
              "      <th>1</th>\n",
              "      <td>4613</td>\n",
              "      <td>5120</td>\n",
              "      <td>Ciudad de México</td>\n",
              "      <td>Ciudad de México</td>\n",
              "      <td>Centro</td>\n",
              "      <td>49</td>\n",
              "      <td>Femenino</td>\n",
              "      <td>No</td>\n",
              "      <td>9</td>\n",
              "    </tr>\n",
              "    <tr>\n",
              "      <th>2</th>\n",
              "      <td>5579</td>\n",
              "      <td>1847</td>\n",
              "      <td>Ciudad de México</td>\n",
              "      <td>Ciudad de México</td>\n",
              "      <td>Centro</td>\n",
              "      <td>24</td>\n",
              "      <td>Femenino</td>\n",
              "      <td>No</td>\n",
              "      <td>8</td>\n",
              "    </tr>\n",
              "    <tr>\n",
              "      <th>3</th>\n",
              "      <td>2405</td>\n",
              "      <td>2846</td>\n",
              "      <td>Ciudad de México</td>\n",
              "      <td>Ciudad de México</td>\n",
              "      <td>Centro</td>\n",
              "      <td>38</td>\n",
              "      <td>Femenino</td>\n",
              "      <td>Sí</td>\n",
              "      <td>7</td>\n",
              "    </tr>\n",
              "    <tr>\n",
              "      <th>4</th>\n",
              "      <td>2485</td>\n",
              "      <td>2715</td>\n",
              "      <td>Chihuahua</td>\n",
              "      <td>Chihuahua</td>\n",
              "      <td>Noroeste</td>\n",
              "      <td>30</td>\n",
              "      <td>Femenino</td>\n",
              "      <td>No</td>\n",
              "      <td>10</td>\n",
              "    </tr>\n",
              "  </tbody>\n",
              "</table>\n",
              "</div>\n",
              "    <div class=\"colab-df-buttons\">\n",
              "\n",
              "  <div class=\"colab-df-container\">\n",
              "    <button class=\"colab-df-convert\" onclick=\"convertToInteractive('df-afcfdaf1-5d7b-4fe6-bc30-14622a59656b')\"\n",
              "            title=\"Convert this dataframe to an interactive table.\"\n",
              "            style=\"display:none;\">\n",
              "\n",
              "  <svg xmlns=\"http://www.w3.org/2000/svg\" height=\"24px\" viewBox=\"0 -960 960 960\">\n",
              "    <path d=\"M120-120v-720h720v720H120Zm60-500h600v-160H180v160Zm220 220h160v-160H400v160Zm0 220h160v-160H400v160ZM180-400h160v-160H180v160Zm440 0h160v-160H620v160ZM180-180h160v-160H180v160Zm440 0h160v-160H620v160Z\"/>\n",
              "  </svg>\n",
              "    </button>\n",
              "\n",
              "  <style>\n",
              "    .colab-df-container {\n",
              "      display:flex;\n",
              "      gap: 12px;\n",
              "    }\n",
              "\n",
              "    .colab-df-convert {\n",
              "      background-color: #E8F0FE;\n",
              "      border: none;\n",
              "      border-radius: 50%;\n",
              "      cursor: pointer;\n",
              "      display: none;\n",
              "      fill: #1967D2;\n",
              "      height: 32px;\n",
              "      padding: 0 0 0 0;\n",
              "      width: 32px;\n",
              "    }\n",
              "\n",
              "    .colab-df-convert:hover {\n",
              "      background-color: #E2EBFA;\n",
              "      box-shadow: 0px 1px 2px rgba(60, 64, 67, 0.3), 0px 1px 3px 1px rgba(60, 64, 67, 0.15);\n",
              "      fill: #174EA6;\n",
              "    }\n",
              "\n",
              "    .colab-df-buttons div {\n",
              "      margin-bottom: 4px;\n",
              "    }\n",
              "\n",
              "    [theme=dark] .colab-df-convert {\n",
              "      background-color: #3B4455;\n",
              "      fill: #D2E3FC;\n",
              "    }\n",
              "\n",
              "    [theme=dark] .colab-df-convert:hover {\n",
              "      background-color: #434B5C;\n",
              "      box-shadow: 0px 1px 3px 1px rgba(0, 0, 0, 0.15);\n",
              "      filter: drop-shadow(0px 1px 2px rgba(0, 0, 0, 0.3));\n",
              "      fill: #FFFFFF;\n",
              "    }\n",
              "  </style>\n",
              "\n",
              "    <script>\n",
              "      const buttonEl =\n",
              "        document.querySelector('#df-afcfdaf1-5d7b-4fe6-bc30-14622a59656b button.colab-df-convert');\n",
              "      buttonEl.style.display =\n",
              "        google.colab.kernel.accessAllowed ? 'block' : 'none';\n",
              "\n",
              "      async function convertToInteractive(key) {\n",
              "        const element = document.querySelector('#df-afcfdaf1-5d7b-4fe6-bc30-14622a59656b');\n",
              "        const dataTable =\n",
              "          await google.colab.kernel.invokeFunction('convertToInteractive',\n",
              "                                                    [key], {});\n",
              "        if (!dataTable) return;\n",
              "\n",
              "        const docLinkHtml = 'Like what you see? Visit the ' +\n",
              "          '<a target=\"_blank\" href=https://colab.research.google.com/notebooks/data_table.ipynb>data table notebook</a>'\n",
              "          + ' to learn more about interactive tables.';\n",
              "        element.innerHTML = '';\n",
              "        dataTable['output_type'] = 'display_data';\n",
              "        await google.colab.output.renderOutput(dataTable, element);\n",
              "        const docLink = document.createElement('div');\n",
              "        docLink.innerHTML = docLinkHtml;\n",
              "        element.appendChild(docLink);\n",
              "      }\n",
              "    </script>\n",
              "  </div>\n",
              "\n",
              "\n",
              "    <div id=\"df-3482b20c-bb38-42a4-b776-e64b1451f7cd\">\n",
              "      <button class=\"colab-df-quickchart\" onclick=\"quickchart('df-3482b20c-bb38-42a4-b776-e64b1451f7cd')\"\n",
              "                title=\"Suggest charts\"\n",
              "                style=\"display:none;\">\n",
              "\n",
              "<svg xmlns=\"http://www.w3.org/2000/svg\" height=\"24px\"viewBox=\"0 0 24 24\"\n",
              "     width=\"24px\">\n",
              "    <g>\n",
              "        <path d=\"M19 3H5c-1.1 0-2 .9-2 2v14c0 1.1.9 2 2 2h14c1.1 0 2-.9 2-2V5c0-1.1-.9-2-2-2zM9 17H7v-7h2v7zm4 0h-2V7h2v10zm4 0h-2v-4h2v4z\"/>\n",
              "    </g>\n",
              "</svg>\n",
              "      </button>\n",
              "\n",
              "<style>\n",
              "  .colab-df-quickchart {\n",
              "      --bg-color: #E8F0FE;\n",
              "      --fill-color: #1967D2;\n",
              "      --hover-bg-color: #E2EBFA;\n",
              "      --hover-fill-color: #174EA6;\n",
              "      --disabled-fill-color: #AAA;\n",
              "      --disabled-bg-color: #DDD;\n",
              "  }\n",
              "\n",
              "  [theme=dark] .colab-df-quickchart {\n",
              "      --bg-color: #3B4455;\n",
              "      --fill-color: #D2E3FC;\n",
              "      --hover-bg-color: #434B5C;\n",
              "      --hover-fill-color: #FFFFFF;\n",
              "      --disabled-bg-color: #3B4455;\n",
              "      --disabled-fill-color: #666;\n",
              "  }\n",
              "\n",
              "  .colab-df-quickchart {\n",
              "    background-color: var(--bg-color);\n",
              "    border: none;\n",
              "    border-radius: 50%;\n",
              "    cursor: pointer;\n",
              "    display: none;\n",
              "    fill: var(--fill-color);\n",
              "    height: 32px;\n",
              "    padding: 0;\n",
              "    width: 32px;\n",
              "  }\n",
              "\n",
              "  .colab-df-quickchart:hover {\n",
              "    background-color: var(--hover-bg-color);\n",
              "    box-shadow: 0 1px 2px rgba(60, 64, 67, 0.3), 0 1px 3px 1px rgba(60, 64, 67, 0.15);\n",
              "    fill: var(--button-hover-fill-color);\n",
              "  }\n",
              "\n",
              "  .colab-df-quickchart-complete:disabled,\n",
              "  .colab-df-quickchart-complete:disabled:hover {\n",
              "    background-color: var(--disabled-bg-color);\n",
              "    fill: var(--disabled-fill-color);\n",
              "    box-shadow: none;\n",
              "  }\n",
              "\n",
              "  .colab-df-spinner {\n",
              "    border: 2px solid var(--fill-color);\n",
              "    border-color: transparent;\n",
              "    border-bottom-color: var(--fill-color);\n",
              "    animation:\n",
              "      spin 1s steps(1) infinite;\n",
              "  }\n",
              "\n",
              "  @keyframes spin {\n",
              "    0% {\n",
              "      border-color: transparent;\n",
              "      border-bottom-color: var(--fill-color);\n",
              "      border-left-color: var(--fill-color);\n",
              "    }\n",
              "    20% {\n",
              "      border-color: transparent;\n",
              "      border-left-color: var(--fill-color);\n",
              "      border-top-color: var(--fill-color);\n",
              "    }\n",
              "    30% {\n",
              "      border-color: transparent;\n",
              "      border-left-color: var(--fill-color);\n",
              "      border-top-color: var(--fill-color);\n",
              "      border-right-color: var(--fill-color);\n",
              "    }\n",
              "    40% {\n",
              "      border-color: transparent;\n",
              "      border-right-color: var(--fill-color);\n",
              "      border-top-color: var(--fill-color);\n",
              "    }\n",
              "    60% {\n",
              "      border-color: transparent;\n",
              "      border-right-color: var(--fill-color);\n",
              "    }\n",
              "    80% {\n",
              "      border-color: transparent;\n",
              "      border-right-color: var(--fill-color);\n",
              "      border-bottom-color: var(--fill-color);\n",
              "    }\n",
              "    90% {\n",
              "      border-color: transparent;\n",
              "      border-bottom-color: var(--fill-color);\n",
              "    }\n",
              "  }\n",
              "</style>\n",
              "\n",
              "      <script>\n",
              "        async function quickchart(key) {\n",
              "          const quickchartButtonEl =\n",
              "            document.querySelector('#' + key + ' button');\n",
              "          quickchartButtonEl.disabled = true;  // To prevent multiple clicks.\n",
              "          quickchartButtonEl.classList.add('colab-df-spinner');\n",
              "          try {\n",
              "            const charts = await google.colab.kernel.invokeFunction(\n",
              "                'suggestCharts', [key], {});\n",
              "          } catch (error) {\n",
              "            console.error('Error during call to suggestCharts:', error);\n",
              "          }\n",
              "          quickchartButtonEl.classList.remove('colab-df-spinner');\n",
              "          quickchartButtonEl.classList.add('colab-df-quickchart-complete');\n",
              "        }\n",
              "        (() => {\n",
              "          let quickchartButtonEl =\n",
              "            document.querySelector('#df-3482b20c-bb38-42a4-b776-e64b1451f7cd button');\n",
              "          quickchartButtonEl.style.display =\n",
              "            google.colab.kernel.accessAllowed ? 'block' : 'none';\n",
              "        })();\n",
              "      </script>\n",
              "    </div>\n",
              "\n",
              "    </div>\n",
              "  </div>\n"
            ],
            "application/vnd.google.colaboratory.intrinsic+json": {
              "type": "dataframe",
              "variable_name": "clientes",
              "summary": "{\n  \"name\": \"clientes\",\n  \"rows\": 6169,\n  \"fields\": [\n    {\n      \"column\": \"ID_compra\",\n      \"properties\": {\n        \"dtype\": \"number\",\n        \"std\": 1780,\n        \"min\": 1,\n        \"max\": 6169,\n        \"num_unique_values\": 6169,\n        \"samples\": [\n          1418,\n          5069,\n          64\n        ],\n        \"semantic_type\": \"\",\n        \"description\": \"\"\n      }\n    },\n    {\n      \"column\": \"ID_cliente\",\n      \"properties\": {\n        \"dtype\": \"number\",\n        \"std\": 2610,\n        \"min\": 1005,\n        \"max\": 9999,\n        \"num_unique_values\": 4453,\n        \"samples\": [\n          5545,\n          1982,\n          6905\n        ],\n        \"semantic_type\": \"\",\n        \"description\": \"\"\n      }\n    },\n    {\n      \"column\": \"ciudad\",\n      \"properties\": {\n        \"dtype\": \"category\",\n        \"num_unique_values\": 94,\n        \"samples\": [\n          \"Tizimin\",\n          \"Tuxtla Guti\\u00e9rrez\",\n          \"Coacalco de Berrioz\\u00e1bal\"\n        ],\n        \"semantic_type\": \"\",\n        \"description\": \"\"\n      }\n    },\n    {\n      \"column\": \"estado\",\n      \"properties\": {\n        \"dtype\": \"category\",\n        \"num_unique_values\": 28,\n        \"samples\": [\n          \"Veracruz\",\n          \"Campeche\",\n          \"Estado de M\\u00e9xico\"\n        ],\n        \"semantic_type\": \"\",\n        \"description\": \"\"\n      }\n    },\n    {\n      \"column\": \"region\",\n      \"properties\": {\n        \"dtype\": \"category\",\n        \"num_unique_values\": 9,\n        \"samples\": [\n          \"Centro-Norte\",\n          \"Centro\",\n          \"Centro-Sur\"\n        ],\n        \"semantic_type\": \"\",\n        \"description\": \"\"\n      }\n    },\n    {\n      \"column\": \"edad\",\n      \"properties\": {\n        \"dtype\": \"number\",\n        \"std\": 9,\n        \"min\": 18,\n        \"max\": 70,\n        \"num_unique_values\": 53,\n        \"samples\": [\n          45,\n          57,\n          66\n        ],\n        \"semantic_type\": \"\",\n        \"description\": \"\"\n      }\n    },\n    {\n      \"column\": \"sexo_biologico\",\n      \"properties\": {\n        \"dtype\": \"category\",\n        \"num_unique_values\": 2,\n        \"samples\": [\n          \"Femenino\",\n          \"Masculino\"\n        ],\n        \"semantic_type\": \"\",\n        \"description\": \"\"\n      }\n    },\n    {\n      \"column\": \"cashback\",\n      \"properties\": {\n        \"dtype\": \"category\",\n        \"num_unique_values\": 2,\n        \"samples\": [\n          \"S\\u00ed\",\n          \"No\"\n        ],\n        \"semantic_type\": \"\",\n        \"description\": \"\"\n      }\n    },\n    {\n      \"column\": \"nota\",\n      \"properties\": {\n        \"dtype\": \"number\",\n        \"std\": 1,\n        \"min\": 0,\n        \"max\": 10,\n        \"num_unique_values\": 11,\n        \"samples\": [\n          4,\n          9\n        ],\n        \"semantic_type\": \"\",\n        \"description\": \"\"\n      }\n    }\n  ]\n}"
            }
          },
          "metadata": {},
          "execution_count": 14
        }
      ]
    },
    {
      "cell_type": "code",
      "source": [
        "# Dimensiones del DataFrame (filas, columnas)\n",
        "clientes.shape"
      ],
      "metadata": {
        "id": "mBFqMS0YSfus",
        "outputId": "6a529a02-589a-43a9-d6e1-cde696dcaaba",
        "colab": {
          "base_uri": "https://localhost:8080/"
        }
      },
      "execution_count": 15,
      "outputs": [
        {
          "output_type": "execute_result",
          "data": {
            "text/plain": [
              "(6169, 9)"
            ]
          },
          "metadata": {},
          "execution_count": 15
        }
      ]
    },
    {
      "cell_type": "code",
      "source": [
        "# Ver nombres de columnas\n",
        "clientes.columns"
      ],
      "metadata": {
        "id": "EuAZ1_BNSjYL",
        "outputId": "ee53ca04-451f-4d94-854a-6b9ae304c333",
        "colab": {
          "base_uri": "https://localhost:8080/"
        }
      },
      "execution_count": 16,
      "outputs": [
        {
          "output_type": "execute_result",
          "data": {
            "text/plain": [
              "Index(['ID_compra', 'ID_cliente', 'ciudad', 'estado', 'region', 'edad',\n",
              "       'sexo_biologico', 'cashback', 'nota'],\n",
              "      dtype='object')"
            ]
          },
          "metadata": {},
          "execution_count": 16
        }
      ]
    },
    {
      "cell_type": "code",
      "source": [
        "# Información general del DataFrame\n",
        "clientes.info()"
      ],
      "metadata": {
        "id": "x88JeG0xSm1k",
        "outputId": "399f3a26-39d4-4b6b-d5c4-3dbf31f266fb",
        "colab": {
          "base_uri": "https://localhost:8080/"
        }
      },
      "execution_count": 17,
      "outputs": [
        {
          "output_type": "stream",
          "name": "stdout",
          "text": [
            "<class 'pandas.core.frame.DataFrame'>\n",
            "RangeIndex: 6169 entries, 0 to 6168\n",
            "Data columns (total 9 columns):\n",
            " #   Column          Non-Null Count  Dtype \n",
            "---  ------          --------------  ----- \n",
            " 0   ID_compra       6169 non-null   int64 \n",
            " 1   ID_cliente      6169 non-null   int64 \n",
            " 2   ciudad          6169 non-null   object\n",
            " 3   estado          6169 non-null   object\n",
            " 4   region          6169 non-null   object\n",
            " 5   edad            6169 non-null   int64 \n",
            " 6   sexo_biologico  6169 non-null   object\n",
            " 7   cashback        6169 non-null   object\n",
            " 8   nota            6169 non-null   int64 \n",
            "dtypes: int64(4), object(5)\n",
            "memory usage: 433.9+ KB\n"
          ]
        }
      ]
    },
    {
      "cell_type": "code",
      "source": [
        "# Ver estadísticas descritivas para columnas numéricas\n",
        "clientes.describe()"
      ],
      "metadata": {
        "id": "fU3qgRceSmzw",
        "outputId": "64269dc1-de9b-49c1-d453-3339fb9d0872",
        "colab": {
          "base_uri": "https://localhost:8080/",
          "height": 300
        }
      },
      "execution_count": 18,
      "outputs": [
        {
          "output_type": "execute_result",
          "data": {
            "text/plain": [
              "         ID_compra   ID_cliente         edad         nota\n",
              "count  6169.000000  6169.000000  6169.000000  6169.000000\n",
              "mean   3085.000000  5461.475280    38.260010     8.443670\n",
              "std    1780.981237  2610.959977     9.838951     1.730584\n",
              "min       1.000000  1005.000000    18.000000     0.000000\n",
              "25%    1543.000000  3148.000000    31.000000     8.000000\n",
              "50%    3085.000000  5436.000000    38.000000     9.000000\n",
              "75%    4627.000000  7748.000000    45.000000     9.000000\n",
              "max    6169.000000  9999.000000    70.000000    10.000000"
            ],
            "text/html": [
              "\n",
              "  <div id=\"df-a2e5e366-61c3-4689-84c7-5781833a5a6e\" class=\"colab-df-container\">\n",
              "    <div>\n",
              "<style scoped>\n",
              "    .dataframe tbody tr th:only-of-type {\n",
              "        vertical-align: middle;\n",
              "    }\n",
              "\n",
              "    .dataframe tbody tr th {\n",
              "        vertical-align: top;\n",
              "    }\n",
              "\n",
              "    .dataframe thead th {\n",
              "        text-align: right;\n",
              "    }\n",
              "</style>\n",
              "<table border=\"1\" class=\"dataframe\">\n",
              "  <thead>\n",
              "    <tr style=\"text-align: right;\">\n",
              "      <th></th>\n",
              "      <th>ID_compra</th>\n",
              "      <th>ID_cliente</th>\n",
              "      <th>edad</th>\n",
              "      <th>nota</th>\n",
              "    </tr>\n",
              "  </thead>\n",
              "  <tbody>\n",
              "    <tr>\n",
              "      <th>count</th>\n",
              "      <td>6169.000000</td>\n",
              "      <td>6169.000000</td>\n",
              "      <td>6169.000000</td>\n",
              "      <td>6169.000000</td>\n",
              "    </tr>\n",
              "    <tr>\n",
              "      <th>mean</th>\n",
              "      <td>3085.000000</td>\n",
              "      <td>5461.475280</td>\n",
              "      <td>38.260010</td>\n",
              "      <td>8.443670</td>\n",
              "    </tr>\n",
              "    <tr>\n",
              "      <th>std</th>\n",
              "      <td>1780.981237</td>\n",
              "      <td>2610.959977</td>\n",
              "      <td>9.838951</td>\n",
              "      <td>1.730584</td>\n",
              "    </tr>\n",
              "    <tr>\n",
              "      <th>min</th>\n",
              "      <td>1.000000</td>\n",
              "      <td>1005.000000</td>\n",
              "      <td>18.000000</td>\n",
              "      <td>0.000000</td>\n",
              "    </tr>\n",
              "    <tr>\n",
              "      <th>25%</th>\n",
              "      <td>1543.000000</td>\n",
              "      <td>3148.000000</td>\n",
              "      <td>31.000000</td>\n",
              "      <td>8.000000</td>\n",
              "    </tr>\n",
              "    <tr>\n",
              "      <th>50%</th>\n",
              "      <td>3085.000000</td>\n",
              "      <td>5436.000000</td>\n",
              "      <td>38.000000</td>\n",
              "      <td>9.000000</td>\n",
              "    </tr>\n",
              "    <tr>\n",
              "      <th>75%</th>\n",
              "      <td>4627.000000</td>\n",
              "      <td>7748.000000</td>\n",
              "      <td>45.000000</td>\n",
              "      <td>9.000000</td>\n",
              "    </tr>\n",
              "    <tr>\n",
              "      <th>max</th>\n",
              "      <td>6169.000000</td>\n",
              "      <td>9999.000000</td>\n",
              "      <td>70.000000</td>\n",
              "      <td>10.000000</td>\n",
              "    </tr>\n",
              "  </tbody>\n",
              "</table>\n",
              "</div>\n",
              "    <div class=\"colab-df-buttons\">\n",
              "\n",
              "  <div class=\"colab-df-container\">\n",
              "    <button class=\"colab-df-convert\" onclick=\"convertToInteractive('df-a2e5e366-61c3-4689-84c7-5781833a5a6e')\"\n",
              "            title=\"Convert this dataframe to an interactive table.\"\n",
              "            style=\"display:none;\">\n",
              "\n",
              "  <svg xmlns=\"http://www.w3.org/2000/svg\" height=\"24px\" viewBox=\"0 -960 960 960\">\n",
              "    <path d=\"M120-120v-720h720v720H120Zm60-500h600v-160H180v160Zm220 220h160v-160H400v160Zm0 220h160v-160H400v160ZM180-400h160v-160H180v160Zm440 0h160v-160H620v160ZM180-180h160v-160H180v160Zm440 0h160v-160H620v160Z\"/>\n",
              "  </svg>\n",
              "    </button>\n",
              "\n",
              "  <style>\n",
              "    .colab-df-container {\n",
              "      display:flex;\n",
              "      gap: 12px;\n",
              "    }\n",
              "\n",
              "    .colab-df-convert {\n",
              "      background-color: #E8F0FE;\n",
              "      border: none;\n",
              "      border-radius: 50%;\n",
              "      cursor: pointer;\n",
              "      display: none;\n",
              "      fill: #1967D2;\n",
              "      height: 32px;\n",
              "      padding: 0 0 0 0;\n",
              "      width: 32px;\n",
              "    }\n",
              "\n",
              "    .colab-df-convert:hover {\n",
              "      background-color: #E2EBFA;\n",
              "      box-shadow: 0px 1px 2px rgba(60, 64, 67, 0.3), 0px 1px 3px 1px rgba(60, 64, 67, 0.15);\n",
              "      fill: #174EA6;\n",
              "    }\n",
              "\n",
              "    .colab-df-buttons div {\n",
              "      margin-bottom: 4px;\n",
              "    }\n",
              "\n",
              "    [theme=dark] .colab-df-convert {\n",
              "      background-color: #3B4455;\n",
              "      fill: #D2E3FC;\n",
              "    }\n",
              "\n",
              "    [theme=dark] .colab-df-convert:hover {\n",
              "      background-color: #434B5C;\n",
              "      box-shadow: 0px 1px 3px 1px rgba(0, 0, 0, 0.15);\n",
              "      filter: drop-shadow(0px 1px 2px rgba(0, 0, 0, 0.3));\n",
              "      fill: #FFFFFF;\n",
              "    }\n",
              "  </style>\n",
              "\n",
              "    <script>\n",
              "      const buttonEl =\n",
              "        document.querySelector('#df-a2e5e366-61c3-4689-84c7-5781833a5a6e button.colab-df-convert');\n",
              "      buttonEl.style.display =\n",
              "        google.colab.kernel.accessAllowed ? 'block' : 'none';\n",
              "\n",
              "      async function convertToInteractive(key) {\n",
              "        const element = document.querySelector('#df-a2e5e366-61c3-4689-84c7-5781833a5a6e');\n",
              "        const dataTable =\n",
              "          await google.colab.kernel.invokeFunction('convertToInteractive',\n",
              "                                                    [key], {});\n",
              "        if (!dataTable) return;\n",
              "\n",
              "        const docLinkHtml = 'Like what you see? Visit the ' +\n",
              "          '<a target=\"_blank\" href=https://colab.research.google.com/notebooks/data_table.ipynb>data table notebook</a>'\n",
              "          + ' to learn more about interactive tables.';\n",
              "        element.innerHTML = '';\n",
              "        dataTable['output_type'] = 'display_data';\n",
              "        await google.colab.output.renderOutput(dataTable, element);\n",
              "        const docLink = document.createElement('div');\n",
              "        docLink.innerHTML = docLinkHtml;\n",
              "        element.appendChild(docLink);\n",
              "      }\n",
              "    </script>\n",
              "  </div>\n",
              "\n",
              "\n",
              "    <div id=\"df-0a3cc599-c044-40b9-8b62-cb4fa7f5a944\">\n",
              "      <button class=\"colab-df-quickchart\" onclick=\"quickchart('df-0a3cc599-c044-40b9-8b62-cb4fa7f5a944')\"\n",
              "                title=\"Suggest charts\"\n",
              "                style=\"display:none;\">\n",
              "\n",
              "<svg xmlns=\"http://www.w3.org/2000/svg\" height=\"24px\"viewBox=\"0 0 24 24\"\n",
              "     width=\"24px\">\n",
              "    <g>\n",
              "        <path d=\"M19 3H5c-1.1 0-2 .9-2 2v14c0 1.1.9 2 2 2h14c1.1 0 2-.9 2-2V5c0-1.1-.9-2-2-2zM9 17H7v-7h2v7zm4 0h-2V7h2v10zm4 0h-2v-4h2v4z\"/>\n",
              "    </g>\n",
              "</svg>\n",
              "      </button>\n",
              "\n",
              "<style>\n",
              "  .colab-df-quickchart {\n",
              "      --bg-color: #E8F0FE;\n",
              "      --fill-color: #1967D2;\n",
              "      --hover-bg-color: #E2EBFA;\n",
              "      --hover-fill-color: #174EA6;\n",
              "      --disabled-fill-color: #AAA;\n",
              "      --disabled-bg-color: #DDD;\n",
              "  }\n",
              "\n",
              "  [theme=dark] .colab-df-quickchart {\n",
              "      --bg-color: #3B4455;\n",
              "      --fill-color: #D2E3FC;\n",
              "      --hover-bg-color: #434B5C;\n",
              "      --hover-fill-color: #FFFFFF;\n",
              "      --disabled-bg-color: #3B4455;\n",
              "      --disabled-fill-color: #666;\n",
              "  }\n",
              "\n",
              "  .colab-df-quickchart {\n",
              "    background-color: var(--bg-color);\n",
              "    border: none;\n",
              "    border-radius: 50%;\n",
              "    cursor: pointer;\n",
              "    display: none;\n",
              "    fill: var(--fill-color);\n",
              "    height: 32px;\n",
              "    padding: 0;\n",
              "    width: 32px;\n",
              "  }\n",
              "\n",
              "  .colab-df-quickchart:hover {\n",
              "    background-color: var(--hover-bg-color);\n",
              "    box-shadow: 0 1px 2px rgba(60, 64, 67, 0.3), 0 1px 3px 1px rgba(60, 64, 67, 0.15);\n",
              "    fill: var(--button-hover-fill-color);\n",
              "  }\n",
              "\n",
              "  .colab-df-quickchart-complete:disabled,\n",
              "  .colab-df-quickchart-complete:disabled:hover {\n",
              "    background-color: var(--disabled-bg-color);\n",
              "    fill: var(--disabled-fill-color);\n",
              "    box-shadow: none;\n",
              "  }\n",
              "\n",
              "  .colab-df-spinner {\n",
              "    border: 2px solid var(--fill-color);\n",
              "    border-color: transparent;\n",
              "    border-bottom-color: var(--fill-color);\n",
              "    animation:\n",
              "      spin 1s steps(1) infinite;\n",
              "  }\n",
              "\n",
              "  @keyframes spin {\n",
              "    0% {\n",
              "      border-color: transparent;\n",
              "      border-bottom-color: var(--fill-color);\n",
              "      border-left-color: var(--fill-color);\n",
              "    }\n",
              "    20% {\n",
              "      border-color: transparent;\n",
              "      border-left-color: var(--fill-color);\n",
              "      border-top-color: var(--fill-color);\n",
              "    }\n",
              "    30% {\n",
              "      border-color: transparent;\n",
              "      border-left-color: var(--fill-color);\n",
              "      border-top-color: var(--fill-color);\n",
              "      border-right-color: var(--fill-color);\n",
              "    }\n",
              "    40% {\n",
              "      border-color: transparent;\n",
              "      border-right-color: var(--fill-color);\n",
              "      border-top-color: var(--fill-color);\n",
              "    }\n",
              "    60% {\n",
              "      border-color: transparent;\n",
              "      border-right-color: var(--fill-color);\n",
              "    }\n",
              "    80% {\n",
              "      border-color: transparent;\n",
              "      border-right-color: var(--fill-color);\n",
              "      border-bottom-color: var(--fill-color);\n",
              "    }\n",
              "    90% {\n",
              "      border-color: transparent;\n",
              "      border-bottom-color: var(--fill-color);\n",
              "    }\n",
              "  }\n",
              "</style>\n",
              "\n",
              "      <script>\n",
              "        async function quickchart(key) {\n",
              "          const quickchartButtonEl =\n",
              "            document.querySelector('#' + key + ' button');\n",
              "          quickchartButtonEl.disabled = true;  // To prevent multiple clicks.\n",
              "          quickchartButtonEl.classList.add('colab-df-spinner');\n",
              "          try {\n",
              "            const charts = await google.colab.kernel.invokeFunction(\n",
              "                'suggestCharts', [key], {});\n",
              "          } catch (error) {\n",
              "            console.error('Error during call to suggestCharts:', error);\n",
              "          }\n",
              "          quickchartButtonEl.classList.remove('colab-df-spinner');\n",
              "          quickchartButtonEl.classList.add('colab-df-quickchart-complete');\n",
              "        }\n",
              "        (() => {\n",
              "          let quickchartButtonEl =\n",
              "            document.querySelector('#df-0a3cc599-c044-40b9-8b62-cb4fa7f5a944 button');\n",
              "          quickchartButtonEl.style.display =\n",
              "            google.colab.kernel.accessAllowed ? 'block' : 'none';\n",
              "        })();\n",
              "      </script>\n",
              "    </div>\n",
              "\n",
              "    </div>\n",
              "  </div>\n"
            ],
            "application/vnd.google.colaboratory.intrinsic+json": {
              "type": "dataframe",
              "summary": "{\n  \"name\": \"clientes\",\n  \"rows\": 8,\n  \"fields\": [\n    {\n      \"column\": \"ID_compra\",\n      \"properties\": {\n        \"dtype\": \"number\",\n        \"std\": 2223.0326545909456,\n        \"min\": 1.0,\n        \"max\": 6169.0,\n        \"num_unique_values\": 6,\n        \"samples\": [\n          6169.0,\n          3085.0,\n          4627.0\n        ],\n        \"semantic_type\": \"\",\n        \"description\": \"\"\n      }\n    },\n    {\n      \"column\": \"ID_cliente\",\n      \"properties\": {\n        \"dtype\": \"number\",\n        \"std\": 2905.598657730617,\n        \"min\": 1005.0,\n        \"max\": 9999.0,\n        \"num_unique_values\": 8,\n        \"samples\": [\n          5461.475279623926,\n          5436.0,\n          6169.0\n        ],\n        \"semantic_type\": \"\",\n        \"description\": \"\"\n      }\n    },\n    {\n      \"column\": \"edad\",\n      \"properties\": {\n        \"dtype\": \"number\",\n        \"std\": 2168.514030397997,\n        \"min\": 9.838950760885592,\n        \"max\": 6169.0,\n        \"num_unique_values\": 8,\n        \"samples\": [\n          38.2600097260496,\n          38.0,\n          6169.0\n        ],\n        \"semantic_type\": \"\",\n        \"description\": \"\"\n      }\n    },\n    {\n      \"column\": \"nota\",\n      \"properties\": {\n        \"dtype\": \"number\",\n        \"std\": 2178.74185235415,\n        \"min\": 0.0,\n        \"max\": 6169.0,\n        \"num_unique_values\": 7,\n        \"samples\": [\n          6169.0,\n          8.44366996271681,\n          9.0\n        ],\n        \"semantic_type\": \"\",\n        \"description\": \"\"\n      }\n    }\n  ]\n}"
            }
          },
          "metadata": {},
          "execution_count": 18
        }
      ]
    },
    {
      "cell_type": "markdown",
      "source": [
        "# Verificar valores únicos y distribución de atributos categóricos"
      ],
      "metadata": {
        "id": "-t5JsRWaTZ6P"
      }
    },
    {
      "cell_type": "code",
      "source": [
        "clientes['sexo_biologico'].value_counts()"
      ],
      "metadata": {
        "id": "lSBKdpP-S16w",
        "outputId": "ab5f0d11-2e68-4906-c116-bcbcd67f5e67",
        "colab": {
          "base_uri": "https://localhost:8080/",
          "height": 178
        }
      },
      "execution_count": 22,
      "outputs": [
        {
          "output_type": "execute_result",
          "data": {
            "text/plain": [
              "sexo_biologico\n",
              "Femenino     3371\n",
              "Masculino    2798\n",
              "Name: count, dtype: int64"
            ],
            "text/html": [
              "<div>\n",
              "<style scoped>\n",
              "    .dataframe tbody tr th:only-of-type {\n",
              "        vertical-align: middle;\n",
              "    }\n",
              "\n",
              "    .dataframe tbody tr th {\n",
              "        vertical-align: top;\n",
              "    }\n",
              "\n",
              "    .dataframe thead th {\n",
              "        text-align: right;\n",
              "    }\n",
              "</style>\n",
              "<table border=\"1\" class=\"dataframe\">\n",
              "  <thead>\n",
              "    <tr style=\"text-align: right;\">\n",
              "      <th></th>\n",
              "      <th>count</th>\n",
              "    </tr>\n",
              "    <tr>\n",
              "      <th>sexo_biologico</th>\n",
              "      <th></th>\n",
              "    </tr>\n",
              "  </thead>\n",
              "  <tbody>\n",
              "    <tr>\n",
              "      <th>Femenino</th>\n",
              "      <td>3371</td>\n",
              "    </tr>\n",
              "    <tr>\n",
              "      <th>Masculino</th>\n",
              "      <td>2798</td>\n",
              "    </tr>\n",
              "  </tbody>\n",
              "</table>\n",
              "</div><br><label><b>dtype:</b> int64</label>"
            ]
          },
          "metadata": {},
          "execution_count": 22
        }
      ]
    },
    {
      "cell_type": "code",
      "source": [
        "clientes['region'].value_counts()"
      ],
      "metadata": {
        "id": "X5d9wT2rTPmc",
        "outputId": "76bbd5d9-d8f1-4317-a2bf-5f08a129b68c",
        "colab": {
          "base_uri": "https://localhost:8080/",
          "height": 397
        }
      },
      "execution_count": 23,
      "outputs": [
        {
          "output_type": "execute_result",
          "data": {
            "text/plain": [
              "region\n",
              "Centro          1540\n",
              "Noroeste        1276\n",
              "Noreste          907\n",
              "Occidente        556\n",
              "Centro-Norte     533\n",
              "Golfo            411\n",
              "Centro-Sur       383\n",
              "Sur              284\n",
              "Sureste          279\n",
              "Name: count, dtype: int64"
            ],
            "text/html": [
              "<div>\n",
              "<style scoped>\n",
              "    .dataframe tbody tr th:only-of-type {\n",
              "        vertical-align: middle;\n",
              "    }\n",
              "\n",
              "    .dataframe tbody tr th {\n",
              "        vertical-align: top;\n",
              "    }\n",
              "\n",
              "    .dataframe thead th {\n",
              "        text-align: right;\n",
              "    }\n",
              "</style>\n",
              "<table border=\"1\" class=\"dataframe\">\n",
              "  <thead>\n",
              "    <tr style=\"text-align: right;\">\n",
              "      <th></th>\n",
              "      <th>count</th>\n",
              "    </tr>\n",
              "    <tr>\n",
              "      <th>region</th>\n",
              "      <th></th>\n",
              "    </tr>\n",
              "  </thead>\n",
              "  <tbody>\n",
              "    <tr>\n",
              "      <th>Centro</th>\n",
              "      <td>1540</td>\n",
              "    </tr>\n",
              "    <tr>\n",
              "      <th>Noroeste</th>\n",
              "      <td>1276</td>\n",
              "    </tr>\n",
              "    <tr>\n",
              "      <th>Noreste</th>\n",
              "      <td>907</td>\n",
              "    </tr>\n",
              "    <tr>\n",
              "      <th>Occidente</th>\n",
              "      <td>556</td>\n",
              "    </tr>\n",
              "    <tr>\n",
              "      <th>Centro-Norte</th>\n",
              "      <td>533</td>\n",
              "    </tr>\n",
              "    <tr>\n",
              "      <th>Golfo</th>\n",
              "      <td>411</td>\n",
              "    </tr>\n",
              "    <tr>\n",
              "      <th>Centro-Sur</th>\n",
              "      <td>383</td>\n",
              "    </tr>\n",
              "    <tr>\n",
              "      <th>Sur</th>\n",
              "      <td>284</td>\n",
              "    </tr>\n",
              "    <tr>\n",
              "      <th>Sureste</th>\n",
              "      <td>279</td>\n",
              "    </tr>\n",
              "  </tbody>\n",
              "</table>\n",
              "</div><br><label><b>dtype:</b> int64</label>"
            ]
          },
          "metadata": {},
          "execution_count": 23
        }
      ]
    },
    {
      "cell_type": "code",
      "source": [
        "clientes['estado'].value_counts()"
      ],
      "metadata": {
        "id": "uRIxS97iTPkf",
        "outputId": "c406d993-cfae-4124-a0c5-425c577ef271",
        "colab": {
          "base_uri": "https://localhost:8080/",
          "height": 993
        }
      },
      "execution_count": 24,
      "outputs": [
        {
          "output_type": "execute_result",
          "data": {
            "text/plain": [
              "estado\n",
              "Estado de México    1042\n",
              "Nuevo León           570\n",
              "Jalisco              478\n",
              "Ciudad de México     458\n",
              "Chihuahua            453\n",
              "Veracruz             411\n",
              "Puebla               383\n",
              "Sonora               329\n",
              "Guanajuato           284\n",
              "Coahuila             279\n",
              "Durango              263\n",
              "Oaxaca               244\n",
              "Baja California      120\n",
              "Querétaro            118\n",
              "Sinaloa              111\n",
              "Yucatán              107\n",
              "Quintana Roo          83\n",
              "Tamaulipas            58\n",
              "San Luis Potosí       54\n",
              "Tabasco               51\n",
              "Zacatecas             45\n",
              "Nayarit               43\n",
              "Chiapas               40\n",
              "Campeche              38\n",
              "Michoacán             35\n",
              "Aguascalientes        32\n",
              "Morelos               30\n",
              "Hidalgo               10\n",
              "Name: count, dtype: int64"
            ],
            "text/html": [
              "<div>\n",
              "<style scoped>\n",
              "    .dataframe tbody tr th:only-of-type {\n",
              "        vertical-align: middle;\n",
              "    }\n",
              "\n",
              "    .dataframe tbody tr th {\n",
              "        vertical-align: top;\n",
              "    }\n",
              "\n",
              "    .dataframe thead th {\n",
              "        text-align: right;\n",
              "    }\n",
              "</style>\n",
              "<table border=\"1\" class=\"dataframe\">\n",
              "  <thead>\n",
              "    <tr style=\"text-align: right;\">\n",
              "      <th></th>\n",
              "      <th>count</th>\n",
              "    </tr>\n",
              "    <tr>\n",
              "      <th>estado</th>\n",
              "      <th></th>\n",
              "    </tr>\n",
              "  </thead>\n",
              "  <tbody>\n",
              "    <tr>\n",
              "      <th>Estado de México</th>\n",
              "      <td>1042</td>\n",
              "    </tr>\n",
              "    <tr>\n",
              "      <th>Nuevo León</th>\n",
              "      <td>570</td>\n",
              "    </tr>\n",
              "    <tr>\n",
              "      <th>Jalisco</th>\n",
              "      <td>478</td>\n",
              "    </tr>\n",
              "    <tr>\n",
              "      <th>Ciudad de México</th>\n",
              "      <td>458</td>\n",
              "    </tr>\n",
              "    <tr>\n",
              "      <th>Chihuahua</th>\n",
              "      <td>453</td>\n",
              "    </tr>\n",
              "    <tr>\n",
              "      <th>Veracruz</th>\n",
              "      <td>411</td>\n",
              "    </tr>\n",
              "    <tr>\n",
              "      <th>Puebla</th>\n",
              "      <td>383</td>\n",
              "    </tr>\n",
              "    <tr>\n",
              "      <th>Sonora</th>\n",
              "      <td>329</td>\n",
              "    </tr>\n",
              "    <tr>\n",
              "      <th>Guanajuato</th>\n",
              "      <td>284</td>\n",
              "    </tr>\n",
              "    <tr>\n",
              "      <th>Coahuila</th>\n",
              "      <td>279</td>\n",
              "    </tr>\n",
              "    <tr>\n",
              "      <th>Durango</th>\n",
              "      <td>263</td>\n",
              "    </tr>\n",
              "    <tr>\n",
              "      <th>Oaxaca</th>\n",
              "      <td>244</td>\n",
              "    </tr>\n",
              "    <tr>\n",
              "      <th>Baja California</th>\n",
              "      <td>120</td>\n",
              "    </tr>\n",
              "    <tr>\n",
              "      <th>Querétaro</th>\n",
              "      <td>118</td>\n",
              "    </tr>\n",
              "    <tr>\n",
              "      <th>Sinaloa</th>\n",
              "      <td>111</td>\n",
              "    </tr>\n",
              "    <tr>\n",
              "      <th>Yucatán</th>\n",
              "      <td>107</td>\n",
              "    </tr>\n",
              "    <tr>\n",
              "      <th>Quintana Roo</th>\n",
              "      <td>83</td>\n",
              "    </tr>\n",
              "    <tr>\n",
              "      <th>Tamaulipas</th>\n",
              "      <td>58</td>\n",
              "    </tr>\n",
              "    <tr>\n",
              "      <th>San Luis Potosí</th>\n",
              "      <td>54</td>\n",
              "    </tr>\n",
              "    <tr>\n",
              "      <th>Tabasco</th>\n",
              "      <td>51</td>\n",
              "    </tr>\n",
              "    <tr>\n",
              "      <th>Zacatecas</th>\n",
              "      <td>45</td>\n",
              "    </tr>\n",
              "    <tr>\n",
              "      <th>Nayarit</th>\n",
              "      <td>43</td>\n",
              "    </tr>\n",
              "    <tr>\n",
              "      <th>Chiapas</th>\n",
              "      <td>40</td>\n",
              "    </tr>\n",
              "    <tr>\n",
              "      <th>Campeche</th>\n",
              "      <td>38</td>\n",
              "    </tr>\n",
              "    <tr>\n",
              "      <th>Michoacán</th>\n",
              "      <td>35</td>\n",
              "    </tr>\n",
              "    <tr>\n",
              "      <th>Aguascalientes</th>\n",
              "      <td>32</td>\n",
              "    </tr>\n",
              "    <tr>\n",
              "      <th>Morelos</th>\n",
              "      <td>30</td>\n",
              "    </tr>\n",
              "    <tr>\n",
              "      <th>Hidalgo</th>\n",
              "      <td>10</td>\n",
              "    </tr>\n",
              "  </tbody>\n",
              "</table>\n",
              "</div><br><label><b>dtype:</b> int64</label>"
            ]
          },
          "metadata": {},
          "execution_count": 24
        }
      ]
    },
    {
      "cell_type": "code",
      "source": [
        "clientes['cashback'].value_counts()"
      ],
      "metadata": {
        "id": "4f2HOCnxTTkO",
        "outputId": "37f55752-ca6d-457d-9643-75de90f8ee81",
        "colab": {
          "base_uri": "https://localhost:8080/",
          "height": 178
        }
      },
      "execution_count": 25,
      "outputs": [
        {
          "output_type": "execute_result",
          "data": {
            "text/plain": [
              "cashback\n",
              "No    3557\n",
              "Sí    2612\n",
              "Name: count, dtype: int64"
            ],
            "text/html": [
              "<div>\n",
              "<style scoped>\n",
              "    .dataframe tbody tr th:only-of-type {\n",
              "        vertical-align: middle;\n",
              "    }\n",
              "\n",
              "    .dataframe tbody tr th {\n",
              "        vertical-align: top;\n",
              "    }\n",
              "\n",
              "    .dataframe thead th {\n",
              "        text-align: right;\n",
              "    }\n",
              "</style>\n",
              "<table border=\"1\" class=\"dataframe\">\n",
              "  <thead>\n",
              "    <tr style=\"text-align: right;\">\n",
              "      <th></th>\n",
              "      <th>count</th>\n",
              "    </tr>\n",
              "    <tr>\n",
              "      <th>cashback</th>\n",
              "      <th></th>\n",
              "    </tr>\n",
              "  </thead>\n",
              "  <tbody>\n",
              "    <tr>\n",
              "      <th>No</th>\n",
              "      <td>3557</td>\n",
              "    </tr>\n",
              "    <tr>\n",
              "      <th>Sí</th>\n",
              "      <td>2612</td>\n",
              "    </tr>\n",
              "  </tbody>\n",
              "</table>\n",
              "</div><br><label><b>dtype:</b> int64</label>"
            ]
          },
          "metadata": {},
          "execution_count": 25
        }
      ]
    },
    {
      "cell_type": "code",
      "source": [
        "clientes['nota'].value_counts().sort_index()"
      ],
      "metadata": {
        "id": "vA3lZl6HTWGC",
        "outputId": "c54e497b-a8dc-4e72-e968-736a3d57b2e6",
        "colab": {
          "base_uri": "https://localhost:8080/",
          "height": 460
        }
      },
      "execution_count": 26,
      "outputs": [
        {
          "output_type": "execute_result",
          "data": {
            "text/plain": [
              "nota\n",
              "0       32\n",
              "1       33\n",
              "2       58\n",
              "3       60\n",
              "4      113\n",
              "5       90\n",
              "6      135\n",
              "7      689\n",
              "8      923\n",
              "9     2519\n",
              "10    1517\n",
              "Name: count, dtype: int64"
            ],
            "text/html": [
              "<div>\n",
              "<style scoped>\n",
              "    .dataframe tbody tr th:only-of-type {\n",
              "        vertical-align: middle;\n",
              "    }\n",
              "\n",
              "    .dataframe tbody tr th {\n",
              "        vertical-align: top;\n",
              "    }\n",
              "\n",
              "    .dataframe thead th {\n",
              "        text-align: right;\n",
              "    }\n",
              "</style>\n",
              "<table border=\"1\" class=\"dataframe\">\n",
              "  <thead>\n",
              "    <tr style=\"text-align: right;\">\n",
              "      <th></th>\n",
              "      <th>count</th>\n",
              "    </tr>\n",
              "    <tr>\n",
              "      <th>nota</th>\n",
              "      <th></th>\n",
              "    </tr>\n",
              "  </thead>\n",
              "  <tbody>\n",
              "    <tr>\n",
              "      <th>0</th>\n",
              "      <td>32</td>\n",
              "    </tr>\n",
              "    <tr>\n",
              "      <th>1</th>\n",
              "      <td>33</td>\n",
              "    </tr>\n",
              "    <tr>\n",
              "      <th>2</th>\n",
              "      <td>58</td>\n",
              "    </tr>\n",
              "    <tr>\n",
              "      <th>3</th>\n",
              "      <td>60</td>\n",
              "    </tr>\n",
              "    <tr>\n",
              "      <th>4</th>\n",
              "      <td>113</td>\n",
              "    </tr>\n",
              "    <tr>\n",
              "      <th>5</th>\n",
              "      <td>90</td>\n",
              "    </tr>\n",
              "    <tr>\n",
              "      <th>6</th>\n",
              "      <td>135</td>\n",
              "    </tr>\n",
              "    <tr>\n",
              "      <th>7</th>\n",
              "      <td>689</td>\n",
              "    </tr>\n",
              "    <tr>\n",
              "      <th>8</th>\n",
              "      <td>923</td>\n",
              "    </tr>\n",
              "    <tr>\n",
              "      <th>9</th>\n",
              "      <td>2519</td>\n",
              "    </tr>\n",
              "    <tr>\n",
              "      <th>10</th>\n",
              "      <td>1517</td>\n",
              "    </tr>\n",
              "  </tbody>\n",
              "</table>\n",
              "</div><br><label><b>dtype:</b> int64</label>"
            ]
          },
          "metadata": {},
          "execution_count": 26
        }
      ]
    },
    {
      "cell_type": "markdown",
      "source": [
        "# Número de clientes únicos y de compras registradas"
      ],
      "metadata": {
        "id": "kl0yvEAkTp_-"
      }
    },
    {
      "cell_type": "code",
      "source": [
        "clientes['ID_cliente'].nunique()"
      ],
      "metadata": {
        "id": "tqvE4EvBTkqz",
        "outputId": "23bacbb4-cd3c-45cd-a5fb-9dcdf49c195d",
        "colab": {
          "base_uri": "https://localhost:8080/"
        }
      },
      "execution_count": 28,
      "outputs": [
        {
          "output_type": "execute_result",
          "data": {
            "text/plain": [
              "4453"
            ]
          },
          "metadata": {},
          "execution_count": 28
        }
      ]
    },
    {
      "cell_type": "code",
      "source": [
        "clientes['ID_compra'].nunique()"
      ],
      "metadata": {
        "id": "wqY964K-TnKL",
        "outputId": "ee3647b5-39ea-44e8-c8fd-fc49c81f8643",
        "colab": {
          "base_uri": "https://localhost:8080/"
        }
      },
      "execution_count": 30,
      "outputs": [
        {
          "output_type": "execute_result",
          "data": {
            "text/plain": [
              "6169"
            ]
          },
          "metadata": {},
          "execution_count": 30
        }
      ]
    },
    {
      "cell_type": "code",
      "source": [
        "# Verificar si hay clientes con múltiples compras\n",
        "clientes['ID_cliente'].value_counts().value_counts().sort_index()"
      ],
      "metadata": {
        "id": "CeKaMnAbT7Mj",
        "outputId": "de64509d-52df-4a9f-ccfc-1887c3d87227",
        "colab": {
          "base_uri": "https://localhost:8080/",
          "height": 335
        }
      },
      "execution_count": 31,
      "outputs": [
        {
          "output_type": "execute_result",
          "data": {
            "text/plain": [
              "count\n",
              "1    3117\n",
              "2    1003\n",
              "3     298\n",
              "4      28\n",
              "5       3\n",
              "6       3\n",
              "7       1\n",
              "Name: count, dtype: int64"
            ],
            "text/html": [
              "<div>\n",
              "<style scoped>\n",
              "    .dataframe tbody tr th:only-of-type {\n",
              "        vertical-align: middle;\n",
              "    }\n",
              "\n",
              "    .dataframe tbody tr th {\n",
              "        vertical-align: top;\n",
              "    }\n",
              "\n",
              "    .dataframe thead th {\n",
              "        text-align: right;\n",
              "    }\n",
              "</style>\n",
              "<table border=\"1\" class=\"dataframe\">\n",
              "  <thead>\n",
              "    <tr style=\"text-align: right;\">\n",
              "      <th></th>\n",
              "      <th>count</th>\n",
              "    </tr>\n",
              "    <tr>\n",
              "      <th>count</th>\n",
              "      <th></th>\n",
              "    </tr>\n",
              "  </thead>\n",
              "  <tbody>\n",
              "    <tr>\n",
              "      <th>1</th>\n",
              "      <td>3117</td>\n",
              "    </tr>\n",
              "    <tr>\n",
              "      <th>2</th>\n",
              "      <td>1003</td>\n",
              "    </tr>\n",
              "    <tr>\n",
              "      <th>3</th>\n",
              "      <td>298</td>\n",
              "    </tr>\n",
              "    <tr>\n",
              "      <th>4</th>\n",
              "      <td>28</td>\n",
              "    </tr>\n",
              "    <tr>\n",
              "      <th>5</th>\n",
              "      <td>3</td>\n",
              "    </tr>\n",
              "    <tr>\n",
              "      <th>6</th>\n",
              "      <td>3</td>\n",
              "    </tr>\n",
              "    <tr>\n",
              "      <th>7</th>\n",
              "      <td>1</td>\n",
              "    </tr>\n",
              "  </tbody>\n",
              "</table>\n",
              "</div><br><label><b>dtype:</b> int64</label>"
            ]
          },
          "metadata": {},
          "execution_count": 31
        }
      ]
    },
    {
      "cell_type": "code",
      "source": [
        "# Edad media y calificación media general\n",
        "clientes[['edad', 'nota']].mean()"
      ],
      "metadata": {
        "id": "rx-SceZ9T-4R",
        "outputId": "a1fc389e-3554-47fc-a59b-58dc2c9e582b",
        "colab": {
          "base_uri": "https://localhost:8080/",
          "height": 147
        }
      },
      "execution_count": 33,
      "outputs": [
        {
          "output_type": "execute_result",
          "data": {
            "text/plain": [
              "edad    38.26001\n",
              "nota     8.44367\n",
              "dtype: float64"
            ],
            "text/html": [
              "<div>\n",
              "<style scoped>\n",
              "    .dataframe tbody tr th:only-of-type {\n",
              "        vertical-align: middle;\n",
              "    }\n",
              "\n",
              "    .dataframe tbody tr th {\n",
              "        vertical-align: top;\n",
              "    }\n",
              "\n",
              "    .dataframe thead th {\n",
              "        text-align: right;\n",
              "    }\n",
              "</style>\n",
              "<table border=\"1\" class=\"dataframe\">\n",
              "  <thead>\n",
              "    <tr style=\"text-align: right;\">\n",
              "      <th></th>\n",
              "      <th>0</th>\n",
              "    </tr>\n",
              "  </thead>\n",
              "  <tbody>\n",
              "    <tr>\n",
              "      <th>edad</th>\n",
              "      <td>38.26001</td>\n",
              "    </tr>\n",
              "    <tr>\n",
              "      <th>nota</th>\n",
              "      <td>8.44367</td>\n",
              "    </tr>\n",
              "  </tbody>\n",
              "</table>\n",
              "</div><br><label><b>dtype:</b> float64</label>"
            ]
          },
          "metadata": {},
          "execution_count": 33
        }
      ]
    },
    {
      "cell_type": "code",
      "source": [
        "clientes.groupby('sexo_biologico')[['edad', 'nota']].mean()"
      ],
      "metadata": {
        "id": "P9C0gfmuUL_q",
        "outputId": "718ebb64-fbf8-490c-89b9-1206a3916d58",
        "colab": {
          "base_uri": "https://localhost:8080/",
          "height": 143
        }
      },
      "execution_count": 34,
      "outputs": [
        {
          "output_type": "execute_result",
          "data": {
            "text/plain": [
              "                     edad      nota\n",
              "sexo_biologico                     \n",
              "Femenino        38.318896  8.489172\n",
              "Masculino       38.189064  8.388849"
            ],
            "text/html": [
              "\n",
              "  <div id=\"df-bca6a3fa-290a-44eb-bcc7-8205406c519d\" class=\"colab-df-container\">\n",
              "    <div>\n",
              "<style scoped>\n",
              "    .dataframe tbody tr th:only-of-type {\n",
              "        vertical-align: middle;\n",
              "    }\n",
              "\n",
              "    .dataframe tbody tr th {\n",
              "        vertical-align: top;\n",
              "    }\n",
              "\n",
              "    .dataframe thead th {\n",
              "        text-align: right;\n",
              "    }\n",
              "</style>\n",
              "<table border=\"1\" class=\"dataframe\">\n",
              "  <thead>\n",
              "    <tr style=\"text-align: right;\">\n",
              "      <th></th>\n",
              "      <th>edad</th>\n",
              "      <th>nota</th>\n",
              "    </tr>\n",
              "    <tr>\n",
              "      <th>sexo_biologico</th>\n",
              "      <th></th>\n",
              "      <th></th>\n",
              "    </tr>\n",
              "  </thead>\n",
              "  <tbody>\n",
              "    <tr>\n",
              "      <th>Femenino</th>\n",
              "      <td>38.318896</td>\n",
              "      <td>8.489172</td>\n",
              "    </tr>\n",
              "    <tr>\n",
              "      <th>Masculino</th>\n",
              "      <td>38.189064</td>\n",
              "      <td>8.388849</td>\n",
              "    </tr>\n",
              "  </tbody>\n",
              "</table>\n",
              "</div>\n",
              "    <div class=\"colab-df-buttons\">\n",
              "\n",
              "  <div class=\"colab-df-container\">\n",
              "    <button class=\"colab-df-convert\" onclick=\"convertToInteractive('df-bca6a3fa-290a-44eb-bcc7-8205406c519d')\"\n",
              "            title=\"Convert this dataframe to an interactive table.\"\n",
              "            style=\"display:none;\">\n",
              "\n",
              "  <svg xmlns=\"http://www.w3.org/2000/svg\" height=\"24px\" viewBox=\"0 -960 960 960\">\n",
              "    <path d=\"M120-120v-720h720v720H120Zm60-500h600v-160H180v160Zm220 220h160v-160H400v160Zm0 220h160v-160H400v160ZM180-400h160v-160H180v160Zm440 0h160v-160H620v160ZM180-180h160v-160H180v160Zm440 0h160v-160H620v160Z\"/>\n",
              "  </svg>\n",
              "    </button>\n",
              "\n",
              "  <style>\n",
              "    .colab-df-container {\n",
              "      display:flex;\n",
              "      gap: 12px;\n",
              "    }\n",
              "\n",
              "    .colab-df-convert {\n",
              "      background-color: #E8F0FE;\n",
              "      border: none;\n",
              "      border-radius: 50%;\n",
              "      cursor: pointer;\n",
              "      display: none;\n",
              "      fill: #1967D2;\n",
              "      height: 32px;\n",
              "      padding: 0 0 0 0;\n",
              "      width: 32px;\n",
              "    }\n",
              "\n",
              "    .colab-df-convert:hover {\n",
              "      background-color: #E2EBFA;\n",
              "      box-shadow: 0px 1px 2px rgba(60, 64, 67, 0.3), 0px 1px 3px 1px rgba(60, 64, 67, 0.15);\n",
              "      fill: #174EA6;\n",
              "    }\n",
              "\n",
              "    .colab-df-buttons div {\n",
              "      margin-bottom: 4px;\n",
              "    }\n",
              "\n",
              "    [theme=dark] .colab-df-convert {\n",
              "      background-color: #3B4455;\n",
              "      fill: #D2E3FC;\n",
              "    }\n",
              "\n",
              "    [theme=dark] .colab-df-convert:hover {\n",
              "      background-color: #434B5C;\n",
              "      box-shadow: 0px 1px 3px 1px rgba(0, 0, 0, 0.15);\n",
              "      filter: drop-shadow(0px 1px 2px rgba(0, 0, 0, 0.3));\n",
              "      fill: #FFFFFF;\n",
              "    }\n",
              "  </style>\n",
              "\n",
              "    <script>\n",
              "      const buttonEl =\n",
              "        document.querySelector('#df-bca6a3fa-290a-44eb-bcc7-8205406c519d button.colab-df-convert');\n",
              "      buttonEl.style.display =\n",
              "        google.colab.kernel.accessAllowed ? 'block' : 'none';\n",
              "\n",
              "      async function convertToInteractive(key) {\n",
              "        const element = document.querySelector('#df-bca6a3fa-290a-44eb-bcc7-8205406c519d');\n",
              "        const dataTable =\n",
              "          await google.colab.kernel.invokeFunction('convertToInteractive',\n",
              "                                                    [key], {});\n",
              "        if (!dataTable) return;\n",
              "\n",
              "        const docLinkHtml = 'Like what you see? Visit the ' +\n",
              "          '<a target=\"_blank\" href=https://colab.research.google.com/notebooks/data_table.ipynb>data table notebook</a>'\n",
              "          + ' to learn more about interactive tables.';\n",
              "        element.innerHTML = '';\n",
              "        dataTable['output_type'] = 'display_data';\n",
              "        await google.colab.output.renderOutput(dataTable, element);\n",
              "        const docLink = document.createElement('div');\n",
              "        docLink.innerHTML = docLinkHtml;\n",
              "        element.appendChild(docLink);\n",
              "      }\n",
              "    </script>\n",
              "  </div>\n",
              "\n",
              "\n",
              "    <div id=\"df-48f505e1-be86-400a-811e-ee1fabe11e0d\">\n",
              "      <button class=\"colab-df-quickchart\" onclick=\"quickchart('df-48f505e1-be86-400a-811e-ee1fabe11e0d')\"\n",
              "                title=\"Suggest charts\"\n",
              "                style=\"display:none;\">\n",
              "\n",
              "<svg xmlns=\"http://www.w3.org/2000/svg\" height=\"24px\"viewBox=\"0 0 24 24\"\n",
              "     width=\"24px\">\n",
              "    <g>\n",
              "        <path d=\"M19 3H5c-1.1 0-2 .9-2 2v14c0 1.1.9 2 2 2h14c1.1 0 2-.9 2-2V5c0-1.1-.9-2-2-2zM9 17H7v-7h2v7zm4 0h-2V7h2v10zm4 0h-2v-4h2v4z\"/>\n",
              "    </g>\n",
              "</svg>\n",
              "      </button>\n",
              "\n",
              "<style>\n",
              "  .colab-df-quickchart {\n",
              "      --bg-color: #E8F0FE;\n",
              "      --fill-color: #1967D2;\n",
              "      --hover-bg-color: #E2EBFA;\n",
              "      --hover-fill-color: #174EA6;\n",
              "      --disabled-fill-color: #AAA;\n",
              "      --disabled-bg-color: #DDD;\n",
              "  }\n",
              "\n",
              "  [theme=dark] .colab-df-quickchart {\n",
              "      --bg-color: #3B4455;\n",
              "      --fill-color: #D2E3FC;\n",
              "      --hover-bg-color: #434B5C;\n",
              "      --hover-fill-color: #FFFFFF;\n",
              "      --disabled-bg-color: #3B4455;\n",
              "      --disabled-fill-color: #666;\n",
              "  }\n",
              "\n",
              "  .colab-df-quickchart {\n",
              "    background-color: var(--bg-color);\n",
              "    border: none;\n",
              "    border-radius: 50%;\n",
              "    cursor: pointer;\n",
              "    display: none;\n",
              "    fill: var(--fill-color);\n",
              "    height: 32px;\n",
              "    padding: 0;\n",
              "    width: 32px;\n",
              "  }\n",
              "\n",
              "  .colab-df-quickchart:hover {\n",
              "    background-color: var(--hover-bg-color);\n",
              "    box-shadow: 0 1px 2px rgba(60, 64, 67, 0.3), 0 1px 3px 1px rgba(60, 64, 67, 0.15);\n",
              "    fill: var(--button-hover-fill-color);\n",
              "  }\n",
              "\n",
              "  .colab-df-quickchart-complete:disabled,\n",
              "  .colab-df-quickchart-complete:disabled:hover {\n",
              "    background-color: var(--disabled-bg-color);\n",
              "    fill: var(--disabled-fill-color);\n",
              "    box-shadow: none;\n",
              "  }\n",
              "\n",
              "  .colab-df-spinner {\n",
              "    border: 2px solid var(--fill-color);\n",
              "    border-color: transparent;\n",
              "    border-bottom-color: var(--fill-color);\n",
              "    animation:\n",
              "      spin 1s steps(1) infinite;\n",
              "  }\n",
              "\n",
              "  @keyframes spin {\n",
              "    0% {\n",
              "      border-color: transparent;\n",
              "      border-bottom-color: var(--fill-color);\n",
              "      border-left-color: var(--fill-color);\n",
              "    }\n",
              "    20% {\n",
              "      border-color: transparent;\n",
              "      border-left-color: var(--fill-color);\n",
              "      border-top-color: var(--fill-color);\n",
              "    }\n",
              "    30% {\n",
              "      border-color: transparent;\n",
              "      border-left-color: var(--fill-color);\n",
              "      border-top-color: var(--fill-color);\n",
              "      border-right-color: var(--fill-color);\n",
              "    }\n",
              "    40% {\n",
              "      border-color: transparent;\n",
              "      border-right-color: var(--fill-color);\n",
              "      border-top-color: var(--fill-color);\n",
              "    }\n",
              "    60% {\n",
              "      border-color: transparent;\n",
              "      border-right-color: var(--fill-color);\n",
              "    }\n",
              "    80% {\n",
              "      border-color: transparent;\n",
              "      border-right-color: var(--fill-color);\n",
              "      border-bottom-color: var(--fill-color);\n",
              "    }\n",
              "    90% {\n",
              "      border-color: transparent;\n",
              "      border-bottom-color: var(--fill-color);\n",
              "    }\n",
              "  }\n",
              "</style>\n",
              "\n",
              "      <script>\n",
              "        async function quickchart(key) {\n",
              "          const quickchartButtonEl =\n",
              "            document.querySelector('#' + key + ' button');\n",
              "          quickchartButtonEl.disabled = true;  // To prevent multiple clicks.\n",
              "          quickchartButtonEl.classList.add('colab-df-spinner');\n",
              "          try {\n",
              "            const charts = await google.colab.kernel.invokeFunction(\n",
              "                'suggestCharts', [key], {});\n",
              "          } catch (error) {\n",
              "            console.error('Error during call to suggestCharts:', error);\n",
              "          }\n",
              "          quickchartButtonEl.classList.remove('colab-df-spinner');\n",
              "          quickchartButtonEl.classList.add('colab-df-quickchart-complete');\n",
              "        }\n",
              "        (() => {\n",
              "          let quickchartButtonEl =\n",
              "            document.querySelector('#df-48f505e1-be86-400a-811e-ee1fabe11e0d button');\n",
              "          quickchartButtonEl.style.display =\n",
              "            google.colab.kernel.accessAllowed ? 'block' : 'none';\n",
              "        })();\n",
              "      </script>\n",
              "    </div>\n",
              "\n",
              "    </div>\n",
              "  </div>\n"
            ],
            "application/vnd.google.colaboratory.intrinsic+json": {
              "type": "dataframe",
              "summary": "{\n  \"name\": \"clientes\",\n  \"rows\": 2,\n  \"fields\": [\n    {\n      \"column\": \"sexo_biologico\",\n      \"properties\": {\n        \"dtype\": \"string\",\n        \"num_unique_values\": 2,\n        \"samples\": [\n          \"Masculino\",\n          \"Femenino\"\n        ],\n        \"semantic_type\": \"\",\n        \"description\": \"\"\n      }\n    },\n    {\n      \"column\": \"edad\",\n      \"properties\": {\n        \"dtype\": \"number\",\n        \"std\": 0.0918056907919806,\n        \"min\": 38.18906361686919,\n        \"max\": 38.31889646989024,\n        \"num_unique_values\": 2,\n        \"samples\": [\n          38.18906361686919,\n          38.31889646989024\n        ],\n        \"semantic_type\": \"\",\n        \"description\": \"\"\n      }\n    },\n    {\n      \"column\": \"nota\",\n      \"properties\": {\n        \"dtype\": \"number\",\n        \"std\": 0.07093919695202217,\n        \"min\": 8.388849177984275,\n        \"max\": 8.48917235241768,\n        \"num_unique_values\": 2,\n        \"samples\": [\n          8.388849177984275,\n          8.48917235241768\n        ],\n        \"semantic_type\": \"\",\n        \"description\": \"\"\n      }\n    }\n  ]\n}"
            }
          },
          "metadata": {},
          "execution_count": 34
        }
      ]
    },
    {
      "cell_type": "code",
      "source": [
        "# Edad y nota media por región\n",
        "clientes.groupby('region')[['edad', 'nota']].mean()"
      ],
      "metadata": {
        "id": "YqTCIBpIUVJd",
        "outputId": "d48ce464-f436-4115-b4a5-79b56a841ac8",
        "colab": {
          "base_uri": "https://localhost:8080/",
          "height": 363
        }
      },
      "execution_count": 35,
      "outputs": [
        {
          "output_type": "execute_result",
          "data": {
            "text/plain": [
              "                   edad      nota\n",
              "region                           \n",
              "Centro        38.655844  8.419481\n",
              "Centro-Norte  38.238274  8.465291\n",
              "Centro-Sur    37.704961  8.389034\n",
              "Golfo         38.632603  8.318735\n",
              "Noreste       37.977949  8.543550\n",
              "Noroeste      38.115204  8.408307\n",
              "Occidente     38.021583  8.456835\n",
              "Sur           38.253521  8.457746\n",
              "Sureste       38.390681  8.591398"
            ],
            "text/html": [
              "\n",
              "  <div id=\"df-0d004dad-b034-40df-92e7-7b067c1da7d7\" class=\"colab-df-container\">\n",
              "    <div>\n",
              "<style scoped>\n",
              "    .dataframe tbody tr th:only-of-type {\n",
              "        vertical-align: middle;\n",
              "    }\n",
              "\n",
              "    .dataframe tbody tr th {\n",
              "        vertical-align: top;\n",
              "    }\n",
              "\n",
              "    .dataframe thead th {\n",
              "        text-align: right;\n",
              "    }\n",
              "</style>\n",
              "<table border=\"1\" class=\"dataframe\">\n",
              "  <thead>\n",
              "    <tr style=\"text-align: right;\">\n",
              "      <th></th>\n",
              "      <th>edad</th>\n",
              "      <th>nota</th>\n",
              "    </tr>\n",
              "    <tr>\n",
              "      <th>region</th>\n",
              "      <th></th>\n",
              "      <th></th>\n",
              "    </tr>\n",
              "  </thead>\n",
              "  <tbody>\n",
              "    <tr>\n",
              "      <th>Centro</th>\n",
              "      <td>38.655844</td>\n",
              "      <td>8.419481</td>\n",
              "    </tr>\n",
              "    <tr>\n",
              "      <th>Centro-Norte</th>\n",
              "      <td>38.238274</td>\n",
              "      <td>8.465291</td>\n",
              "    </tr>\n",
              "    <tr>\n",
              "      <th>Centro-Sur</th>\n",
              "      <td>37.704961</td>\n",
              "      <td>8.389034</td>\n",
              "    </tr>\n",
              "    <tr>\n",
              "      <th>Golfo</th>\n",
              "      <td>38.632603</td>\n",
              "      <td>8.318735</td>\n",
              "    </tr>\n",
              "    <tr>\n",
              "      <th>Noreste</th>\n",
              "      <td>37.977949</td>\n",
              "      <td>8.543550</td>\n",
              "    </tr>\n",
              "    <tr>\n",
              "      <th>Noroeste</th>\n",
              "      <td>38.115204</td>\n",
              "      <td>8.408307</td>\n",
              "    </tr>\n",
              "    <tr>\n",
              "      <th>Occidente</th>\n",
              "      <td>38.021583</td>\n",
              "      <td>8.456835</td>\n",
              "    </tr>\n",
              "    <tr>\n",
              "      <th>Sur</th>\n",
              "      <td>38.253521</td>\n",
              "      <td>8.457746</td>\n",
              "    </tr>\n",
              "    <tr>\n",
              "      <th>Sureste</th>\n",
              "      <td>38.390681</td>\n",
              "      <td>8.591398</td>\n",
              "    </tr>\n",
              "  </tbody>\n",
              "</table>\n",
              "</div>\n",
              "    <div class=\"colab-df-buttons\">\n",
              "\n",
              "  <div class=\"colab-df-container\">\n",
              "    <button class=\"colab-df-convert\" onclick=\"convertToInteractive('df-0d004dad-b034-40df-92e7-7b067c1da7d7')\"\n",
              "            title=\"Convert this dataframe to an interactive table.\"\n",
              "            style=\"display:none;\">\n",
              "\n",
              "  <svg xmlns=\"http://www.w3.org/2000/svg\" height=\"24px\" viewBox=\"0 -960 960 960\">\n",
              "    <path d=\"M120-120v-720h720v720H120Zm60-500h600v-160H180v160Zm220 220h160v-160H400v160Zm0 220h160v-160H400v160ZM180-400h160v-160H180v160Zm440 0h160v-160H620v160ZM180-180h160v-160H180v160Zm440 0h160v-160H620v160Z\"/>\n",
              "  </svg>\n",
              "    </button>\n",
              "\n",
              "  <style>\n",
              "    .colab-df-container {\n",
              "      display:flex;\n",
              "      gap: 12px;\n",
              "    }\n",
              "\n",
              "    .colab-df-convert {\n",
              "      background-color: #E8F0FE;\n",
              "      border: none;\n",
              "      border-radius: 50%;\n",
              "      cursor: pointer;\n",
              "      display: none;\n",
              "      fill: #1967D2;\n",
              "      height: 32px;\n",
              "      padding: 0 0 0 0;\n",
              "      width: 32px;\n",
              "    }\n",
              "\n",
              "    .colab-df-convert:hover {\n",
              "      background-color: #E2EBFA;\n",
              "      box-shadow: 0px 1px 2px rgba(60, 64, 67, 0.3), 0px 1px 3px 1px rgba(60, 64, 67, 0.15);\n",
              "      fill: #174EA6;\n",
              "    }\n",
              "\n",
              "    .colab-df-buttons div {\n",
              "      margin-bottom: 4px;\n",
              "    }\n",
              "\n",
              "    [theme=dark] .colab-df-convert {\n",
              "      background-color: #3B4455;\n",
              "      fill: #D2E3FC;\n",
              "    }\n",
              "\n",
              "    [theme=dark] .colab-df-convert:hover {\n",
              "      background-color: #434B5C;\n",
              "      box-shadow: 0px 1px 3px 1px rgba(0, 0, 0, 0.15);\n",
              "      filter: drop-shadow(0px 1px 2px rgba(0, 0, 0, 0.3));\n",
              "      fill: #FFFFFF;\n",
              "    }\n",
              "  </style>\n",
              "\n",
              "    <script>\n",
              "      const buttonEl =\n",
              "        document.querySelector('#df-0d004dad-b034-40df-92e7-7b067c1da7d7 button.colab-df-convert');\n",
              "      buttonEl.style.display =\n",
              "        google.colab.kernel.accessAllowed ? 'block' : 'none';\n",
              "\n",
              "      async function convertToInteractive(key) {\n",
              "        const element = document.querySelector('#df-0d004dad-b034-40df-92e7-7b067c1da7d7');\n",
              "        const dataTable =\n",
              "          await google.colab.kernel.invokeFunction('convertToInteractive',\n",
              "                                                    [key], {});\n",
              "        if (!dataTable) return;\n",
              "\n",
              "        const docLinkHtml = 'Like what you see? Visit the ' +\n",
              "          '<a target=\"_blank\" href=https://colab.research.google.com/notebooks/data_table.ipynb>data table notebook</a>'\n",
              "          + ' to learn more about interactive tables.';\n",
              "        element.innerHTML = '';\n",
              "        dataTable['output_type'] = 'display_data';\n",
              "        await google.colab.output.renderOutput(dataTable, element);\n",
              "        const docLink = document.createElement('div');\n",
              "        docLink.innerHTML = docLinkHtml;\n",
              "        element.appendChild(docLink);\n",
              "      }\n",
              "    </script>\n",
              "  </div>\n",
              "\n",
              "\n",
              "    <div id=\"df-df08faf9-500b-4eb0-b29c-b87a06836763\">\n",
              "      <button class=\"colab-df-quickchart\" onclick=\"quickchart('df-df08faf9-500b-4eb0-b29c-b87a06836763')\"\n",
              "                title=\"Suggest charts\"\n",
              "                style=\"display:none;\">\n",
              "\n",
              "<svg xmlns=\"http://www.w3.org/2000/svg\" height=\"24px\"viewBox=\"0 0 24 24\"\n",
              "     width=\"24px\">\n",
              "    <g>\n",
              "        <path d=\"M19 3H5c-1.1 0-2 .9-2 2v14c0 1.1.9 2 2 2h14c1.1 0 2-.9 2-2V5c0-1.1-.9-2-2-2zM9 17H7v-7h2v7zm4 0h-2V7h2v10zm4 0h-2v-4h2v4z\"/>\n",
              "    </g>\n",
              "</svg>\n",
              "      </button>\n",
              "\n",
              "<style>\n",
              "  .colab-df-quickchart {\n",
              "      --bg-color: #E8F0FE;\n",
              "      --fill-color: #1967D2;\n",
              "      --hover-bg-color: #E2EBFA;\n",
              "      --hover-fill-color: #174EA6;\n",
              "      --disabled-fill-color: #AAA;\n",
              "      --disabled-bg-color: #DDD;\n",
              "  }\n",
              "\n",
              "  [theme=dark] .colab-df-quickchart {\n",
              "      --bg-color: #3B4455;\n",
              "      --fill-color: #D2E3FC;\n",
              "      --hover-bg-color: #434B5C;\n",
              "      --hover-fill-color: #FFFFFF;\n",
              "      --disabled-bg-color: #3B4455;\n",
              "      --disabled-fill-color: #666;\n",
              "  }\n",
              "\n",
              "  .colab-df-quickchart {\n",
              "    background-color: var(--bg-color);\n",
              "    border: none;\n",
              "    border-radius: 50%;\n",
              "    cursor: pointer;\n",
              "    display: none;\n",
              "    fill: var(--fill-color);\n",
              "    height: 32px;\n",
              "    padding: 0;\n",
              "    width: 32px;\n",
              "  }\n",
              "\n",
              "  .colab-df-quickchart:hover {\n",
              "    background-color: var(--hover-bg-color);\n",
              "    box-shadow: 0 1px 2px rgba(60, 64, 67, 0.3), 0 1px 3px 1px rgba(60, 64, 67, 0.15);\n",
              "    fill: var(--button-hover-fill-color);\n",
              "  }\n",
              "\n",
              "  .colab-df-quickchart-complete:disabled,\n",
              "  .colab-df-quickchart-complete:disabled:hover {\n",
              "    background-color: var(--disabled-bg-color);\n",
              "    fill: var(--disabled-fill-color);\n",
              "    box-shadow: none;\n",
              "  }\n",
              "\n",
              "  .colab-df-spinner {\n",
              "    border: 2px solid var(--fill-color);\n",
              "    border-color: transparent;\n",
              "    border-bottom-color: var(--fill-color);\n",
              "    animation:\n",
              "      spin 1s steps(1) infinite;\n",
              "  }\n",
              "\n",
              "  @keyframes spin {\n",
              "    0% {\n",
              "      border-color: transparent;\n",
              "      border-bottom-color: var(--fill-color);\n",
              "      border-left-color: var(--fill-color);\n",
              "    }\n",
              "    20% {\n",
              "      border-color: transparent;\n",
              "      border-left-color: var(--fill-color);\n",
              "      border-top-color: var(--fill-color);\n",
              "    }\n",
              "    30% {\n",
              "      border-color: transparent;\n",
              "      border-left-color: var(--fill-color);\n",
              "      border-top-color: var(--fill-color);\n",
              "      border-right-color: var(--fill-color);\n",
              "    }\n",
              "    40% {\n",
              "      border-color: transparent;\n",
              "      border-right-color: var(--fill-color);\n",
              "      border-top-color: var(--fill-color);\n",
              "    }\n",
              "    60% {\n",
              "      border-color: transparent;\n",
              "      border-right-color: var(--fill-color);\n",
              "    }\n",
              "    80% {\n",
              "      border-color: transparent;\n",
              "      border-right-color: var(--fill-color);\n",
              "      border-bottom-color: var(--fill-color);\n",
              "    }\n",
              "    90% {\n",
              "      border-color: transparent;\n",
              "      border-bottom-color: var(--fill-color);\n",
              "    }\n",
              "  }\n",
              "</style>\n",
              "\n",
              "      <script>\n",
              "        async function quickchart(key) {\n",
              "          const quickchartButtonEl =\n",
              "            document.querySelector('#' + key + ' button');\n",
              "          quickchartButtonEl.disabled = true;  // To prevent multiple clicks.\n",
              "          quickchartButtonEl.classList.add('colab-df-spinner');\n",
              "          try {\n",
              "            const charts = await google.colab.kernel.invokeFunction(\n",
              "                'suggestCharts', [key], {});\n",
              "          } catch (error) {\n",
              "            console.error('Error during call to suggestCharts:', error);\n",
              "          }\n",
              "          quickchartButtonEl.classList.remove('colab-df-spinner');\n",
              "          quickchartButtonEl.classList.add('colab-df-quickchart-complete');\n",
              "        }\n",
              "        (() => {\n",
              "          let quickchartButtonEl =\n",
              "            document.querySelector('#df-df08faf9-500b-4eb0-b29c-b87a06836763 button');\n",
              "          quickchartButtonEl.style.display =\n",
              "            google.colab.kernel.accessAllowed ? 'block' : 'none';\n",
              "        })();\n",
              "      </script>\n",
              "    </div>\n",
              "\n",
              "    </div>\n",
              "  </div>\n"
            ],
            "application/vnd.google.colaboratory.intrinsic+json": {
              "type": "dataframe",
              "summary": "{\n  \"name\": \"clientes\",\n  \"rows\": 9,\n  \"fields\": [\n    {\n      \"column\": \"region\",\n      \"properties\": {\n        \"dtype\": \"string\",\n        \"num_unique_values\": 9,\n        \"samples\": [\n          \"Sur\",\n          \"Centro-Norte\",\n          \"Noroeste\"\n        ],\n        \"semantic_type\": \"\",\n        \"description\": \"\"\n      }\n    },\n    {\n      \"column\": \"edad\",\n      \"properties\": {\n        \"dtype\": \"number\",\n        \"std\": 0.30922975429636673,\n        \"min\": 37.70496083550914,\n        \"max\": 38.65584415584416,\n        \"num_unique_values\": 9,\n        \"samples\": [\n          38.25352112676056,\n          38.23827392120075,\n          38.11520376175549\n        ],\n        \"semantic_type\": \"\",\n        \"description\": \"\"\n      }\n    },\n    {\n      \"column\": \"nota\",\n      \"properties\": {\n        \"dtype\": \"number\",\n        \"std\": 0.08116544768778122,\n        \"min\": 8.318734793187348,\n        \"max\": 8.591397849462366,\n        \"num_unique_values\": 9,\n        \"samples\": [\n          8.45774647887324,\n          8.465290806754222,\n          8.408307210031348\n        ],\n        \"semantic_type\": \"\",\n        \"description\": \"\"\n      }\n    }\n  ]\n}"
            }
          },
          "metadata": {},
          "execution_count": 35
        }
      ]
    },
    {
      "cell_type": "code",
      "source": [
        "# Proporción de participación en el programa de cashback\n",
        "clientes['cashback'].value_counts(normalize=True)"
      ],
      "metadata": {
        "id": "D_R-ggfNUcfD",
        "outputId": "d55f272c-e6dd-4818-f93d-60aea87718e3",
        "colab": {
          "base_uri": "https://localhost:8080/",
          "height": 178
        }
      },
      "execution_count": 36,
      "outputs": [
        {
          "output_type": "execute_result",
          "data": {
            "text/plain": [
              "cashback\n",
              "No    0.576593\n",
              "Sí    0.423407\n",
              "Name: proportion, dtype: float64"
            ],
            "text/html": [
              "<div>\n",
              "<style scoped>\n",
              "    .dataframe tbody tr th:only-of-type {\n",
              "        vertical-align: middle;\n",
              "    }\n",
              "\n",
              "    .dataframe tbody tr th {\n",
              "        vertical-align: top;\n",
              "    }\n",
              "\n",
              "    .dataframe thead th {\n",
              "        text-align: right;\n",
              "    }\n",
              "</style>\n",
              "<table border=\"1\" class=\"dataframe\">\n",
              "  <thead>\n",
              "    <tr style=\"text-align: right;\">\n",
              "      <th></th>\n",
              "      <th>proportion</th>\n",
              "    </tr>\n",
              "    <tr>\n",
              "      <th>cashback</th>\n",
              "      <th></th>\n",
              "    </tr>\n",
              "  </thead>\n",
              "  <tbody>\n",
              "    <tr>\n",
              "      <th>No</th>\n",
              "      <td>0.576593</td>\n",
              "    </tr>\n",
              "    <tr>\n",
              "      <th>Sí</th>\n",
              "      <td>0.423407</td>\n",
              "    </tr>\n",
              "  </tbody>\n",
              "</table>\n",
              "</div><br><label><b>dtype:</b> float64</label>"
            ]
          },
          "metadata": {},
          "execution_count": 36
        }
      ]
    },
    {
      "cell_type": "code",
      "source": [
        "# Distribución de edades - Histograma\n",
        "plt.figure(figsize=(8, 4))\n",
        "sns.histplot(clientes['edad'], bins=15, kde=True)\n",
        "plt.title('Distribución de edades')\n",
        "plt.xlabel('Edad')\n",
        "plt.ylabel('Frecuencia')\n",
        "plt.show()"
      ],
      "metadata": {
        "id": "PPSukyR5Uh8c",
        "outputId": "7584b546-77ac-4aea-9b02-2353d980555d",
        "colab": {
          "base_uri": "https://localhost:8080/",
          "height": 410
        }
      },
      "execution_count": 37,
      "outputs": [
        {
          "output_type": "display_data",
          "data": {
            "text/plain": [
              "<Figure size 800x400 with 1 Axes>"
            ],
            "image/png": "[encoded data removed]"
          },
          "metadata": {}
        }
      ]
    },
    {
      "cell_type": "code",
      "source": [
        "# Distribución de calificaciones\n",
        "plt.figure(figsize=(6, 4))\n",
        "sns.countplot(x='nota', data=clientes, palette='viridis')\n",
        "plt.title('Distribución de calificaciones')\n",
        "plt.xlabel('Nota')\n",
        "plt.ylabel('Cantidad')\n",
        "plt.show()"
      ],
      "metadata": {
        "id": "27jN4q1nUnt5",
        "outputId": "1c6567bb-63dd-4677-8a0d-a6fe7dfba214",
        "colab": {
          "base_uri": "https://localhost:8080/",
          "height": 410
        }
      },
      "execution_count": 38,
      "outputs": [
        {
          "output_type": "display_data",
          "data": {
            "text/plain": [
              "<Figure size 600x400 with 1 Axes>"
            ],
            "image/png": "[encoded data removed]"
          },
          "metadata": {}
        }
      ]
    },
    {
      "cell_type": "markdown",
      "source": [
        "### **Base de ventas**"
      ],
      "metadata": {
        "id": "MT_FYn9jxvyy"
      }
    },
    {
      "cell_type": "markdown",
      "source": [
        "> #### <strong><font color=\"7b71ff\" size =6>Prompt:</font></strong>\n",
        "\n",
        "Ahora vamos explorar la base de ventas en formato de un DataFrame, llamado \"ventas\". Contiene datos de las ventas del comercio electrónico, que son: ID de la compra, fecha de la compra, hora de la compra, categoría del producto, precio unitario del producto, cantidad vendida, envío y el método de pago.\n",
        "\n",
        "Queremos hacer una breve exploración de los datos para comprender un poco sobre ellos. Recordando que los datos de esta base también están limpios y tratados. Construye el código para ejecutar esta etapa utilizando Python con el objetivo de conocer mejor el dataframe \"clientes\" y algunos de sus atributos."
      ],
      "metadata": {
        "id": "WMF2ZEvIxzA2"
      }
    },
    {
      "cell_type": "code",
      "source": [],
      "metadata": {
        "id": "ErpavGF2-n-E"
      },
      "execution_count": null,
      "outputs": []
    },
    {
      "cell_type": "code",
      "source": [],
      "metadata": {
        "id": "4IZIkGfF-nvS"
      },
      "execution_count": null,
      "outputs": []
    },
    {
      "cell_type": "code",
      "source": [],
      "metadata": {
        "id": "p0FIKkM6-nso"
      },
      "execution_count": null,
      "outputs": []
    },
    {
      "cell_type": "markdown",
      "source": [
        "## **1.4 - Tipos de gráficos**\n",
        "\n",
        "---\n"
      ],
      "metadata": {
        "id": "0JlV1G5ST0ij"
      }
    },
    {
      "cell_type": "markdown",
      "source": [
        "Ya hemos explorado un poco de las dos bases del proyecto y obtuvimos algunos insights interesantes que pueden ser importantes en la construcción de nuestras visualizaciones.\n",
        "\n",
        "Ahora, intentemos simplificar nuestro análisis consolidando los datos en una única tabla para, a partir de ahí, enfocarnos en las posibilidades de visuales combinando los datos. ¿Podrá GPT ayudarnos aquí?"
      ],
      "metadata": {
        "id": "viFLQ7iIT9Lk"
      }
    },
    {
      "cell_type": "markdown",
      "source": [
        "> #### <strong><font color=\"7b71ff\" size =6>Prompt:</font></strong>\n",
        "\n",
        "Ahora vamos a unir las dos bases de nuestro proyecto en una sola utilizando como llave la columna \"ID_compra\". Además, organizaremos las columnas en la siguiente secuencia:\n",
        "\n",
        "* ID_compra\n",
        "* fecha\n",
        "* horario\n",
        "* categoria\n",
        "* precio_unitario\n",
        "* cantidad\n",
        "* envio\n",
        "* metodo_pago\n",
        "* ID_cliente\n",
        "* edad\n",
        "* sexo_biologico\n",
        "* ciudad\n",
        "* estado\n",
        "* region\n",
        "* cashback\n",
        "* nota\n",
        "\n",
        "Construye un código para ejecutar esta etapa usando Python y la biblioteca Pandas.\n"
      ],
      "metadata": {
        "id": "Q9msYRqEUh6B"
      }
    },
    {
      "cell_type": "code",
      "source": [],
      "metadata": {
        "id": "Xnt5nQnX-kuS"
      },
      "execution_count": null,
      "outputs": []
    },
    {
      "cell_type": "code",
      "source": [],
      "metadata": {
        "id": "OxWC_J80-kmI"
      },
      "execution_count": null,
      "outputs": []
    },
    {
      "cell_type": "markdown",
      "source": [
        "Ahora le pediremos a ChatGPT ideas de visuales que podamos contruir con esos datos"
      ],
      "metadata": {
        "id": "53Rx8QHRXBDx"
      }
    },
    {
      "cell_type": "markdown",
      "source": [
        "> #### <strong><font color=\"7b71ff\" size =6>Prompt:</font></strong>\n",
        "\n",
        "Ahora con nuestro \"df\" ya construido a partir de las dos bases del proyecto, vamos a iniciar un nuevo proceso. Queremos comenzar la etapa de generación de visuales que puedan ayudar en el análisis de la facturación a lo largo del año, el perfil del cliente y otros datos que puedan ser relevantes para el análisis y la construcción de nuestra narrativa.\n",
        "\n",
        "Las columnas de \"df\" son:\n",
        "\n",
        "* ID_compra: número único asignado a la compra realizada, en formato int\n",
        "* fecha: fecha de la compra, en formato datetime\n",
        "* horario: hora de la compra, en formato object\n",
        "* categoria: categoría del producto, en formato object\n",
        "* precio_unitario: precio de una unidad del producto, en formato float\n",
        "* cantidad: cantidad vendida del producto, en formato int\n",
        "* envio: costo de envío a ser pagado en total de la compra, en formato float\n",
        "* metodo_pago: método de pago de la compra, en formato object\n",
        "* ID_cliente: número único asignado al cliente, en formato int\n",
        "* edad: edad del cliente, en formato int\n",
        "* sexo_biologico: sexo biológico del cliente, en formato object\n",
        "* ciudad: ciudad del cliente, en formato object\n",
        "* estado: estado del cliente, en formato object\n",
        "* region: región del cliente, en formato object\n",
        "* cashback: si el cliente participa o no en el programa de cashback de la tienda, en formato object\n",
        "* nota: evaluación del cliente por la compra, en formato int\n",
        "\n",
        "El objetivo es abstraer y buscar relaciones para construir visualizaciones interesantes para el análisis de los datos de los clientes y ventas de Zoop.\n",
        "\n",
        "Con base en la información proporcionada, ¿qué tipos de visualizaciones serían útiles para alcanzar el objetivo de analizar los datos?"
      ],
      "metadata": {
        "id": "RQ7xEhDRklQi"
      }
    },
    {
      "cell_type": "code",
      "source": [],
      "metadata": {
        "id": "H1sk7i27-hJm"
      },
      "execution_count": null,
      "outputs": []
    },
    {
      "cell_type": "code",
      "source": [],
      "metadata": {
        "id": "RaXOh3ye-gtT"
      },
      "execution_count": null,
      "outputs": []
    },
    {
      "cell_type": "markdown",
      "source": [
        "# **Clase 2 - Visualizando los dados**"
      ],
      "metadata": {
        "id": "s9k5kKMU1mvw"
      }
    },
    {
      "cell_type": "markdown",
      "source": [
        "ChatGPT trajo algunas ideas interesantes para la creación de los gráficos.\n",
        "\n",
        "Sin embargo, como ya tenemos algunas preguntas para guiarnos en la creación de los visuales, no vamos a seguir todas las sugerencias aquí mencionadas.\n",
        "\n",
        "Queda como una sugerencia para ayudarte cuando estés trabajando con otras bases y tengas dificultades para pensar en qué visualizaciones podrías construir.\n",
        "\n",
        "**Observación:** Recordando que es muy probable que los gráficos que se me señalaron, no sean necesariamente los mismos que aparecerán para ti, dado a la aleatoriedad de las respuestas de cualquier IA generativa."
      ],
      "metadata": {
        "id": "V12xn1TszsSs"
      }
    },
    {
      "cell_type": "markdown",
      "source": [
        "## **2.1 - Definiendo los visualizaciones**\n",
        "\n",
        "---"
      ],
      "metadata": {
        "id": "LQuD_W_n1xk3"
      }
    },
    {
      "cell_type": "markdown",
      "source": [
        "Después de la etapa de exploración de los datos, vamos a leer las preguntas que se plantearon en la demanda que recibimos. Así, comenzaremos a pensar en los visuales que vamos a construir con la ayuda de la IA.\n",
        "\n",
        "### **Preguntas**\n",
        "\n",
        "#### Ventas\n",
        "\n",
        "1. ¿Cuáles fueron los métodos de pago más utilizados en 2023?\n",
        "2. ¿Cuál fue la facturación por categoría en 2023?\n",
        "3. ¿Cómo fueron las ventas a lo largo de los meses en 2023?\n",
        "4. ¿Cómo se divide la venta por trimestre por método de pago? ¿Existe un período en que algún tipo de pago se destaca?\n",
        "\n",
        "\n",
        "#### Perfil del cliente\n",
        "\n",
        "5. ¿Cuál es la proporción de la clientela que participa en nuestro programa de cashback?\n",
        "6. ¿Cómo están distribuidas las evaluaciones del producto? ¿Tenemos buenos números generales?\n",
        "7. ¿Cómo se distribuye nuestro público por edad y sexo biológico? ¿Existe un grupo que se destaca?\n",
        "\n",
        "Inicialmente, vamos a hacer la primera versión de los gráficos, aún no refinados con los elementos visuales, para más adelante ir añadiendo las diversas técnicas de storytelling."
      ],
      "metadata": {
        "id": "UHZIUzEf4TzJ"
      }
    },
    {
      "cell_type": "markdown",
      "source": [
        "### **1ra Pregunta:** ¿Cuáles fueron los métodos de pago más utilizados en 2023?"
      ],
      "metadata": {
        "id": "nuximvEi5Jsc"
      }
    },
    {
      "cell_type": "markdown",
      "source": [
        "Le vamos pedir a ChatGPT que nos auxilie en la construcción de este visual. Primero, trataremos los datos generando una tabla resumida (que también es una especie de visual) y luego construiremos el primer gráfico."
      ],
      "metadata": {
        "id": "sp3YpxjOCdBY"
      }
    },
    {
      "cell_type": "markdown",
      "source": [
        "> #### <strong><font color=\"7b71ff\" size=6>Prompt:</font></strong>\n",
        "\n",
        "Tenemos un DataFrame llamado \"df\" y queremos construir un visual que presente cuáles métodos de pago fueron los más utilizados.\n",
        "\n",
        "En \"df\", tenemos la columna \"metodo_pago\" con los 4 tipos de pago utilizados en la compra.\n",
        "\n",
        "Inicialmente, queremos construir una tabla llamada \"metodos_de_pago\" que resuma los datos de esta columna y, a continuación, deseamos crear una visualización que muestre la cantidad de esos métodos de pago presentes en la tabla \"metodo_pago\".\n",
        "\n",
        "Utiliza las bibliotecas de visualización de datos de Python para crear esta visualización.\n"
      ],
      "metadata": {
        "id": "qHwZZA1lG6JY"
      }
    },
    {
      "cell_type": "code",
      "source": [],
      "metadata": {
        "id": "v2_h5RAO-LFW"
      },
      "execution_count": null,
      "outputs": []
    },
    {
      "cell_type": "code",
      "source": [],
      "metadata": {
        "id": "enfDEbZ6-Q7j"
      },
      "execution_count": null,
      "outputs": []
    },
    {
      "cell_type": "code",
      "source": [],
      "metadata": {
        "id": "lzcvPTO_-K_p"
      },
      "execution_count": null,
      "outputs": []
    },
    {
      "cell_type": "markdown",
      "source": [
        "\n",
        "<font color=\"7b71ff\" size=4> Comentarios: </font>\n",
        "\n",
        "---\n",
        "\n",
        "Podemos observar que, incluso sin especificar el tipo de gráfico, por la forma en que presentamos los datos a ChatGPT, logró representar con éxito un visual que muestra la información deseada. Un gráfico de barras es realmente ideal para representar las cantidades de una o más categorías de datos.\n",
        "\n",
        "Iremos ajustando poco a poco los visuales para que se adecuen a nuestro público y reflejen la identidad visual de la empresa.\n"
      ],
      "metadata": {
        "id": "kMyT9b9AMESv"
      }
    },
    {
      "cell_type": "markdown",
      "source": [
        "## **2.2 - Comparando los datos**\n",
        "\n",
        "---"
      ],
      "metadata": {
        "id": "lBBf_RevoKjD"
      }
    },
    {
      "cell_type": "markdown",
      "source": [
        "### **2da Pregunta:** ¿Cuál fue la facturación por categoria em 2023?"
      ],
      "metadata": {
        "id": "sov50T6wMN3L"
      }
    },
    {
      "cell_type": "markdown",
      "source": [
        "**Observación:** Para la facturación, consideraremos aquí el producto entre el precio unitario y la cantidad, sumados al costo de envío de cada producto.\n"
      ],
      "metadata": {
        "id": "kMl9XgD3OGrc"
      }
    },
    {
      "cell_type": "markdown",
      "source": [
        "> #### <strong><font color=\"7b71ff\" size=6>Prompt:</font></strong>\n",
        "\n",
        "Tenemos un DataFrame llamado \"df\" y queremos construir un gráfico de barras horizontales que muestre la facturación por categoría de Zoop.\n",
        "\n",
        "En \"df\", tenemos las siguientes columnas:\n",
        "* categoria: categorías de los productos\n",
        "* precio_unitario: precio de una unidad del producto\n",
        "* cantidad: cantidad vendida del producto\n",
        "* envio: costo de envío total de la compra.\n",
        "\n",
        "Deseamos crear una visualización que muestre la facturación de cada categoría, donde la facturación se calcula multiplicando el precio unitario por la cantidad y sumando el costo de envío.\n",
        "\n",
        "Utiliza las bibliotecas de visualización de datos de Python para crear esta visualización.\n"
      ],
      "metadata": {
        "id": "E4bKaRL8OprF"
      }
    },
    {
      "cell_type": "code",
      "source": [],
      "metadata": {
        "id": "qOkMMd9E-Izm"
      },
      "execution_count": null,
      "outputs": []
    },
    {
      "cell_type": "code",
      "source": [],
      "metadata": {
        "id": "xSOBv0PY-IxQ"
      },
      "execution_count": null,
      "outputs": []
    },
    {
      "cell_type": "markdown",
      "source": [
        "<font color=\"7b71ff\" size=4> Comentarios: </font>\n",
        "\n",
        "---\n",
        "\n",
        "Aquí especificamos el tipo de gráfico, guiando a ChatGPT en la creación de nuestro visual. Podemos notar que en un gráfico de barras el enfoque está más centrado en las categorías, además de ser una forma más fluida de leer textos que podrían ser demasiado extensos para un gráfico de columnas.\n"
      ],
      "metadata": {
        "id": "JtsP9QD1QrpC"
      }
    },
    {
      "cell_type": "markdown",
      "source": [
        "### **3a Pregunta:** ¿Cómo fueron las ventas a lo largo de los meses en 2023?\n"
      ],
      "metadata": {
        "id": "J_r_YqGlQ3RN"
      }
    },
    {
      "cell_type": "markdown",
      "source": [
        "> #### <strong><font color=\"7b71ff\" size=6>Prompt:</font></strong>\n",
        "\n",
        "Tenemos un DataFrame llamado \"df\" y queremos construir un gráfico de líneas que muestre las ventas totales mensuales de Zoop.\n",
        "\n",
        "En \"df\", tenemos las siguientes columnas:\n",
        "* fecha: con las fechas de las compras en formato datetime (`aaaa-mm-dd`)\n",
        "* facturación: calculada como el producto del precio unitario y la cantidad, sumado al costo de envío de cada venta.\n",
        "\n",
        "Deseamos crear una visualización que muestre las ventas por mes. Primero, agrupa los datos por mes y luego crea una nueva columna llamada \"mes\" que contenga el nombre de cada mes, traduciendo los meses del índice mediante el siguiente diccionario. Utiliza la columna \"fecha\" para agrupar los datos y construir el gráfico. La columna \"mes\" solo debe usarse para cambiar las etiquetas del eje x.\n",
        "\n",
        "```\n",
        "meses = {\n",
        "    'January': 'Ene',\n",
        "    'February': 'Feb',\n",
        "    'March': 'Mar',\n",
        "    'April': 'Abr',\n",
        "    'May': 'May',\n",
        "    'June': 'Jun',\n",
        "    'July': 'Jul',\n",
        "    'August': 'Ago',\n",
        "    'September': 'Sep',\n",
        "    'October': 'Oct',\n",
        "    'November': 'Nov',\n",
        "    'December': 'Dic'\n",
        "}\n",
        "```\n",
        "\n",
        "\n",
        "Utiliza las bibliotecas de visualización de datos de Python para crear esta visualización.\n"
      ],
      "metadata": {
        "id": "PaRBTlLgRMot"
      }
    },
    {
      "cell_type": "code",
      "source": [],
      "metadata": {
        "id": "oIHvCV0--HCy"
      },
      "execution_count": null,
      "outputs": []
    },
    {
      "cell_type": "code",
      "source": [],
      "metadata": {
        "id": "vu5IDFOr-G5L"
      },
      "execution_count": null,
      "outputs": []
    },
    {
      "cell_type": "markdown",
      "source": [
        "<font color=\"7b71ff\" size=4> Comentarios: </font>\n",
        "\n",
        "---\n",
        "\n",
        "Cuando tenemos una cantidad mayor de períodos en nuestros datos, vale la pena recurrir a gráficos de líneas, que son ideales para series temporales. Dado que nuestros datos son mensuales, utilizar un gráfico de columnas, por ejemplo, reduciría la percepción de la secuencia de los datos. Las líneas ofrecen una mayor sensación de continuidad.\n",
        "\n",
        "Siéntete libre de formular algunas hipótesis sobre los momentos de alta y baja en las compras.\n"
      ],
      "metadata": {
        "id": "_TI2LDquTpz_"
      }
    },
    {
      "cell_type": "markdown",
      "source": [
        "##**2.3 - Componiendo datos dinámicos**"
      ],
      "metadata": {
        "id": "jjxAkyE4T1PY"
      }
    },
    {
      "cell_type": "markdown",
      "source": [
        "\n",
        "Construimos algunos visuales interesantes para comparar los datos, mostrando las facturaciones de Zoop. Ahora, pasemos a una nueva categoría de visuales: composición.\n",
        "\n",
        "Vamos a hacer una composición dinámica de los datos. Para ello, añadiremos más variables al análisis, incorporando 3 variables diferentes, siendo una de ellas categórica."
      ],
      "metadata": {
        "id": "Ge60lSmKUM-T"
      }
    },
    {
      "cell_type": "markdown",
      "source": [
        "###**4a Pregunta:** ¿Cómo está dividida la venta por trimestre por método de pago? ¿Existe algún período en el que algún tipo de pago se destaque?\n"
      ],
      "metadata": {
        "id": "OkXV3JTaVwQQ"
      }
    },
    {
      "cell_type": "markdown",
      "source": [
        "> #### <strong><font color=\"7b71ff\" size=6>Prompt:</font></strong>\n",
        "\n",
        "Tenemos un DataFrame llamado \"df\" y queremos construir un gráfico de barras apiladas que muestre las ventas por trimestre en relación con el método de pago de Zoop.\n",
        "\n",
        "En \"df\", tenemos las siguientes columnas:\n",
        "* fecha: con las fechas de las compras en formato datetime (`aaaa-mm-dd`)\n",
        "* facturacion: con los valores de las ventas\n",
        "* metodo_pago: con el método de pago elegido en la compra\n",
        "\n",
        "Deseamos crear una visualización que muestre las ventas por trimestre, agrupando los métodos de pago de cada trimestre correspondientes a cada compra.\n",
        "\n",
        "Utiliza las bibliotecas de visualización de datos de Python para crear esta visualización.\n"
      ],
      "metadata": {
        "id": "JblkLnxXWEO-"
      }
    },
    {
      "cell_type": "code",
      "source": [],
      "metadata": {
        "id": "guwcgCqk-EQG"
      },
      "execution_count": null,
      "outputs": []
    },
    {
      "cell_type": "code",
      "source": [],
      "metadata": {
        "id": "90Opj9e4-FPX"
      },
      "execution_count": null,
      "outputs": []
    },
    {
      "cell_type": "markdown",
      "source": [
        "<font color=\"7b71ff\" size=4> Comentarios: </font>\n",
        "\n",
        "---\n",
        "\n",
        "El gráfico de columnas apiladas añade a la comparación entre períodos o categorías, la comparación también entre los datos de cada período/categoría. Es como si pusiéramos una \"lupa\" en cada columna y visualizáramos la composición de cada una de acuerdo con la variable deseada (aquí, las formas de pago).\n",
        "\n",
        "Siéntete libre de formular algunas hipótesis sobre las ventas por trimestre combinadas con el tipo de pago y qué ideas podemos obtener de esta base de datos.\n"
      ],
      "metadata": {
        "id": "qSypZ_2bmp_j"
      }
    },
    {
      "cell_type": "markdown",
      "source": [
        "## **3.1 - Componiendo datos estáticos**\n",
        "\n",
        "---"
      ],
      "metadata": {
        "id": "F4d02EQgm57o"
      }
    },
    {
      "cell_type": "markdown",
      "source": [
        "Inicialmente, presentaremos un ejemplo de cómo podemos utilizar la comparación de datos estáticos, es decir, un recorte en el tiempo o de las variables que poseemos."
      ],
      "metadata": {
        "id": "AlNZXGe4nB9V"
      }
    },
    {
      "cell_type": "markdown",
      "source": [
        "### **5ª Pregunta:** ¿Cuál es la proporción de la clientela que participa en nuestro programa de cashback?"
      ],
      "metadata": {
        "id": "K1Zd-qB0nG4y"
      }
    },
    {
      "cell_type": "markdown",
      "source": [
        "> #### <strong><font color=\"7b71ff\" size=6>Prompt:</font></strong>\n",
        "\n",
        "Tenemos un DataFrame llamado \"df\" y queremos construir un gráfico que muestre la proporción de usuarios(as) que están participando en el programa de cashback de Zoop.\n",
        "\n",
        "En \"df\", tenemos la columna \"cashback\" que contiene estos datos.\n",
        "\n",
        "Utiliza las bibliotecas de visualización de datos de Python para crear esta visualización.\n"
      ],
      "metadata": {
        "id": "BMMcUocynuHZ"
      }
    },
    {
      "cell_type": "code",
      "source": [],
      "metadata": {
        "id": "0GkWNql096-W"
      },
      "execution_count": null,
      "outputs": []
    },
    {
      "cell_type": "code",
      "source": [],
      "metadata": {
        "id": "zgGt0j7B96yz"
      },
      "execution_count": null,
      "outputs": []
    },
    {
      "cell_type": "markdown",
      "source": [
        "> #### <strong><font color=\"7b71ff\" size =6>Prompt:</font></strong>\n",
        "\n",
        "¿Podrías utilizar el color rojo y mantener el azul y cambiar el gráfico anterior a uno tipo rosquilla?\n",
        "\n",
        "Utiliza las bibliotecas de visualización de datos de Python para crear esta visualización.\n"
      ],
      "metadata": {
        "id": "PobyxvuVoJcs"
      }
    },
    {
      "cell_type": "code",
      "source": [],
      "metadata": {
        "id": "IFLDq1fR94iG"
      },
      "execution_count": null,
      "outputs": []
    },
    {
      "cell_type": "code",
      "source": [],
      "metadata": {
        "id": "W2RPn0R994dT"
      },
      "execution_count": null,
      "outputs": []
    },
    {
      "cell_type": "markdown",
      "source": [
        "<font color=\"7b71ff\" size=4> Comentarios: </font>\n",
        "\n",
        "---\n",
        "\n",
        "¡Mira eso! Una vez más, la IA nos presentó una buena idea de qué gráfico aplicar para este caso, pero ¿notaste que \"ella\" no tiene idea de los datos que poseemos?\n",
        "\n",
        "Debemos estar atentos a esto, ya que solo le proporcionamos los nombres de las columnas y los datos que había allí. La IA no puede saber si un valor es positivo o negativo, por ejemplo. Por eso, el \"no\" estaba en azul y el \"sí\" en verde. En el siguiente prompt, le indicamos que sustituyera el color verde por el rojo (sin mencionar el valor real de los datos) y pedimos una modificación en el visual.\n",
        "\n",
        "¿Qué tal si experimentas hacer otros pedidos y ves cómo se comporta ChatGPT?\n",
        "\n",
        "Hablando del gráfico, los gráficos de sectores son ideales para pocas categorías de datos, preferiblemente datos dicotómicos (2 categorías, como sí y no, gato y perro...). Representan la proporción de los datos de manera estática."
      ],
      "metadata": {
        "id": "8l2x5b6hp599"
      }
    },
    {
      "cell_type": "markdown",
      "source": [
        "## **3.2 - Distribuyendo Datos**\n",
        "\n",
        "---\n"
      ],
      "metadata": {
        "id": "SNbkQrsFqFNk"
      }
    },
    {
      "cell_type": "markdown",
      "source": [
        "Con la ayuda de la IA, generaremos más gráficos que serán importantes para la construcción del storytelling del informe de Zoop, según lo solicitado. Ahora, partiendo de la distribución de datos, vamos a analizar el perfil de los clientes y cómo evalúan sus compras en Zoop."
      ],
      "metadata": {
        "id": "Ug_Y1GAoqTzO"
      }
    },
    {
      "cell_type": "markdown",
      "source": [
        "### **6ª Pregunta:** ¿Cómo están distribuidas las calificaciones de la compra? ¿Tenemos buenos números en general?  \n"
      ],
      "metadata": {
        "id": "U_N9EmtCqX2h"
      }
    },
    {
      "cell_type": "markdown",
      "source": [
        "Vamos a pedirle a ChatGPT que nos ayude a construir este visual. Veamos si esta IA puede representar estos datos con un visual adecuado."
      ],
      "metadata": {
        "id": "EF6gJ5-UqxPO"
      }
    },
    {
      "cell_type": "markdown",
      "source": [
        "> #### <strong><font color=\"7b71ff\" size=6>Prompt:</font></strong>\n",
        "\n",
        "Tenemos un DataFrame llamado \"df\" y queremos construir un gráfico que muestre la distribución de las evaluaciones del público en relación con las compras realizadas en la tienda online.\n",
        "\n",
        "En \"df\", tenemos la columna \"nota\" con las calificaciones otorgadas por cada usuario en relación con la compra que realizaron, que varían de 0 a 10 en números enteros.\n",
        "\n",
        "Deseamos crear una visualización que muestre la distribución de estos datos.\n",
        "\n",
        "Utiliza las bibliotecas de visualización de datos de Python para crear este gráfico.\n"
      ],
      "metadata": {
        "id": "zx_gd4sDrJif"
      }
    },
    {
      "cell_type": "code",
      "source": [],
      "metadata": {
        "id": "2T2Oli-291qg"
      },
      "execution_count": null,
      "outputs": []
    },
    {
      "cell_type": "code",
      "source": [],
      "metadata": {
        "id": "vOEZcqg592nl"
      },
      "execution_count": null,
      "outputs": []
    },
    {
      "cell_type": "markdown",
      "source": [
        "<font color=\"7b71ff\" size=4> Comentarios: </font>\n",
        "\n",
        "---\n",
        "\n",
        "Una vez más, no necesitamos especificar directamente el tipo de gráfico, ya que al mencionar la distribución de valores numéricos de una simple columna, ChatGPT logró interpretar y proporcionar el código para un histograma de columnas. Este gráfico es ideal para presentar la distribución de una muestra de datos o población. Cada columna aquí representa la frecuencia de repetición de un valor.\n",
        "\n",
        "¿Te gustaría experimentar haciendo lo mismo solo con las edades?\n"
      ],
      "metadata": {
        "id": "HPkcf36FruTa"
      }
    },
    {
      "cell_type": "markdown",
      "source": [
        "### **7ª Pregunta:** ¿Cómo está distribuida nuestra audiencia por edad y sexo biológico? ¿Existe algún grupo que sobresalga?\n"
      ],
      "metadata": {
        "id": "4rCwNOpor_3f"
      }
    },
    {
      "cell_type": "markdown",
      "source": [
        "> #### <strong><font color=\"7b71ff\" size=6>Prompt:</font></strong>\n",
        "\n",
        "Tenemos un DataFrame llamado \"df\" y queremos construir un gráfico que muestre la distribución de nuestra audiencia por edad y sexo biológico.\n",
        "\n",
        "En \"df\", tenemos las columnas:\n",
        "* edad: edad de la persona que realizó la compra\n",
        "* sexo_biologico: sexo biológico de la persona que realizó la compra, con datos categóricos\n",
        "\n",
        "Deseamos crear una visualización que muestre la distribución de estos datos.\n",
        "\n",
        "Utiliza las bibliotecas de visualización de datos de Python para crear esta visualización.\n"
      ],
      "metadata": {
        "id": "KcN5kO0IsL3j"
      }
    },
    {
      "cell_type": "code",
      "source": [],
      "metadata": {
        "id": "VG2IJpls9y8e"
      },
      "execution_count": null,
      "outputs": []
    },
    {
      "cell_type": "code",
      "source": [],
      "metadata": {
        "id": "VQJ0ru5z9zce"
      },
      "execution_count": null,
      "outputs": []
    },
    {
      "cell_type": "markdown",
      "source": [
        "<font color=\"7b71ff\" size=4> Comentarios: </font>\n",
        "\n",
        "---\n",
        "El gráfico generado es poco práctico, ya que compila los datos del sexo biológico 'Masculino' y 'Femenino' en el gráfico de violín. Necesitamos darle una instrucción adicional a GPT para elegir un visual más adecuado.\n"
      ],
      "metadata": {
        "id": "E4paklFNtAcj"
      }
    },
    {
      "cell_type": "markdown",
      "source": [
        "> #### <strong><font color=\"7b71ff\" size=6>Prompt:</font></strong>\n",
        "\n",
        "Creo que podemos mejorar este gráfico. ¿Qué te parece cambiar a un boxplot?\n"
      ],
      "metadata": {
        "id": "aLtugLAptYov"
      }
    },
    {
      "cell_type": "code",
      "source": [],
      "metadata": {
        "id": "Jqqz4TlQ9v6q"
      },
      "execution_count": null,
      "outputs": []
    },
    {
      "cell_type": "code",
      "source": [],
      "metadata": {
        "id": "PAqCODSk9xBY"
      },
      "execution_count": null,
      "outputs": []
    },
    {
      "cell_type": "markdown",
      "source": [
        "<font color=\"7b71ff\" size=4> Comentarios: </font>\n",
        "\n",
        "---\n",
        "\n",
        "Esta vez fue necesario guiar a la IA para generar una visualización mejor para nuestros análisis.\n",
        "\n",
        "El gráfico representado es un boxplot (diagrama de caja) que es ideal para representar un conjunto de datos de acuerdo con 5 medidas de interés: valor máximo, mínimo, 1º cuartil (donde están situados el 25% de los datos), 2º cuartil o mediana (donde están situados el 50% de los datos) y 3º cuartil (donde están situados el 75% de los datos).\n",
        "\n",
        "¿Recuerdas el `describe()`? Este gráfico presenta en un solo elemento gran parte de los datos que la función muestra en tabla.\n",
        "\n",
        "Concluimos la 1ª versión de los 7 visuales que utilizaremos en nuestro proyecto. Ahora, pasaremos a la aplicación de las técnicas de storytelling para mejorar los visuales y adaptarlos a la identidad visual de Zoop antes de la exportación.\n"
      ],
      "metadata": {
        "id": "9zx_z6_atzI1"
      }
    },
    {
      "cell_type": "markdown",
      "source": [
        "## **4.1 - Definiendo los colores del proyecto**\n",
        "\n",
        "---\n"
      ],
      "metadata": {
        "id": "iY_2Eyb_t5eJ"
      }
    },
    {
      "cell_type": "markdown",
      "source": [
        "Ahora, vamos a explorar la importancia de los colores en la visualización de datos, discutir cómo las personas perciben e interpretan la información visual, y abordar la diferencia entre la capacidad de la inteligencia artificial y la visión humana en lo que respecta a la elección de colores y accesibilidad.\n",
        "\n"
      ],
      "metadata": {
        "id": "O2A2lR9Rudzm"
      }
    },
    {
      "cell_type": "markdown",
      "source": [
        "### Paleta de colores de Zoop:"
      ],
      "metadata": {
        "id": "Pk3CRrLIujxQ"
      }
    },
    {
      "cell_type": "markdown",
      "source": [
        "<img src=\"https://raw.githubusercontent.com/alura-cursos/ia-datascience-dataviz/main/imagens/paleta_cores/zoop_paleta_cores.png\" alt=\"inserir alt\" width=480>\n",
        "\n",
        "&nbsp;\n",
        "\n",
        "#### Paleta del proyecto\n",
        "\n",
        "|Rojo|||\n",
        "|------|------|------|\n",
        "| Rojo_1 |Rojo_2 |Rojo_3 |\n",
        "|#e23155 | #cc2c4e| #b32742 |\n",
        "| ![adicionar desc](https://raw.githubusercontent.com/alura-cursos/ia-datascience-dataviz/main/imagens/paleta_cores/VERMELHO_1.png)  |![adicionar desc](https://raw.githubusercontent.com/alura-cursos/ia-datascience-dataviz/main/imagens/paleta_cores/VERMELHO_2.png) |![adicionar desc](https://raw.githubusercontent.com/alura-cursos/ia-datascience-dataviz/main/imagens/paleta_cores/VERMELHO_3.png) |\n",
        "\n",
        "&nbsp;\n",
        "\n",
        "|Azul|||\n",
        "|------|------|------|\n",
        "| AZUL_1 |AZUL_2 |AZUL_3 |\n",
        "|#203f75 | #1c3867| #19325b |\n",
        "| ![adicionar desc](https://raw.githubusercontent.com/alura-cursos/ia-datascience-dataviz/main/imagens/paleta_cores/AZUL_1.png)  |![adicionar desc](https://raw.githubusercontent.com/alura-cursos/ia-datascience-dataviz/main/imagens/paleta_cores/AZUL_2.png) |![adicionar desc](https://raw.githubusercontent.com/alura-cursos/ia-datascience-dataviz/main/imagens/paleta_cores/AZUL_3.png) |\n",
        "\n",
        "&nbsp;\n",
        "\n",
        "|Gris||||||\n",
        "|------|------|------|------|------|------|\n",
        "|BLANCO| GRIS_1 |GRIS_2 |GRIS_3 |GRIS_4 |GRIS_5 |\n",
        "|#ffffff | #ebebeb | #d9d9d9| #cccccc | #555655| #231f20 |\n",
        "| ![adicionar desc](https://raw.githubusercontent.com/alura-cursos/ia-datascience-dataviz/main/imagens/paleta_cores/BRANCO.png)  |![adicionar desc](https://raw.githubusercontent.com/alura-cursos/ia-datascience-dataviz/main/imagens/paleta_cores/CINZA_1.png) |![adicionar desc](https://raw.githubusercontent.com/alura-cursos/ia-datascience-dataviz/main/imagens/paleta_cores/CINZA_2.png) |![adicionar desc](https://raw.githubusercontent.com/alura-cursos/ia-datascience-dataviz/main/imagens/paleta_cores/CINZA_3.png) |![adicionar desc](https://raw.githubusercontent.com/alura-cursos/ia-datascience-dataviz/main/imagens/paleta_cores/CINZA_4.png)|![adicionar desc](https://raw.githubusercontent.com/alura-cursos/ia-datascience-dataviz/main/imagens/paleta_cores/CINZA_5.png)|\n",
        "\n",
        "&nbsp;\n",
        "\n",
        "|Aqua|||\n",
        "|------|------|------|\n",
        "| AQUA_1 |AQUA_2 |AQUA_3 |\n",
        "|#addcd4 | #9fccc5| #96bfb9 |\n",
        "| ![adicionar desc](https://raw.githubusercontent.com/alura-cursos/ia-datascience-dataviz/main/imagens/paleta_cores/AQUA_1.png)  |![adicionar desc](https://raw.githubusercontent.com/alura-cursos/ia-datascience-dataviz/main/imagens/paleta_cores/AQUA_2.png) |![adicionar desc](https://raw.githubusercontent.com/alura-cursos/ia-datascience-dataviz/main/imagens/paleta_cores/AQUA_3.png) |\n",
        "\n",
        "&nbsp;\n"
      ],
      "metadata": {
        "id": "46BuOvoyvZDR"
      }
    },
    {
      "cell_type": "code",
      "source": [
        "# Adicionamos los colores al proyecto\n",
        "ROJO_1,\tROJO_2,\tROJO_3 = \"#e23155\",\t\"#cc2c4e\", \"#b32742\"\n",
        "AZUL_1,\tAZUL_2,\tAZUL_3 = \"#203f75\",\t\"#1c3867\", \"#19325b\"\n",
        "BLANCO,GRIS_1, GRIS_2, GRIS_3, GRIS_4,\tGRIS_5 = \"#ffffff\", \"#ebebeb\",\t\"#d9d9d9\", \"#cccccc\", \"#555655\", \"#231f20\"\n",
        "AQUA_1,\tAQUA_2,\tAQUA_3 = \"#addcd4\",\t\"#9fccc5\", \"#96bfb9\""
      ],
      "metadata": {
        "id": "Me629U_iwEky"
      },
      "execution_count": null,
      "outputs": []
    },
    {
      "cell_type": "markdown",
      "source": [
        "<font size=5> ***¿Por qué definimos nosotros mismos los colores del proyecto?*** </font>\n"
      ],
      "metadata": {
        "id": "FKvxEoocwe0h"
      }
    },
    {
      "cell_type": "markdown",
      "source": [
        "1. **Percepción humana de los colores:**\n",
        "\n",
        "Nuestro cerebro interpreta los colores de manera única, asociando emociones y significados a cada tonalidad. Es importante, al elegir los colores para representar datos, considerar la percepción humana para asegurar que la información se transmita de manera clara y eficaz. Además de seguir la identidad visual de Zoop, es decir, dar esa sensación de que el visual es de Zoop.\n",
        "\n",
        "2. **Accesibilidad:**\n",
        "\n",
        "Ciertas combinaciones de colores pueden ser difíciles de percibir para personas con deficiencias visuales. Nuestra responsabilidad como desarrolladores es garantizar que nuestras visualizaciones sean inclusivas. Aquí seguiremos algunas directrices y recomendaciones para crear gráficos accesibles.\n",
        "\n",
        "3. **IA vs. elección de colores:**\n",
        "\n",
        "Mientras que la IA puede realizar tareas complejas, como análisis de datos y reconocimiento de patrones, aún no posee el discernimiento humano cuando se trata de elegir colores significativos y garantizar la accesibilidad. Aquí es donde entra nuestra intervención creativa y consideración humana.\n",
        "\n",
        "4. **Experiencia visual:**\n",
        "\n",
        "¿Las personas pueden entender la información transmitida por los gráficos? ¿Existe algún \"conflicto\" entre los colores que perjudica la claridad del mensaje? Vamos a explorar técnicas para mejorar la experiencia visual, como el contraste adecuado, la elección cuidadosa de los colores de la paleta y el destaque de elementos clave.\n",
        "\n",
        "¿Vamos ahora a sumergirnos en la práctica e incorporar estos conceptos a nuestro proyecto?\n"
      ],
      "metadata": {
        "id": "Ow7ELrgow1h8"
      }
    },
    {
      "cell_type": "markdown",
      "source": [
        "## **4.2 - Añadiendo etiquetas y rótulos**"
      ],
      "metadata": {
        "id": "uMM8DVcByPe3"
      }
    },
    {
      "cell_type": "markdown",
      "source": [
        "Ya hemos creado anteriormente los 7 visuales y definido los colores del proyecto. Ahora, vamos a elegir solo uno de los visuales para comprender cómo podemos utilizar la IA para agregar los colores ideales, las etiquetas de los datos, títulos y etiquetas de los ejes.\n",
        "\n",
        "Entonces, tomaremos el código de ese primer gráfico (Métodos de pago utilizados) y exploraremos estos cambios a través de la utilización de la IA."
      ],
      "metadata": {
        "id": "eUirAlyP66lC"
      }
    },
    {
      "cell_type": "code",
      "source": [],
      "metadata": {
        "id": "FrvfCM5c9irn"
      },
      "execution_count": null,
      "outputs": []
    },
    {
      "cell_type": "code",
      "source": [],
      "metadata": {
        "id": "hXV8LKx-9kNb"
      },
      "execution_count": null,
      "outputs": []
    },
    {
      "cell_type": "markdown",
      "source": [
        "<strong><font color=\"7b71ff\" size =6>Prompt:</font></strong>\n",
        "\n",
        "Ahora llegó el momento de refinar nuestras visualizaciones. Comencemos con el primer gráfico que hicimos, el de los métodos de pago.\n",
        "\n",
        "Nuestro gráfico necesita seguir la identidad visual de Zoop, con el fondo de la figura y del gráfico en el color GRIS_1, las columnas en el color ROJO_1 y el tamaño de la figura debe ser de (10, 6).\n",
        "\n",
        "El título de la figura es \"Métodos de pago más utilizados en 2023\" con tamaño 18 y su color GRIS_5.\n",
        "\n",
        "Las etiquetas del eje y (yticks) deben ser suprimidas así como la etiqueta del eje y (ylabel) y las etiquetas, y la etiqueta del eje x (xticks y xlabel) deben tener tamaño 12 con el color AZUL_1. Los bordes superior, derecho e izquierdo del gráfico deben ser suprimidos.\n",
        "\n",
        "Además, es necesario mostrar el total de cada método de pago encima de cada columna, con el texto también en el color AZUL_1 y tamaño 12.\n",
        "\n",
        "Utiliza las bibliotecas de visualización de datos de Python para crear esta visualización. Recuerda que las variables de los colores que estamos utilizando tienen valores de colores ya en hexadecimal."
      ],
      "metadata": {
        "id": "Y7M7NxMO-zpp"
      }
    },
    {
      "cell_type": "code",
      "source": [],
      "metadata": {
        "id": "sFcS3Yq-9gca"
      },
      "execution_count": null,
      "outputs": []
    },
    {
      "cell_type": "code",
      "source": [],
      "metadata": {
        "id": "XxX_MQCR9hub"
      },
      "execution_count": null,
      "outputs": []
    },
    {
      "cell_type": "markdown",
      "source": [
        "<font color=\"7b71ff\" size=4> Comentarios: </font>\n",
        "\n",
        "---\n",
        "¡Vaya! Parece otro gráfico, ¿verdad?\n",
        "\n",
        "Eliminamos muchos elementos distractores y añadimos solo la información que nos interesaba. Además, cambiamos el diseño de un estado genérico a un formato que se ajusta a la identidad de Zoop, dejando nuestro gráfico listo para ser utilizado, por ejemplo, en el informe de ventas.\n",
        "\n",
        "Más adelante aplicaremos estas acciones a los otros visuales. Nuestro enfoque aquí es entender las técnicas de storytelling y cómo combinarlas con la IA puede ser bastante útil.\n"
      ],
      "metadata": {
        "id": "NDFhZh_SBDlK"
      }
    },
    {
      "cell_type": "markdown",
      "source": [
        "## **4.3 - Añadiendo textos**\n",
        "\n",
        "---\n"
      ],
      "metadata": {
        "id": "wy6Gl_00BN8y"
      }
    },
    {
      "cell_type": "markdown",
      "source": [
        "Ya hemos refinado uno de los gráficos en la etapa anterior. Ahora, vamos a traer ese gráfico, añadiendo un elemento más que puede ser importante para los análisis: textos informativos. Utilizaremos la IA nuevamente para este proceso."
      ],
      "metadata": {
        "id": "Z-sK2ZcFBfB9"
      }
    },
    {
      "cell_type": "markdown",
      "source": [
        "> #### <strong><font color=\"7b71ff\" size =6>Prompt:</font></strong>\n",
        "\n",
        "¡El gráfico quedó muy bien!\n",
        "\n",
        "Ahora quiero añadir un texto dentro del área del gráfico, ¿vamos allá?\n",
        "\n",
        "Para ello, suma los valores de las dos primeras columnas, divide por la suma de todas las columnas y convierte a formato de porcentaje, almacenando en la variable \"porcentaje\".\n",
        "\n",
        "Ahora, en la posición x=1.5 y y=2500, añade el siguiente texto con tamaño 10 y color AZUL_3: f\"$\\\\bf{porcentaje:.2f}$% de los clientes utilizan Tarjeta de Crédito o Transferencia \\npara el pago. Sería interesante considerar asociaciones con \\nbancos para la creación de un Zoop Pay con el fin de fidelizar \\na nuestra clientela.\"."
      ],
      "metadata": {
        "id": "rA4Nrw1cBi88"
      }
    },
    {
      "cell_type": "code",
      "source": [],
      "metadata": {
        "id": "Yn00W8j79Zqa"
      },
      "execution_count": null,
      "outputs": []
    },
    {
      "cell_type": "code",
      "source": [],
      "metadata": {
        "id": "JyOzs6s59cjw"
      },
      "execution_count": null,
      "outputs": []
    },
    {
      "cell_type": "markdown",
      "source": [
        "<font color=\"7b71ff\" size=4> Comentarios: </font>\n",
        "\n",
        "---\n",
        "\n",
        "Aprovechamos el área útil para presentar una *idea* que tuvimos al describir los datos de los métodos de pago. Esto aumenta significativamente la relevancia de los datos representados y proporciona más información a quien lo lee.\n"
      ],
      "metadata": {
        "id": "i-gjTFXiCa6l"
      }
    },
    {
      "cell_type": "markdown",
      "source": [
        "## **4.4 - Agregar elementos visuales**\n",
        "\n",
        "---\n"
      ],
      "metadata": {
        "id": "iDkaLxz4ChsD"
      }
    },
    {
      "cell_type": "markdown",
      "source": [
        "¿Qué tal el uso de textos informativos, verdad? ¿Y si ahora añadimos otros elementos visuales a uno de nuestros gráficos?\n",
        "\n",
        "Vamos a elegir ahora el gráfico de líneas (Ventas totales mensuales de Zoop) y aplicar una técnica más a él mediante el uso de la IA.\n"
      ],
      "metadata": {
        "id": "d0u1EJ6KC1b1"
      }
    },
    {
      "cell_type": "code",
      "source": [],
      "metadata": {
        "id": "XsIYrUqW9UgH"
      },
      "execution_count": null,
      "outputs": []
    },
    {
      "cell_type": "code",
      "source": [],
      "metadata": {
        "id": "Lye9rKE-9V8S"
      },
      "execution_count": null,
      "outputs": []
    },
    {
      "cell_type": "markdown",
      "source": [
        "> #### <strong><font color=\"7b71ff\" size =6>Prompt:</font></strong>\n",
        "\n",
        "¿Vamos a explorar otro de los gráficos que hicimos? Ahora vamos a utilizar el de Ventas totales mensuales de Zoop. La variable que pasa los valores mensuales es:\n",
        "```\n",
        "ventas_mensuales = df.groupby(df['fecha'].dt.to_period('M'))['facturacion'].sum().reset_index()\n",
        "```\n",
        "Pero debes sustituirla por:\n",
        "```\n",
        "df['mes'] = df['fecha'].dt.strftime('%B')\n",
        "ventas_mensuales = df.groupby('mes')['facturacion'].sum().reindex(meses.keys())\n",
        "```\n",
        "En el que `df['fecha']` corresponde a las fechas en formato datetime y `df['facturacion']` a los valores de las ventas.\n",
        "\n",
        "Y lo que generó el gráfico original fue:\n",
        "\n",
        "```\n",
        "sns.lineplot(x='mes', y='facturacion', data=ventas_mensuales, marker='o', sort=False)\n",
        "```\n",
        "Pero debes utilizar únicamente la biblioteca matplotlib con la creación del gráfico siguiendo este ejemplo:\n",
        "\n",
        "```\n",
        "plt.plot(ventas_mensuales.index, ventas_mensuales, marker='o', color='#1890FF', linewidth=2)\n",
        "```\n",
        "\n",
        "Nuestro gráfico debe seguir la identidad visual de Zoop, con el fondo de la figura y del gráfico en color GRIS_1, la línea en color AZUL_1 y el tamaño de la figura debe ser de (12, 6).\n",
        "\n",
        "El título de la figura es \"Ventas totales mensuales en 2023\" con tamaño 18 y su color GRIS_5.\n",
        "\n",
        "Las etiquetas del eje y (yticks) deben estar en el formato \"MXN$ valor M\" con dos decimales, tamaño 12 y color AZUL_1.\n",
        "\n",
        "Las etiquetas del eje X (xticks) deben tener tamaño 12 con color AZUL_1. Los labels de los ejes x e y (xlabel e ylabel) deben ser suprimidos. Los bordes del gráfico en la parte superior y el lado derecho deben ser suprimidos.\n",
        "\n",
        "Utiliza las bibliotecas de visualización de datos de Python para crear esta visualización. Recuerda que las variables de colores que estamos utilizando tienen valores de colores ya en hexadecimal.\n"
      ],
      "metadata": {
        "id": "OW7diglQDdZS"
      }
    },
    {
      "cell_type": "code",
      "source": [],
      "metadata": {
        "id": "qCsO8Oh_9SkC"
      },
      "execution_count": null,
      "outputs": []
    },
    {
      "cell_type": "code",
      "source": [],
      "metadata": {
        "id": "JNAntiF09W1L"
      },
      "execution_count": null,
      "outputs": []
    },
    {
      "cell_type": "markdown",
      "source": [
        "> #### <strong><font color=\"7b71ff\" size =6>Prompt:</font></strong>\n",
        "\n",
        "¡Genial! Ahora que nuestro gráfico ya tiene la identidad visual, vamos a añadir algunos elementos visuales adicionales.\n",
        "\n",
        "Dibuja 4 círculos de radio 200, transparentes con el borde en color ROJO_1 y con el centro en las coordenadas del 5º, 8º, 11º y 12º puntos, respectivamente. A la izquierda de cada círculo enumera del 1 al 4.\n"
      ],
      "metadata": {
        "id": "2AwdD-waFPEX"
      }
    },
    {
      "cell_type": "code",
      "source": [],
      "metadata": {
        "id": "o5_JOMJd9Nhy"
      },
      "execution_count": null,
      "outputs": []
    },
    {
      "cell_type": "code",
      "source": [],
      "metadata": {
        "id": "O7GqzHlg9XWb"
      },
      "execution_count": null,
      "outputs": []
    },
    {
      "cell_type": "markdown",
      "source": [
        "<font color=\"7b71ff\" size=4> Comentarios: </font>\n",
        "\n",
        "---\n",
        "\n",
        "Hemos añadido 4 círculos que representan los puntos con mayor volumen de ventas de Zoop en 2023. Podemos plantear algunas hipótesis:\n",
        "\n",
        "1. En mayo, tenemos una de las fechas más relevantes en ventas: el Día de las Madres, lo que puede justificar el aumento en las ventas de Zoop.\n",
        "2. En agosto, hay una situación que pueden explicar el crecimiento: la vuelta a clases en el segundo semestre en algunos estados de Mexico.\n",
        "3. En noviembre, destaca la Black Friday, uno de los principales períodos de alta en las ventas, considerado de gran relevancia para el comercio minorista.\n",
        "4. En diciembre, tenemos  las festividades de Año Nuevo, consideradas el período de mayores ventas no solo para Zoop, sino para el comercio minorista en general.\n",
        "\n",
        "La recomendación es investigar más a fondo los datos y llegar a tus propias conclusiones.\n"
      ],
      "metadata": {
        "id": "IjV7mgbSF7HL"
      }
    },
    {
      "cell_type": "markdown",
      "source": [
        "Antes de ajustar los últimos 5 visuales de nuestro proyecto, vamos a hacer una pequeña modificación en los 2 primeros, convirtiéndolos en funciones, lo que facilitará más adelante cuando realicemos la exportación\n"
      ],
      "metadata": {
        "id": "ynaOuTScHfzi"
      }
    },
    {
      "cell_type": "markdown",
      "source": [
        "# **Clase 5 - Finalizando el proyecto**"
      ],
      "metadata": {
        "id": "NdXjUc-K6N0r"
      }
    },
    {
      "cell_type": "markdown",
      "source": [
        "Antes de ajustar los últimos 5 visuales de nuestro proyecto, haremos una pequeña modificación en los 2 primeros pasándolos a función, lo que facilitará más adelante cuando realicemos la exportación de los visuales.\n"
      ],
      "metadata": {
        "id": "nPd_trF36h7_"
      }
    },
    {
      "cell_type": "markdown",
      "source": [
        "### **Gráfico 1 - Métodos de pago más utilizados en 2023:**"
      ],
      "metadata": {
        "id": "2RnTvZsv8Ejs"
      }
    },
    {
      "cell_type": "code",
      "source": [],
      "metadata": {
        "id": "SsgOQNU68_qO"
      },
      "execution_count": null,
      "outputs": []
    },
    {
      "cell_type": "code",
      "source": [],
      "metadata": {
        "id": "mqqKAc3q8_i0"
      },
      "execution_count": null,
      "outputs": []
    },
    {
      "cell_type": "markdown",
      "source": [
        "### **Gráfico 2 - Total de ventas mensuales en 2023:**"
      ],
      "metadata": {
        "id": "7__1mu6pA5iX"
      }
    },
    {
      "cell_type": "code",
      "source": [],
      "metadata": {
        "id": "RIHH6PyH89ir"
      },
      "execution_count": null,
      "outputs": []
    },
    {
      "cell_type": "code",
      "source": [],
      "metadata": {
        "id": "zP_x0_QF89Ul"
      },
      "execution_count": null,
      "outputs": []
    },
    {
      "cell_type": "markdown",
      "source": [
        "Ahora que guardamos los 2 primeros gráficos en función, vamos a modificar uno más, **Facturación por categoría de producto en 2023**, utilizando las técnicas de storytelling que ya hemos aprendido.\n"
      ],
      "metadata": {
        "id": "j4QB6Ph8XyPt"
      }
    },
    {
      "cell_type": "markdown",
      "source": [
        "### **Gráfico 3 - Facturación por categoría de producto en 2023:**\n"
      ],
      "metadata": {
        "id": "cC-LvjjVYMXJ"
      }
    },
    {
      "cell_type": "markdown",
      "source": [
        "Vamos a continuar con los gráficos generados a lo largo de las clases, partiendo ahora del gráfico de facturación por categoría de producto aplicando las técnicas de storytelling que aprendimos aquí en el curso mediante el uso de la IA.\n"
      ],
      "metadata": {
        "id": "4vux7UVbYXLz"
      }
    },
    {
      "cell_type": "code",
      "source": [],
      "metadata": {
        "id": "ygY4gS5K87Zr"
      },
      "execution_count": null,
      "outputs": []
    },
    {
      "cell_type": "markdown",
      "source": [
        "> #### <strong><font color=\"7b71ff\" size=6>Prompt:</font></strong>\n",
        "\n",
        "¿Vamos a proceder con otro gráfico? Ahora, vamos refinar el gráfico de facturación por categoría. Recuerda que este gráfico fue de barras horizontales.\n",
        "\n",
        "El script original del gráfico es el siguiente:\n",
        "\n",
        "```python\n",
        "\n",
        "# 1. Calcular la facturación para cada compra\n",
        "df['facturacion'] = (df['precio_unitario'] * df['cantidad']) + df['envio']\n",
        "\n",
        "# 2. Agrupar por categoría y sumar la facturación\n",
        "facturacion_categoria = df.groupby('categoria')['facturacion'].sum().reset_index()\n",
        "\n",
        "# 3. Ordenar los datos por facturación de mayor a menor\n",
        "facturacion_categoria = facturacion_categoria.sort_values(by='facturacion', ascending=False)\n",
        "\n",
        "# 4. Crear el gráfico de barras horizontales\n",
        "plt.figure(figsize=(10, 6))\n",
        "sns.barplot(x='facturacion', y='categoria', data=facturacion_categoria, palette='viridis',orient='h')\n",
        "\n",
        "# 5. Añadir etiquetas y título\n",
        "plt.title('Facturación por Categoría de Producto', fontsize=16)\n",
        "plt.xlabel('Facturación (en MXN$)', fontsize=12)\n",
        "plt.ylabel('Categoría', fontsize=12)\n",
        "\n",
        "# 6. Mostrar el gráfico\n",
        "plt.show()\n",
        "```\n",
        "Nuestro gráfico debe seguir la identidad visual de Zoop, con el fondo de la figura y del gráfico en el color GRIS_1, las barras en el color AQUA_1 y el tamaño de la figura debe ser de (10, 6).\n",
        "\n",
        "El título de la figura es \"Facturación por categoría de producto en 2023\" con tamaño 18 y su color GRIS_5.\n",
        "\n",
        "Las etiquetas del eje x (xticks) deben ser suprimidas al igual que los labels de los ejes x y y (xlabel y ylabel), y las etiquetas del eje y (yticks) deben tener tamaño 12 con el color AZUL_1. Todas las bordes del gráfico deben ser suprimidas.\n",
        "\n",
        "Además, es necesario mostrar el total de la facturación de cada categoría al lado derecho de cada barra, con el texto también en color AZUL_1 y tamaño 12.\n",
        "\n",
        "También vamos a agregar un texto dentro del área del gráfico. Para ello, divide el valor de la 1ª barra entre la suma de todas las barras y conviértelo en un porcentaje, almacenándolo en la variable \"porcentaje\".\n",
        "\n",
        "Ahora, en la posición x = 0.4e7 y y = 5, agrega el siguiente texto con tamaño 12 y color AZUL_3: `f\"$\\\\bf{porcentaje:.2f}$% de las ventas corresponden únicamente a las ventas de Electrónica.\\nEsto equivale a casi el doble en relación con todas las demás categorías\\npresentes en el portafolio de Zoop.\"`.\n",
        "\n",
        "Utiliza las bibliotecas de visualización de datos de Python para crear esta visualización.\n"
      ],
      "metadata": {
        "id": "NQieRpg1h8zh"
      }
    },
    {
      "cell_type": "code",
      "source": [],
      "metadata": {
        "id": "95i11Mwu85gF"
      },
      "execution_count": null,
      "outputs": []
    },
    {
      "cell_type": "code",
      "source": [],
      "metadata": {
        "id": "lC5AgN8s85ZT"
      },
      "execution_count": null,
      "outputs": []
    },
    {
      "cell_type": "markdown",
      "source": [
        "<font color=\"7b71ff\" size=4> Comentarios: </font>\n",
        "\n",
        "---\n",
        "\n",
        "Hicimos con un solo prompt la inserción de las etiquetas, la modificación de los colores y añadimos un texto explicativo. Con la secuencia de explicaciones para ChatGPT, este reconoce algunos patrones en la construcción y genera parte del código incluso sin más detalles.\n"
      ],
      "metadata": {
        "id": "fhxRtCmbrpjM"
      }
    },
    {
      "cell_type": "markdown",
      "source": [
        "## **5.2 - Ajustando los visuales de composición**\n",
        "\n",
        "---\n"
      ],
      "metadata": {
        "id": "KsEbRFBXsVcV"
      }
    },
    {
      "cell_type": "markdown",
      "source": [
        "Ya hemos llegado a prácticamente la mitad de los gráficos refinados. Ahora, en este tema, ajustaremos 2 más aplicando las técnicas de storytelling que aprendimos aquí en el curso mediante el uso de la IA.\n"
      ],
      "metadata": {
        "id": "hMgOAYDnsfPQ"
      }
    },
    {
      "cell_type": "markdown",
      "source": [
        "### **Gráfico 4 - Ventas por trimestre y método de pago:**"
      ],
      "metadata": {
        "id": "KUwT_68wPtt7"
      }
    },
    {
      "cell_type": "code",
      "source": [],
      "metadata": {
        "id": "QX0rdGsW83ZL"
      },
      "execution_count": null,
      "outputs": []
    },
    {
      "cell_type": "markdown",
      "source": [
        "> #### <strong><font color=\"7b71ff\" size=6>Prompt:</font></strong>\n",
        "\n",
        "Ahora vamos con el gráfico de Ventas por Trimestre y Método de Pago que producimos anteriormente. Vamos a refinarlo usando las siguientes directrices.\n",
        "\n",
        "Recuerda que el script original del gráfico es el siguiente:\n",
        "```python\n",
        "\n",
        "# 1. Crear una nueva columna 'trimestre' que extrae el trimestre de la columna 'fecha'\n",
        "df['trimestre'] = df['fecha'].dt.to_period('Q')\n",
        "\n",
        "# 2. Agrupar los datos por trimestre y método de pago, sumando la facturación\n",
        "ventas_trimestre = df.groupby(['trimestre', 'metodo_pago'])['facturacion'].sum().unstack()\n",
        "\n",
        "# 3. Crear el gráfico de barras apiladas\n",
        "ventas_trimestre.plot(kind='bar', stacked=True, figsize=(10, 6), colormap='viridis')\n",
        "\n",
        "# 4. Añadir etiquetas y título\n",
        "plt.title('Ventas por Trimestre y Método de Pago', fontsize=16)\n",
        "plt.xlabel('Trimestre', fontsize=12)\n",
        "plt.ylabel('Facturación Total', fontsize=12)\n",
        "plt.xticks(rotation=0)  # Rotar las etiquetas del eje x para mayor claridad\n",
        "\n",
        "# 5. Mostrar el gráfico\n",
        "plt.legend(title='Método de Pago por trimestre de 2023')\n",
        "plt.tight_layout()\n",
        "plt.show()\n",
        "\n",
        "```\n",
        "\n",
        "Nuestro gráfico debe seguir la identidad visual de Zoop, con el fondo de la figura y del gráfico en el color GRIS_1 y el tamaño de la figura debe ser de (10, 6). La secuencia de colores de las columnas apiladas (palette) es [BLANCO, GRIS_3, GRIS_1, GRIS_3].\n",
        "\n",
        "El título de la figura es \"Ventas por Trimestre y Método de Pago en 2023\" con tamaño 18 y su color GRIS_5.\n",
        "\n",
        "Las etiquetas del eje x (xticks) deben estar a 0 grados y tener tamaño 12 con el color AZUL_1. Las etiquetas del eje y (yticks) deben estar en el formato f\"MXN$ valor M\" sin decimales y las etiquetas de los ejes x e y (xlabel e ylabel) deben ser suprimidas. Todos los bordes del gráfico deben ser suprimidos(['top','bottom','left','right]).\n",
        "\n",
        "También agrega una cuadrícula punteada en y.\n",
        "\n",
        "Utiliza las bibliotecas de visualización de datos de Python para crear esta visualización.\n"
      ],
      "metadata": {
        "id": "1krG9wE7zRrL"
      }
    },
    {
      "cell_type": "code",
      "source": [],
      "metadata": {
        "id": "KDQDgK1580-3"
      },
      "execution_count": null,
      "outputs": []
    },
    {
      "cell_type": "code",
      "source": [],
      "metadata": {
        "id": "i3rYEAqC8064"
      },
      "execution_count": null,
      "outputs": []
    },
    {
      "cell_type": "markdown",
      "source": [
        "<font color=\"7b71ff\" size=4> Comentarios: </font>\n",
        "\n",
        "---\n",
        "\n",
        "Ajustamos el gráfico de barras apiladas representando con colores más suaves los valores de los métodos de pago. Podemos notar cosas interesantes en este gráfico, como: el 2º y 4º trimestre siendo los momentos en que Zoop factura más con ventas, y también el aumento en los pagos de las compras realizadas por los clientes mediante tarjeta de crédito.\n"
      ],
      "metadata": {
        "id": "HJT8PZtF23f2"
      }
    },
    {
      "cell_type": "markdown",
      "source": [
        "### **Gráfico 5 - Clientes participantes del programa de cashback:**"
      ],
      "metadata": {
        "id": "xQaEH5ul3CPs"
      }
    },
    {
      "cell_type": "markdown",
      "source": [
        "Ahora ha llegado el momento del gráfico de sectores. Ya está bien encaminado, pero necesitamos realizar algunos ajustes.\n"
      ],
      "metadata": {
        "id": "StsTmw_i3N0q"
      }
    },
    {
      "cell_type": "code",
      "source": [],
      "metadata": {
        "id": "HPNBxhSh8yzy"
      },
      "execution_count": null,
      "outputs": []
    },
    {
      "cell_type": "markdown",
      "source": [
        "> #### <strong><font color=\"7b71ff\" size =6>Prompt:</font></strong>\n",
        "\n",
        "Ahora, vamos a refinar el gráfico de dona que produjimos para la proporción de usuarios que se adhieren al programa de cashback.\n",
        "\n",
        "Recuerda que el script original del gráfico es el siguiente:\n",
        "\n",
        "```python\n",
        "plt.figure(figsize=(6, 6))\n",
        "plt.pie(cashback_proporcion, labels=cashback_proporcion.index, autopct='%1.1f%%',\n",
        "        colors=['#FF6666', '#66b3ff'], startangle=90, explode=(0.05, 0), wedgeprops={'width': 0.4})\n",
        "\n",
        "# 3. Añadir título\n",
        "plt.title('Proporción de Usuarios Participando en el Programa de Cashback', fontsize=16)\n",
        "\n",
        "# 4. Mostrar el gráfico\n",
        "plt.axis('equal')  # Asegura que el gráfico sea un círculo\n",
        "plt.show()\n",
        "```\n",
        "\n",
        "Nuestro gráfico debe seguir la identidad visual de Zoop, con el fondo de la figura y del gráfico en el color GRIS_1, el color de la porción de valor \"No\" igual a GRIS_3, el color de la porción de valor \"Sí\" igual a AZUL_1 y el tamaño de la figura debe ser de (6, 6).\n",
        "\n",
        "El título de la figura es \"¿Participan en el programa de cashback?\" con un tamaño de 18 y su color GRIS_5.\n",
        "\n",
        "Las etiquetas de las porciones deben tener el mismo color que las porciones y un tamaño de 12, y los porcentajes deben estar en color BLANCO, también con un tamaño de 12.\n",
        "\n",
        "La propiedad de ancho de la dona (`wedgeprops`) debe ser de 0.4, la posición de los porcentajes dentro de la porción (`pctdistance`) debe ser de 0.8, el ángulo de inicio debe ser de 180 (`startangle`), y sin explosión de porciones.\n",
        "\n",
        "Utiliza las bibliotecas de visualización de datos de Python para crear esta visualización.\n"
      ],
      "metadata": {
        "id": "8MVLAZBb4l4Z"
      }
    },
    {
      "cell_type": "code",
      "source": [],
      "metadata": {
        "id": "3mTu1c-Y8wTi"
      },
      "execution_count": null,
      "outputs": []
    },
    {
      "cell_type": "code",
      "source": [],
      "metadata": {
        "id": "D8tlN45x8wP7"
      },
      "execution_count": null,
      "outputs": []
    },
    {
      "cell_type": "markdown",
      "source": [
        "<font color=\"7b71ff\" size=4> Comentarios: </font>\n",
        "\n",
        "---\n",
        "\n",
        "Hemos modificado otro gráfico, ahora el de dona, para representar la proporción de nuestros(as) clientes. Dimos mayor destaque al \"Sí\", utilizando el color como recurso de punto focal.\n"
      ],
      "metadata": {
        "id": "t-F0cRvT54ki"
      }
    },
    {
      "cell_type": "markdown",
      "source": [
        "## **5.3 - Ajustando los visuales de distribución**\n",
        "\n",
        "---\n"
      ],
      "metadata": {
        "id": "0W8lFf-U6N42"
      }
    },
    {
      "cell_type": "markdown",
      "source": [
        "Ahora vamos con los últimos 2 gráficos antes de la exportación de los visuales. Vamos a aplicar más técnicas de storytelling que aprendimos mediante el uso de la IA.\n"
      ],
      "metadata": {
        "id": "pk9VbSCp6v0g"
      }
    },
    {
      "cell_type": "markdown",
      "source": [
        "### **Gráfico 6 - Evaluaciones de los productos:**\n"
      ],
      "metadata": {
        "id": "ENCbI1v37u03"
      }
    },
    {
      "cell_type": "markdown",
      "source": [
        "Agora vamos para a distribuição das avaliações dos produtos em que criamos um histograma. Vamos adicionar mais um novo elemento visual e realizar alguns ajustes."
      ],
      "metadata": {
        "id": "t6Yp9lPW8SRp"
      }
    },
    {
      "cell_type": "code",
      "source": [],
      "metadata": {
        "id": "AoWfvsEL8uCL"
      },
      "execution_count": null,
      "outputs": []
    },
    {
      "cell_type": "markdown",
      "source": [
        "> #### <strong><font color=\"7b71ff\" size =6>Prompt:</font></strong>\n",
        "\n",
        "Ahora vamos con el gráfico de la Distribución de las Evaluaciones de Compra que produjimos anteriormente. Vamos a refinarlo usando las siguientes orientaciones.\n",
        "\n",
        "El script original que genera el gráfico es el siguiente:\n",
        "\n",
        "```python\n",
        "# 1. Configurar el tamaño del gráfico\n",
        "plt.figure(figsize=(10, 6))\n",
        "\n",
        "# 2. Crear el gráfico de distribución (histograma)\n",
        "sns.histplot(df['nota'], bins=11, kde=False, color='skyblue')\n",
        "\n",
        "# 3. Añadir etiquetas y título\n",
        "plt.title('Distribución de las Calificaciones de las Compras', fontsize=16)\n",
        "plt.xlabel('Calificación (0-10)', fontsize=12)\n",
        "plt.ylabel('Frecuencia', fontsize=12)\n",
        "\n",
        "# 4. Mostrar el gráfico\n",
        "plt.show()\n",
        "```\n",
        "\n",
        "Nuestro gráfico necesita seguir la identidad visual de Zoop, con el fondo de la figura y del gráfico en el color GRIS_1, el color de las columnas en ROJO_1 y el tamaño de la figura debe ser de (10, 6).\n",
        "\n",
        "El título de la figura es \"Distribución de las evaluaciones de las compras en 2023\" con tamaño 18 y su color GRIS_5.\n",
        "\n",
        "Las etiquetas del eje x (xticks) deben estar en el rango de 0 a 10 con 11 bins y tener tamaño 12 con el color AZUL_1. Las etiquetas del eje y (yticks) deben tener tamaño 12 con el color AZUL_1 y las etiquetas de los ejes x e y (xlabel e ylabel) también deben tener tamaño 12 con el color AZUL_1. Todos los bordes del gráfico deben ser suprimidos (['top', 'bottom', 'left', 'right']).\n",
        "\n",
        "El grid del eje y debe estar detrás del gráfico (`ax.set_axisbelow(True)`).\n",
        "\n",
        "Vamos a añadir una caja de anotación (`ax.annotate()`) con el fondo en color BLANCO y el borde en color GRIS_3 dentro del área del gráfico. El texto de la anotación es\n",
        "\n",
        "```python\n",
        "f\"Promedio de calificaciones = {df['nota'].mean().round(2)}\\n Calificación más común = {df['nota'].value_counts().idxmax()}\\n Frecuencia más común = {df['nota'].value_counts().max()}\"\n",
        "```\n",
        "\n",
        "en color AZUL_1. Añade la caja de anotación con el texto en la posición xytext=(2, 1800) y coloca una flecha, en color AZUL_1, saliendo de la caja hasta la posición xy=(8.7, 2250).\n",
        "\n",
        "Utiliza las bibliotecas de visualización de datos de Python para crear esta visualización.\n"
      ],
      "metadata": {
        "id": "9wauvnM5-8tl"
      }
    },
    {
      "cell_type": "code",
      "source": [],
      "metadata": {
        "id": "GggHmSJI8rBW"
      },
      "execution_count": null,
      "outputs": []
    },
    {
      "cell_type": "code",
      "source": [],
      "metadata": {
        "id": "CCEWR9S58q97"
      },
      "execution_count": null,
      "outputs": []
    },
    {
      "cell_type": "markdown",
      "source": [
        "<font color=\"7b71ff\" size=4> Comentarios: </font>\n",
        "\n",
        "---\n",
        "\n",
        "¡Una novedad más en nuestro gráfico! Añadimos la función de caja de anotaciones, que es muy útil para proporcionar información sobre los datos. Con ella es posible utilizar flechas como indicadores para destacar detalles.\n"
      ],
      "metadata": {
        "id": "xQZOKIRDBv00"
      }
    },
    {
      "cell_type": "markdown",
      "source": [
        "### **Gráfico 7 - Distribución del público por edad y sexo biológico:**\n"
      ],
      "metadata": {
        "id": "OvX96VEzB16Y"
      }
    },
    {
      "cell_type": "markdown",
      "source": [
        "Ahora vamos con nuestra última visualización.\n"
      ],
      "metadata": {
        "id": "A5-EoWVgCR28"
      }
    },
    {
      "cell_type": "code",
      "source": [],
      "metadata": {
        "id": "fATZ9ek88lCq"
      },
      "execution_count": null,
      "outputs": []
    },
    {
      "cell_type": "markdown",
      "source": [
        "> #### <strong><font color=\"7b71ff\" size =6>Prompt:</font></strong>\n",
        "\n",
        "Ahora vamos al gráfico de boxplot de la Distribución de la Edad por Sexo Biológico que produjimos anteriormente. Vamos a refinado usando las siguientes orientaciones.\n",
        "\n",
        "El script original que genera el gráfico es el siguiente:\n",
        "\n",
        "```python\n",
        "# 1. Configurar el tamaño del gráfico\n",
        "plt.figure(figsize=(10, 6))\n",
        "\n",
        "# 2. Crear el gráfico de boxplot\n",
        "sns.boxplot(x='sexo_biologico', y='edad', data=df, palette='Set2')\n",
        "\n",
        "# 3. Añadir etiquetas y título\n",
        "plt.title('Distribución de la Audiencia por Edad y Sexo Biológico', fontsize=16)\n",
        "plt.xlabel('Sexo Biológico', fontsize=12)\n",
        "plt.ylabel('Edad', fontsize=12)\n",
        "\n",
        "# 4. Mostrar el gráfico\n",
        "plt.show()\n",
        "```\n",
        "\n",
        "Nuestro gráfico debe seguir la identidad visual de Zoop, con el fondo de la figura y del gráfico en el color GRIS_1, y el tamaño de la figura debe ser de (10, 6).\n",
        "\n",
        "El título de la figura es \"Distribución de la Edad por Sexo Biológico de los  clientes\" con tamaño 18 y su color GRIS_5.\n",
        "\n",
        "La columna 'sexo_biologico' está representada en el eje x y la 'edad' en el eje y. La paleta de colores para los valores de x es [AZUL_1, AQUA_1].\n",
        "\n",
        "La etiqueta del eje x (xlabel) debe ser suprimida. Los rótulos del eje x y y (xticks y yticks) deben tener tamaño 12 con el color AZUL_1 y la etiqueta del eje y (ylabel) también debe tener tamaño 12 con el color AZUL_1. Todos los bordes del gráfico deben ser suprimidos y la cuadrícula del eje y debe estar detrás del gráfico (`ax.set_axisbelow(True)`).\n",
        "\n",
        "Vamos a agregar dos cajas de anotación (`ax.annotate()`) con el fondo en color BLANCO y el borde en color GRIS_3 dentro del área del gráfico.\n",
        "\n",
        "El texto de la primera anotación en color AZUL_1 es\n",
        "\n",
        "```python\n",
        "f\"Mínimo = df.groupby(\"sexo_biologico\")[\"edad\"].min()[1]\\n 1º quartil = df.groupby(\"sexo_biologico\")[\"edad\"].quantile(.25)[1]\\n 2º quartil = df.groupby(\"sexo_biologico\")[\"edad\"].median()[1]\\n 3º quartil = df.groupby(\"sexo_biologico\")[\"edad\"].quantile(.75)[1]\\n Máximo = df.groupby(\"sexo_biologico\")[\"edad\"].max()[1]\"\n",
        "```\n",
        "\n",
        "Agrega la caja de anotación con el texto en la posición xytext=(-0.4, 50) y coloca una flecha, en color AZUL_1, saliendo de la caja hasta la posición xy=(-0.1, 45).\n",
        "\n",
        "El texto de la segunda anotación en color AZUL_1 es\n",
        "\n",
        "```python\n",
        "f\"Mínimo = df.groupby(\"sexo_biologico\")[\"edad\"].min()[0]\\n 1º quartil = df.groupby(\"sexo_biologico\")[\"edad\"].quantile(.25)[0]\\n 2º quartil = df.groupby(\"sexo_biologico\")[\"edad\"].median()[0]\\n 3º quartil = df.groupby(\"sexo_biologico\")[\"edad\"].quantile(.75)[0]\\n Máximo = df.groupby(\"sexo_biologico\")[\"edad\"].max()[0]\"\n",
        "```\n",
        "\n",
        "\n",
        "Agrega la caja de anotación con el texto en la posición xytext=(0.6, 50) y coloca una flecha, en color AZUL_1, saliendo de la caja hasta la posición xy=(0.9, 45).\n",
        "\n",
        "Utiliza las bibliotecas de visualización de datos de Python para crear esta visualización.\n"
      ],
      "metadata": {
        "id": "u2WV7yloFTGp"
      }
    },
    {
      "cell_type": "code",
      "source": [],
      "metadata": {
        "id": "VwyrFJbh8iYq"
      },
      "execution_count": null,
      "outputs": []
    },
    {
      "cell_type": "code",
      "source": [],
      "metadata": {
        "id": "KokeV69t8iP-"
      },
      "execution_count": null,
      "outputs": []
    },
    {
      "cell_type": "markdown",
      "source": [
        "<font color=\"7b71ff\" size=4> Comentarios: </font>\n",
        "\n",
        "---\n",
        "\n",
        "Para nuestro último gráfico, creamos nuevamente el bloque de anotaciones señalando los valores que se muestran en un boxplot. Notamos que la distribución entre los clientes de sexo biológico masculino y femenino es bastante cercana, con solo un año de diferencia en el rango intercuartil (del 1º al 3º cuartil) en el caso del sexo biológico masculino. Zoop tiene en la mediana una clientela de 38 años de edad para ambos sexos.\n"
      ],
      "metadata": {
        "id": "hNRa4k9ABYTs"
      }
    },
    {
      "cell_type": "markdown",
      "source": [
        "## **5.4 - Exportando las visualizaciones**\n",
        "\n",
        "---\n",
        "\n"
      ],
      "metadata": {
        "id": "mTK8l5u7BlER"
      }
    },
    {
      "cell_type": "markdown",
      "source": [
        "¡Listo! Ahora que hemos finalizado los ajustes de todos los gráficos solicitados, generaremos un último código para exportar cada uno de los gráficos que transformamos en funciones en formato de imagen (PNG)."
      ],
      "metadata": {
        "id": "3tspl9LkCBcm"
      }
    },
    {
      "cell_type": "markdown",
      "source": [
        "<strong><font color=\"7b71ff\" size =6>Prompt:</font></strong>\n",
        "Ahora, vamos a nuestra última etapa: guardar las visualizaciones como imagen. Coloca cada uno de los gráficos que generamos dentro de una función y quiero que se aplique el siguiente procedimiento a cada una de ellas:\n",
        "\n",
        "```\n",
        "nombre_imagen = nombre_funcion()\n",
        "nombre_imagen.savefig('nombre_imagen.png', bbox_inches='tight')\n",
        "nombre_imagen.close()\n",
        "```\n",
        "Las funciones son:\n",
        "\n",
        "\n",
        "*   metodo_pago()\n",
        "*   ventas_mensuales()\n",
        "*   facturacion_por_categoria()\n",
        "*   ventas_por_trimestre()\n",
        "*   proporcion_cashback()\n",
        "*   distribucion_calificaciones()\n",
        "*   box_plot_edad_sexo()\n",
        "\n",
        "Reemplaza la variable \"nombre_imagen\" por \"grafico_\" seguido del nombre de la función que genera el gráfico.\n",
        "\n",
        "Utiliza el lenguaje Python para crear el código y no mostrar las imágenes."
      ],
      "metadata": {
        "id": "csUc52BgCb7C"
      }
    },
    {
      "cell_type": "code",
      "source": [],
      "metadata": {
        "id": "E8MJHMN98ewE"
      },
      "execution_count": null,
      "outputs": []
    },
    {
      "cell_type": "markdown",
      "source": [
        "¡Ahora es tu turno! ¿Qué tal descargar los gráficos y generar un informe con algunos insights y explicando los resultados?\n",
        "\n",
        "¡Espero que hayas disfrutado este curso y saques el máximo provecho del contenido!"
      ],
      "metadata": {
        "id": "kTJalNIIDsyA"
      }
    }
  ]
}